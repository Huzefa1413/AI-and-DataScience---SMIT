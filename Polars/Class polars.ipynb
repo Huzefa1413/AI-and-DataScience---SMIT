{
 "cells": [
  {
   "cell_type": "code",
   "execution_count": 1,
   "id": "11396745",
   "metadata": {},
   "outputs": [
    {
     "name": "stdout",
     "output_type": "stream",
     "text": [
      "Defaulting to user installation because normal site-packages is not writeable\n",
      "Collecting polars\n",
      "  Downloading polars-0.18.3-cp37-abi3-win_amd64.whl (19.3 MB)\n",
      "     -------------------------------------- 19.3/19.3 MB 458.5 kB/s eta 0:00:00\n",
      "Installing collected packages: polars\n",
      "Successfully installed polars-0.18.3\n"
     ]
    }
   ],
   "source": [
    "!pip install polars"
   ]
  },
  {
   "cell_type": "code",
   "execution_count": 3,
   "id": "977bde00",
   "metadata": {},
   "outputs": [],
   "source": [
    "import seaborn as sns\n",
    "import pandas as pd"
   ]
  },
  {
   "cell_type": "code",
   "execution_count": 4,
   "id": "3ce111ae",
   "metadata": {},
   "outputs": [],
   "source": [
    "df = sns.load_dataset('iris')"
   ]
  },
  {
   "cell_type": "code",
   "execution_count": 5,
   "id": "3d5892e7",
   "metadata": {},
   "outputs": [
    {
     "name": "stdout",
     "output_type": "stream",
     "text": [
      "<class 'pandas.core.frame.DataFrame'>\n",
      "RangeIndex: 150 entries, 0 to 149\n",
      "Data columns (total 5 columns):\n",
      " #   Column        Non-Null Count  Dtype  \n",
      "---  ------        --------------  -----  \n",
      " 0   sepal_length  150 non-null    float64\n",
      " 1   sepal_width   150 non-null    float64\n",
      " 2   petal_length  150 non-null    float64\n",
      " 3   petal_width   150 non-null    float64\n",
      " 4   species       150 non-null    object \n",
      "dtypes: float64(4), object(1)\n",
      "memory usage: 6.0+ KB\n"
     ]
    }
   ],
   "source": [
    "df.info()"
   ]
  },
  {
   "cell_type": "code",
   "execution_count": 6,
   "id": "2a44cd52",
   "metadata": {},
   "outputs": [],
   "source": [
    "df.to_csv('iris.csv', index=False)"
   ]
  },
  {
   "cell_type": "code",
   "execution_count": 8,
   "id": "fe382596",
   "metadata": {},
   "outputs": [
    {
     "name": "stdout",
     "output_type": "stream",
     "text": [
      "Wall time: 8.99 ms\n"
     ]
    }
   ],
   "source": [
    "%%time\n",
    "import polars as pl\n",
    "q = (\n",
    "    pl.scan_csv('iris.csv').filter(pl.col('sepal_length')>5).groupby('species').agg(pl.all().sum())\n",
    ")\n",
    "df1 = q.collect()\n"
   ]
  },
  {
   "cell_type": "code",
   "execution_count": 23,
   "id": "13a0f5bb",
   "metadata": {},
   "outputs": [],
   "source": [
    "q = (\n",
    "    pl.scan_csv('grade.csv')\n",
    ")\n",
    "grade2 = q.collect()"
   ]
  },
  {
   "cell_type": "code",
   "execution_count": 30,
   "id": "cc3964f0",
   "metadata": {},
   "outputs": [
    {
     "ename": "ModuleNotFoundError",
     "evalue": "No module named 'polars.lazy'",
     "output_type": "error",
     "traceback": [
      "\u001b[1;31m---------------------------------------------------------------------------\u001b[0m",
      "\u001b[1;31mModuleNotFoundError\u001b[0m                       Traceback (most recent call last)",
      "\u001b[1;32m~\\AppData\\Local\\Temp\\ipykernel_5236\\868217826.py\u001b[0m in \u001b[0;36m<module>\u001b[1;34m\u001b[0m\n\u001b[0;32m      1\u001b[0m \u001b[1;32mimport\u001b[0m \u001b[0mpolars\u001b[0m \u001b[1;32mas\u001b[0m \u001b[0mpl\u001b[0m\u001b[1;33m\u001b[0m\u001b[1;33m\u001b[0m\u001b[0m\n\u001b[1;32m----> 2\u001b[1;33m \u001b[1;32mfrom\u001b[0m \u001b[0mpolars\u001b[0m\u001b[1;33m.\u001b[0m\u001b[0mlazy\u001b[0m \u001b[1;32mimport\u001b[0m \u001b[0mcol\u001b[0m\u001b[1;33m,\u001b[0m \u001b[0mlit\u001b[0m\u001b[1;33m\u001b[0m\u001b[1;33m\u001b[0m\u001b[0m\n\u001b[0m\u001b[0;32m      3\u001b[0m \u001b[1;33m\u001b[0m\u001b[0m\n\u001b[0;32m      4\u001b[0m \u001b[1;31m# Read the CSV file\u001b[0m\u001b[1;33m\u001b[0m\u001b[1;33m\u001b[0m\u001b[0m\n\u001b[0;32m      5\u001b[0m \u001b[0mdf\u001b[0m \u001b[1;33m=\u001b[0m \u001b[0mpl\u001b[0m\u001b[1;33m.\u001b[0m\u001b[0mread_csv\u001b[0m\u001b[1;33m(\u001b[0m\u001b[1;34m'your_file.csv'\u001b[0m\u001b[1;33m)\u001b[0m\u001b[1;33m\u001b[0m\u001b[1;33m\u001b[0m\u001b[0m\n",
      "\u001b[1;31mModuleNotFoundError\u001b[0m: No module named 'polars.lazy'"
     ]
    }
   ],
   "source": [
    "import polars as pl\n",
    "from polars.lazy import col, lit\n",
    "\n",
    "# Read the CSV file\n",
    "df = pl.read_csv('your_file.csv')\n",
    "\n",
    "# Calculate total marks and percentage\n",
    "df = df.with_column(\n",
    "    pl.col('s1') + pl.col('s2') + pl.col('s3') + pl.col('s4') + pl.col('s5'),\n",
    "    'Total'\n",
    ")\n",
    "df = df.with_column(pl.col('Total') / lit(5), 'Percentage')\n",
    "\n",
    "# Perform additional operations\n",
    "# For example, filtering rows where the percentage is above 80\n",
    "filtered_df = df.filter(pl.col('Percentage') > lit(80))\n",
    "\n",
    "# Perform aggregation, such as calculating the average total marks\n",
    "average_total_marks = df.select(pl.mean(pl.col('Total')))\n",
    "\n",
    "# Save the modified data to a new CSV file\n",
    "df.write_csv('modified_file.csv')"
   ]
  },
  {
   "cell_type": "code",
   "execution_count": 32,
   "id": "4d0b5fcb",
   "metadata": {},
   "outputs": [
    {
     "ename": "TypeError",
     "evalue": "Invalid input for `col`. Expected `str` or `DataType`, got <class 'polars.expr.expr.Expr'>",
     "output_type": "error",
     "traceback": [
      "\u001b[1;31m---------------------------------------------------------------------------\u001b[0m",
      "\u001b[1;31mTypeError\u001b[0m                                 Traceback (most recent call last)",
      "\u001b[1;32m~\\AppData\\Local\\Temp\\ipykernel_5236\\4146873514.py\u001b[0m in \u001b[0;36m<module>\u001b[1;34m\u001b[0m\n\u001b[0;32m     15\u001b[0m \u001b[1;33m\u001b[0m\u001b[0m\n\u001b[0;32m     16\u001b[0m \u001b[1;31m# Perform aggregation, such as calculating the average total marks\u001b[0m\u001b[1;33m\u001b[0m\u001b[1;33m\u001b[0m\u001b[0m\n\u001b[1;32m---> 17\u001b[1;33m \u001b[0maverage_total_marks\u001b[0m \u001b[1;33m=\u001b[0m \u001b[0mdf\u001b[0m\u001b[1;33m.\u001b[0m\u001b[0mselect\u001b[0m\u001b[1;33m(\u001b[0m\u001b[0mpl\u001b[0m\u001b[1;33m.\u001b[0m\u001b[0mmean\u001b[0m\u001b[1;33m(\u001b[0m\u001b[0mpl\u001b[0m\u001b[1;33m.\u001b[0m\u001b[0mcol\u001b[0m\u001b[1;33m(\u001b[0m\u001b[1;34m'Total'\u001b[0m\u001b[1;33m)\u001b[0m\u001b[1;33m)\u001b[0m\u001b[1;33m)\u001b[0m\u001b[1;33m\u001b[0m\u001b[1;33m\u001b[0m\u001b[0m\n\u001b[0m\u001b[0;32m     18\u001b[0m \u001b[1;33m\u001b[0m\u001b[0m\n\u001b[0;32m     19\u001b[0m \u001b[1;31m# Save the modified data to a new CSV file\u001b[0m\u001b[1;33m\u001b[0m\u001b[1;33m\u001b[0m\u001b[0m\n",
      "\u001b[1;32m~\\AppData\\Roaming\\Python\\Python39\\site-packages\\polars\\functions\\lazy.py\u001b[0m in \u001b[0;36mmean\u001b[1;34m(column)\u001b[0m\n\u001b[0;32m    774\u001b[0m     \u001b[1;32mif\u001b[0m \u001b[0misinstance\u001b[0m\u001b[1;33m(\u001b[0m\u001b[0mcolumn\u001b[0m\u001b[1;33m,\u001b[0m \u001b[0mpl\u001b[0m\u001b[1;33m.\u001b[0m\u001b[0mSeries\u001b[0m\u001b[1;33m)\u001b[0m\u001b[1;33m:\u001b[0m\u001b[1;33m\u001b[0m\u001b[1;33m\u001b[0m\u001b[0m\n\u001b[0;32m    775\u001b[0m         \u001b[1;32mreturn\u001b[0m \u001b[0mcolumn\u001b[0m\u001b[1;33m.\u001b[0m\u001b[0mmean\u001b[0m\u001b[1;33m(\u001b[0m\u001b[1;33m)\u001b[0m\u001b[1;33m\u001b[0m\u001b[1;33m\u001b[0m\u001b[0m\n\u001b[1;32m--> 776\u001b[1;33m     \u001b[1;32mreturn\u001b[0m \u001b[0mcol\u001b[0m\u001b[1;33m(\u001b[0m\u001b[0mcolumn\u001b[0m\u001b[1;33m)\u001b[0m\u001b[1;33m.\u001b[0m\u001b[0mmean\u001b[0m\u001b[1;33m(\u001b[0m\u001b[1;33m)\u001b[0m\u001b[1;33m\u001b[0m\u001b[1;33m\u001b[0m\u001b[0m\n\u001b[0m\u001b[0;32m    777\u001b[0m \u001b[1;33m\u001b[0m\u001b[0m\n\u001b[0;32m    778\u001b[0m \u001b[1;33m\u001b[0m\u001b[0m\n",
      "\u001b[1;32m~\\AppData\\Roaming\\Python\\Python39\\site-packages\\polars\\functions\\lazy.py\u001b[0m in \u001b[0;36mcol\u001b[1;34m(name, *more_names)\u001b[0m\n\u001b[0;32m    221\u001b[0m             )\n\u001b[0;32m    222\u001b[0m     \u001b[1;32melse\u001b[0m\u001b[1;33m:\u001b[0m\u001b[1;33m\u001b[0m\u001b[1;33m\u001b[0m\u001b[0m\n\u001b[1;32m--> 223\u001b[1;33m         raise TypeError(\n\u001b[0m\u001b[0;32m    224\u001b[0m             \u001b[1;34mf\"Invalid input for `col`. Expected `str` or `DataType`, got {type(name)!r}\"\u001b[0m\u001b[1;33m\u001b[0m\u001b[1;33m\u001b[0m\u001b[0m\n\u001b[0;32m    225\u001b[0m         )\n",
      "\u001b[1;31mTypeError\u001b[0m: Invalid input for `col`. Expected `str` or `DataType`, got <class 'polars.expr.expr.Expr'>"
     ]
    }
   ],
   "source": [
    "import polars as pl\n",
    "\n",
    "# Read the CSV file\n",
    "df = pl.read_csv('grade.csv')\n",
    "\n",
    "# Calculate total marks and percentage\n",
    "df = df.with_columns(\n",
    "    (pl.col('s1') + pl.col('s2') + pl.col('s3') + pl.col('s4') + pl.col('s5')).alias('Total')\n",
    ")\n",
    "df = df.with_columns((pl.col('Total') / 5).alias('Percentage'))\n",
    "\n",
    "# Perform additional operations\n",
    "# For example, filtering rows where the percentage is above 80\n",
    "filtered_df = df.filter(pl.col('Percentage') > 80)\n",
    "\n",
    "# Perform aggregation, such as calculating the average total marks\n",
    "average_total_marks = df.select(pl.mean(pl.col('Total')))\n",
    "\n",
    "# Save the modified data to a new CSV file\n",
    "df.write_csv('modified_file.csv')\n"
   ]
  },
  {
   "cell_type": "code",
   "execution_count": 33,
   "id": "e880c530",
   "metadata": {},
   "outputs": [
    {
     "ename": "ColumnNotFoundError",
     "evalue": "Total\n\nError originated just after this operation:\nDF [\"s1\", \"s2\", \"s3\", \"s4\"]; PROJECT */5 COLUMNS; SELECTION: \"None\"",
     "output_type": "error",
     "traceback": [
      "\u001b[1;31m---------------------------------------------------------------------------\u001b[0m",
      "\u001b[1;31mColumnNotFoundError\u001b[0m                       Traceback (most recent call last)",
      "\u001b[1;32m~\\AppData\\Local\\Temp\\ipykernel_5236\\2363191132.py\u001b[0m in \u001b[0;36m<module>\u001b[1;34m\u001b[0m\n\u001b[0;32m      5\u001b[0m \u001b[1;33m\u001b[0m\u001b[0m\n\u001b[0;32m      6\u001b[0m \u001b[1;31m# Calculate total marks and percentage\u001b[0m\u001b[1;33m\u001b[0m\u001b[1;33m\u001b[0m\u001b[0m\n\u001b[1;32m----> 7\u001b[1;33m df = df.with_columns(\n\u001b[0m\u001b[0;32m      8\u001b[0m     \u001b[1;34m'Total'\u001b[0m\u001b[1;33m,\u001b[0m \u001b[0mpl\u001b[0m\u001b[1;33m.\u001b[0m\u001b[0mcol\u001b[0m\u001b[1;33m(\u001b[0m\u001b[1;34m's1'\u001b[0m\u001b[1;33m)\u001b[0m \u001b[1;33m+\u001b[0m \u001b[0mpl\u001b[0m\u001b[1;33m.\u001b[0m\u001b[0mcol\u001b[0m\u001b[1;33m(\u001b[0m\u001b[1;34m's2'\u001b[0m\u001b[1;33m)\u001b[0m \u001b[1;33m+\u001b[0m \u001b[0mpl\u001b[0m\u001b[1;33m.\u001b[0m\u001b[0mcol\u001b[0m\u001b[1;33m(\u001b[0m\u001b[1;34m's3'\u001b[0m\u001b[1;33m)\u001b[0m \u001b[1;33m+\u001b[0m \u001b[0mpl\u001b[0m\u001b[1;33m.\u001b[0m\u001b[0mcol\u001b[0m\u001b[1;33m(\u001b[0m\u001b[1;34m's4'\u001b[0m\u001b[1;33m)\u001b[0m \u001b[1;33m+\u001b[0m \u001b[0mpl\u001b[0m\u001b[1;33m.\u001b[0m\u001b[0mcol\u001b[0m\u001b[1;33m(\u001b[0m\u001b[1;34m's5'\u001b[0m\u001b[1;33m)\u001b[0m\u001b[1;33m\u001b[0m\u001b[1;33m\u001b[0m\u001b[0m\n\u001b[0;32m      9\u001b[0m )\n",
      "\u001b[1;32m~\\AppData\\Roaming\\Python\\Python39\\site-packages\\polars\\dataframe\\frame.py\u001b[0m in \u001b[0;36mwith_columns\u001b[1;34m(self, *exprs, **named_exprs)\u001b[0m\n\u001b[0;32m   7309\u001b[0m         \"\"\"\n\u001b[0;32m   7310\u001b[0m         return (\n\u001b[1;32m-> 7311\u001b[1;33m             \u001b[0mself\u001b[0m\u001b[1;33m.\u001b[0m\u001b[0mlazy\u001b[0m\u001b[1;33m(\u001b[0m\u001b[1;33m)\u001b[0m\u001b[1;33m\u001b[0m\u001b[1;33m\u001b[0m\u001b[0m\n\u001b[0m\u001b[0;32m   7312\u001b[0m             \u001b[1;33m.\u001b[0m\u001b[0mwith_columns\u001b[0m\u001b[1;33m(\u001b[0m\u001b[1;33m*\u001b[0m\u001b[0mexprs\u001b[0m\u001b[1;33m,\u001b[0m \u001b[1;33m**\u001b[0m\u001b[0mnamed_exprs\u001b[0m\u001b[1;33m)\u001b[0m\u001b[1;33m\u001b[0m\u001b[1;33m\u001b[0m\u001b[0m\n\u001b[0;32m   7313\u001b[0m             \u001b[1;33m.\u001b[0m\u001b[0mcollect\u001b[0m\u001b[1;33m(\u001b[0m\u001b[0mno_optimization\u001b[0m\u001b[1;33m=\u001b[0m\u001b[1;32mTrue\u001b[0m\u001b[1;33m)\u001b[0m\u001b[1;33m\u001b[0m\u001b[1;33m\u001b[0m\u001b[0m\n",
      "\u001b[1;32m~\\AppData\\Roaming\\Python\\Python39\\site-packages\\polars\\lazyframe\\frame.py\u001b[0m in \u001b[0;36mcollect\u001b[1;34m(self, type_coercion, predicate_pushdown, projection_pushdown, simplify_expression, no_optimization, slice_pushdown, common_subplan_elimination, streaming)\u001b[0m\n\u001b[0;32m   1502\u001b[0m             \u001b[0mstreaming\u001b[0m\u001b[1;33m,\u001b[0m\u001b[1;33m\u001b[0m\u001b[1;33m\u001b[0m\u001b[0m\n\u001b[0;32m   1503\u001b[0m         )\n\u001b[1;32m-> 1504\u001b[1;33m         \u001b[1;32mreturn\u001b[0m \u001b[0mwrap_df\u001b[0m\u001b[1;33m(\u001b[0m\u001b[0mldf\u001b[0m\u001b[1;33m.\u001b[0m\u001b[0mcollect\u001b[0m\u001b[1;33m(\u001b[0m\u001b[1;33m)\u001b[0m\u001b[1;33m)\u001b[0m\u001b[1;33m\u001b[0m\u001b[1;33m\u001b[0m\u001b[0m\n\u001b[0m\u001b[0;32m   1505\u001b[0m \u001b[1;33m\u001b[0m\u001b[0m\n\u001b[0;32m   1506\u001b[0m     def sink_parquet(\n",
      "\u001b[1;31mColumnNotFoundError\u001b[0m: Total\n\nError originated just after this operation:\nDF [\"s1\", \"s2\", \"s3\", \"s4\"]; PROJECT */5 COLUMNS; SELECTION: \"None\""
     ]
    }
   ],
   "source": [
    "import polars as pl\n",
    "\n",
    "# Read the CSV file\n",
    "df = pl.read_csv('grade.csv')\n",
    "\n",
    "# Calculate total marks and percentage\n",
    "df = df.with_columns(\n",
    "    'Total', pl.col('s1') + pl.col('s2') + pl.col('s3') + pl.col('s4') + pl.col('s5')\n",
    ")\n",
    "df = df.with_columns('Percentage', pl.col('Total') / 5)\n",
    "\n",
    "# Perform additional operations\n",
    "# For example, filtering rows where the percentage is above 80\n",
    "filtered_df = df.filter(pl.col('Percentage') > 80)\n",
    "\n",
    "# Perform aggregation, such as calculating the average total marks\n",
    "average_total_marks = df.select(pl.mean(pl.col('Total')))\n",
    "\n",
    "# Save the modified data to a new CSV file\n",
    "df.write_csv('modified_file.csv')\n"
   ]
  },
  {
   "cell_type": "code",
   "execution_count": 34,
   "id": "fc312c42",
   "metadata": {},
   "outputs": [
    {
     "ename": "AttributeError",
     "evalue": "'DataFrame' object has no attribute 'with_column'",
     "output_type": "error",
     "traceback": [
      "\u001b[1;31m---------------------------------------------------------------------------\u001b[0m",
      "\u001b[1;31mAttributeError\u001b[0m                            Traceback (most recent call last)",
      "\u001b[1;32m~\\AppData\\Local\\Temp\\ipykernel_5236\\2175274872.py\u001b[0m in \u001b[0;36m<module>\u001b[1;34m\u001b[0m\n\u001b[0;32m      5\u001b[0m \u001b[1;33m\u001b[0m\u001b[0m\n\u001b[0;32m      6\u001b[0m \u001b[1;31m# Calculate total marks and percentage\u001b[0m\u001b[1;33m\u001b[0m\u001b[1;33m\u001b[0m\u001b[0m\n\u001b[1;32m----> 7\u001b[1;33m df = df.with_column(\n\u001b[0m\u001b[0;32m      8\u001b[0m     \u001b[1;34m'Total'\u001b[0m\u001b[1;33m,\u001b[0m \u001b[0mpl\u001b[0m\u001b[1;33m.\u001b[0m\u001b[0mcol\u001b[0m\u001b[1;33m(\u001b[0m\u001b[1;34m's1'\u001b[0m\u001b[1;33m)\u001b[0m \u001b[1;33m+\u001b[0m \u001b[0mpl\u001b[0m\u001b[1;33m.\u001b[0m\u001b[0mcol\u001b[0m\u001b[1;33m(\u001b[0m\u001b[1;34m's2'\u001b[0m\u001b[1;33m)\u001b[0m \u001b[1;33m+\u001b[0m \u001b[0mpl\u001b[0m\u001b[1;33m.\u001b[0m\u001b[0mcol\u001b[0m\u001b[1;33m(\u001b[0m\u001b[1;34m's3'\u001b[0m\u001b[1;33m)\u001b[0m \u001b[1;33m+\u001b[0m \u001b[0mpl\u001b[0m\u001b[1;33m.\u001b[0m\u001b[0mcol\u001b[0m\u001b[1;33m(\u001b[0m\u001b[1;34m's4'\u001b[0m\u001b[1;33m)\u001b[0m \u001b[1;33m+\u001b[0m \u001b[0mpl\u001b[0m\u001b[1;33m.\u001b[0m\u001b[0mcol\u001b[0m\u001b[1;33m(\u001b[0m\u001b[1;34m's5'\u001b[0m\u001b[1;33m)\u001b[0m\u001b[1;33m\u001b[0m\u001b[1;33m\u001b[0m\u001b[0m\n\u001b[0;32m      9\u001b[0m )\n",
      "\u001b[1;31mAttributeError\u001b[0m: 'DataFrame' object has no attribute 'with_column'"
     ]
    }
   ],
   "source": [
    "import polars as pl\n",
    "\n",
    "# Read the CSV file\n",
    "df = pl.read_csv('grade.csv')\n",
    "\n",
    "# Calculate total marks and percentage\n",
    "df = df.with_column(\n",
    "    'Total', pl.col('s1') + pl.col('s2') + pl.col('s3') + pl.col('s4') + pl.col('s5')\n",
    ")\n",
    "df = df.with_column('Percentage', pl.col('Total') / 5)\n",
    "\n",
    "# Perform additional operations\n",
    "# For example, filtering rows where the percentage is above 80\n",
    "filtered_df = df.filter(pl.col('Percentage') > 80)\n",
    "\n",
    "# Perform aggregation, such as calculating the average total marks\n",
    "average_total_marks = df.select(pl.mean(pl.col('Total')))\n",
    "\n",
    "# Save the modified data to a new CSV file\n",
    "df.write_csv('modified_file.csv')\n"
   ]
  },
  {
   "cell_type": "code",
   "execution_count": 37,
   "id": "17ea61d3",
   "metadata": {},
   "outputs": [
    {
     "data": {
      "text/html": [
       "<div><style>\n",
       ".dataframe > thead > tr > th,\n",
       ".dataframe > tbody > tr > td {\n",
       "  text-align: right;\n",
       "}\n",
       "</style>\n",
       "<small>shape: (99, 6)</small><table border=\"1\" class=\"dataframe\"><thead><tr><th>s1</th><th>s2</th><th>s3</th><th>s4</th><th>s5</th><th>Percentage</th></tr><tr><td>i64</td><td>i64</td><td>i64</td><td>i64</td><td>i64</td><td>f64</td></tr></thead><tbody><tr><td>302</td><td>71</td><td>43</td><td>11</td><td>84</td><td>234.8</td></tr><tr><td>230</td><td>58</td><td>15</td><td>72</td><td>66</td><td>177.2</td></tr><tr><td>283</td><td>70</td><td>68</td><td>71</td><td>56</td><td>238.2</td></tr><tr><td>208</td><td>15</td><td>29</td><td>43</td><td>25</td><td>188.0</td></tr><tr><td>264</td><td>39</td><td>97</td><td>20</td><td>89</td><td>192.8</td></tr><tr><td>256</td><td>46</td><td>7</td><td>78</td><td>77</td><td>194.4</td></tr><tr><td>258</td><td>1</td><td>39</td><td>97</td><td>51</td><td>217.2</td></tr><tr><td>155</td><td>60</td><td>28</td><td>25</td><td>7</td><td>149.4</td></tr><tr><td>306</td><td>59</td><td>86</td><td>48</td><td>79</td><td>242.8</td></tr><tr><td>268</td><td>41</td><td>46</td><td>80</td><td>21</td><td>251.2</td></tr><tr><td>303</td><td>86</td><td>43</td><td>58</td><td>60</td><td>255.0</td></tr><tr><td>391</td><td>83</td><td>95</td><td>55</td><td>83</td><td>324.6</td></tr><tr><td>&hellip;</td><td>&hellip;</td><td>&hellip;</td><td>&hellip;</td><td>&hellip;</td><td>&hellip;</td></tr><tr><td>272</td><td>92</td><td>13</td><td>49</td><td>47</td><td>234.4</td></tr><tr><td>236</td><td>44</td><td>80</td><td>61</td><td>21</td><td>219.2</td></tr><tr><td>311</td><td>84</td><td>73</td><td>68</td><td>54</td><td>267.8</td></tr><tr><td>298</td><td>45</td><td>95</td><td>35</td><td>96</td><td>221.2</td></tr><tr><td>278</td><td>95</td><td>49</td><td>42</td><td>81</td><td>213.2</td></tr><tr><td>213</td><td>10</td><td>14</td><td>51</td><td>86</td><td>144.2</td></tr><tr><td>252</td><td>85</td><td>52</td><td>31</td><td>17</td><td>238.4</td></tr><tr><td>259</td><td>16</td><td>46</td><td>87</td><td>55</td><td>215.0</td></tr><tr><td>157</td><td>37</td><td>60</td><td>40</td><td>15</td><td>145.0</td></tr><tr><td>319</td><td>50</td><td>56</td><td>42</td><td>86</td><td>250.2</td></tr><tr><td>252</td><td>71</td><td>44</td><td>26</td><td>45</td><td>216.0</td></tr><tr><td>226</td><td>26</td><td>62</td><td>11</td><td>35</td><td>198.0</td></tr></tbody></table></div>"
      ],
      "text/plain": [
       "shape: (99, 6)\n",
       "┌─────┬─────┬─────┬─────┬─────┬────────────┐\n",
       "│ s1  ┆ s2  ┆ s3  ┆ s4  ┆ s5  ┆ Percentage │\n",
       "│ --- ┆ --- ┆ --- ┆ --- ┆ --- ┆ ---        │\n",
       "│ i64 ┆ i64 ┆ i64 ┆ i64 ┆ i64 ┆ f64        │\n",
       "╞═════╪═════╪═════╪═════╪═════╪════════════╡\n",
       "│ 302 ┆ 71  ┆ 43  ┆ 11  ┆ 84  ┆ 234.8      │\n",
       "│ 230 ┆ 58  ┆ 15  ┆ 72  ┆ 66  ┆ 177.2      │\n",
       "│ 283 ┆ 70  ┆ 68  ┆ 71  ┆ 56  ┆ 238.2      │\n",
       "│ 208 ┆ 15  ┆ 29  ┆ 43  ┆ 25  ┆ 188.0      │\n",
       "│ …   ┆ …   ┆ …   ┆ …   ┆ …   ┆ …          │\n",
       "│ 157 ┆ 37  ┆ 60  ┆ 40  ┆ 15  ┆ 145.0      │\n",
       "│ 319 ┆ 50  ┆ 56  ┆ 42  ┆ 86  ┆ 250.2      │\n",
       "│ 252 ┆ 71  ┆ 44  ┆ 26  ┆ 45  ┆ 216.0      │\n",
       "│ 226 ┆ 26  ┆ 62  ┆ 11  ┆ 35  ┆ 198.0      │\n",
       "└─────┴─────┴─────┴─────┴─────┴────────────┘"
      ]
     },
     "metadata": {},
     "output_type": "display_data"
    },
    {
     "ename": "TypeError",
     "evalue": "Invalid input for `col`. Expected `str` or `DataType`, got <class 'polars.expr.expr.Expr'>",
     "output_type": "error",
     "traceback": [
      "\u001b[1;31m---------------------------------------------------------------------------\u001b[0m",
      "\u001b[1;31mTypeError\u001b[0m                                 Traceback (most recent call last)",
      "\u001b[1;32m~\\AppData\\Local\\Temp\\ipykernel_5236\\1254837858.py\u001b[0m in \u001b[0;36m<module>\u001b[1;34m\u001b[0m\n\u001b[0;32m     17\u001b[0m \u001b[0mdisplay\u001b[0m\u001b[1;33m(\u001b[0m\u001b[0mfiltered_df\u001b[0m\u001b[1;33m)\u001b[0m\u001b[1;33m\u001b[0m\u001b[1;33m\u001b[0m\u001b[0m\n\u001b[0;32m     18\u001b[0m \u001b[1;31m# Perform aggregation, such as calculating the average total marks\u001b[0m\u001b[1;33m\u001b[0m\u001b[1;33m\u001b[0m\u001b[0m\n\u001b[1;32m---> 19\u001b[1;33m \u001b[0maverage_total_marks\u001b[0m \u001b[1;33m=\u001b[0m \u001b[0mdf\u001b[0m\u001b[1;33m.\u001b[0m\u001b[0mselect\u001b[0m\u001b[1;33m(\u001b[0m\u001b[0mpl\u001b[0m\u001b[1;33m.\u001b[0m\u001b[0mmean\u001b[0m\u001b[1;33m(\u001b[0m\u001b[0mpl\u001b[0m\u001b[1;33m.\u001b[0m\u001b[0mcol\u001b[0m\u001b[1;33m(\u001b[0m\u001b[1;34m'Total'\u001b[0m\u001b[1;33m)\u001b[0m\u001b[1;33m)\u001b[0m\u001b[1;33m)\u001b[0m\u001b[1;33m\u001b[0m\u001b[1;33m\u001b[0m\u001b[0m\n\u001b[0m\u001b[0;32m     20\u001b[0m \u001b[1;33m\u001b[0m\u001b[0m\n\u001b[0;32m     21\u001b[0m \u001b[1;31m# Save the modified data to a new CSV file\u001b[0m\u001b[1;33m\u001b[0m\u001b[1;33m\u001b[0m\u001b[0m\n",
      "\u001b[1;32m~\\AppData\\Roaming\\Python\\Python39\\site-packages\\polars\\functions\\lazy.py\u001b[0m in \u001b[0;36mmean\u001b[1;34m(column)\u001b[0m\n\u001b[0;32m    774\u001b[0m     \u001b[1;32mif\u001b[0m \u001b[0misinstance\u001b[0m\u001b[1;33m(\u001b[0m\u001b[0mcolumn\u001b[0m\u001b[1;33m,\u001b[0m \u001b[0mpl\u001b[0m\u001b[1;33m.\u001b[0m\u001b[0mSeries\u001b[0m\u001b[1;33m)\u001b[0m\u001b[1;33m:\u001b[0m\u001b[1;33m\u001b[0m\u001b[1;33m\u001b[0m\u001b[0m\n\u001b[0;32m    775\u001b[0m         \u001b[1;32mreturn\u001b[0m \u001b[0mcolumn\u001b[0m\u001b[1;33m.\u001b[0m\u001b[0mmean\u001b[0m\u001b[1;33m(\u001b[0m\u001b[1;33m)\u001b[0m\u001b[1;33m\u001b[0m\u001b[1;33m\u001b[0m\u001b[0m\n\u001b[1;32m--> 776\u001b[1;33m     \u001b[1;32mreturn\u001b[0m \u001b[0mcol\u001b[0m\u001b[1;33m(\u001b[0m\u001b[0mcolumn\u001b[0m\u001b[1;33m)\u001b[0m\u001b[1;33m.\u001b[0m\u001b[0mmean\u001b[0m\u001b[1;33m(\u001b[0m\u001b[1;33m)\u001b[0m\u001b[1;33m\u001b[0m\u001b[1;33m\u001b[0m\u001b[0m\n\u001b[0m\u001b[0;32m    777\u001b[0m \u001b[1;33m\u001b[0m\u001b[0m\n\u001b[0;32m    778\u001b[0m \u001b[1;33m\u001b[0m\u001b[0m\n",
      "\u001b[1;32m~\\AppData\\Roaming\\Python\\Python39\\site-packages\\polars\\functions\\lazy.py\u001b[0m in \u001b[0;36mcol\u001b[1;34m(name, *more_names)\u001b[0m\n\u001b[0;32m    221\u001b[0m             )\n\u001b[0;32m    222\u001b[0m     \u001b[1;32melse\u001b[0m\u001b[1;33m:\u001b[0m\u001b[1;33m\u001b[0m\u001b[1;33m\u001b[0m\u001b[0m\n\u001b[1;32m--> 223\u001b[1;33m         raise TypeError(\n\u001b[0m\u001b[0;32m    224\u001b[0m             \u001b[1;34mf\"Invalid input for `col`. Expected `str` or `DataType`, got {type(name)!r}\"\u001b[0m\u001b[1;33m\u001b[0m\u001b[1;33m\u001b[0m\u001b[0m\n\u001b[0;32m    225\u001b[0m         )\n",
      "\u001b[1;31mTypeError\u001b[0m: Invalid input for `col`. Expected `str` or `DataType`, got <class 'polars.expr.expr.Expr'>"
     ]
    }
   ],
   "source": [
    "import polars as pl\n",
    "\n",
    "# Read the CSV file\n",
    "df = pl.read_csv('grade.csv')\n",
    "\n",
    "# Calculate total marks and percentage\n",
    "df = df.with_columns(\n",
    "    [\n",
    "        pl.col('s1') + pl.col('s2') + pl.col('s3') + pl.col('s4') + pl.col('s5').alias('Total'),\n",
    "        (pl.col('s1') + pl.col('s2') + pl.col('s3') + pl.col('s4') + pl.col('s5') / 5).alias('Percentage')\n",
    "    ]\n",
    ")\n",
    "\n",
    "# Perform additional operations\n",
    "# For example, filtering rows where the percentage is above 80\n",
    "filtered_df = df.filter(pl.col('Percentage') > 80)\n",
    "display(filtered_df)\n",
    "# Perform aggregation, such as calculating the average total marks\n",
    "average_total_marks = df.select(pl.mean(pl.col('Total')))\n",
    "\n",
    "# Save the modified data to a new CSV file\n",
    "df.write_csv('modified_file.csv')\n"
   ]
  },
  {
   "cell_type": "code",
   "execution_count": 39,
   "id": "e6da6e15",
   "metadata": {},
   "outputs": [
    {
     "data": {
      "text/html": [
       "<div><style>\n",
       ".dataframe > thead > tr > th,\n",
       ".dataframe > tbody > tr > td {\n",
       "  text-align: right;\n",
       "}\n",
       "</style>\n",
       "<small>shape: (100, 7)</small><table border=\"1\" class=\"dataframe\"><thead><tr><th>s1</th><th>s2</th><th>s3</th><th>s4</th><th>s5</th><th>Total</th><th>Percentage</th></tr><tr><td>i64</td><td>i64</td><td>i64</td><td>i64</td><td>i64</td><td>i64</td><td>f64</td></tr></thead><tbody><tr><td>93</td><td>71</td><td>43</td><td>11</td><td>84</td><td>302</td><td>60.4</td></tr><tr><td>19</td><td>58</td><td>15</td><td>72</td><td>66</td><td>230</td><td>46.0</td></tr><tr><td>18</td><td>70</td><td>68</td><td>71</td><td>56</td><td>283</td><td>56.6</td></tr><tr><td>96</td><td>15</td><td>29</td><td>43</td><td>25</td><td>208</td><td>41.6</td></tr><tr><td>19</td><td>39</td><td>97</td><td>20</td><td>89</td><td>264</td><td>52.8</td></tr><tr><td>48</td><td>46</td><td>7</td><td>78</td><td>77</td><td>256</td><td>51.2</td></tr><tr><td>70</td><td>1</td><td>39</td><td>97</td><td>51</td><td>258</td><td>51.6</td></tr><tr><td>35</td><td>60</td><td>28</td><td>25</td><td>7</td><td>155</td><td>31.0</td></tr><tr><td>34</td><td>59</td><td>86</td><td>48</td><td>79</td><td>306</td><td>61.2</td></tr><tr><td>80</td><td>41</td><td>46</td><td>80</td><td>21</td><td>268</td><td>53.6</td></tr><tr><td>56</td><td>86</td><td>43</td><td>58</td><td>60</td><td>303</td><td>60.6</td></tr><tr><td>75</td><td>83</td><td>95</td><td>55</td><td>83</td><td>391</td><td>78.2</td></tr><tr><td>&hellip;</td><td>&hellip;</td><td>&hellip;</td><td>&hellip;</td><td>&hellip;</td><td>&hellip;</td><td>&hellip;</td></tr><tr><td>71</td><td>92</td><td>13</td><td>49</td><td>47</td><td>272</td><td>54.4</td></tr><tr><td>30</td><td>44</td><td>80</td><td>61</td><td>21</td><td>236</td><td>47.2</td></tr><tr><td>32</td><td>84</td><td>73</td><td>68</td><td>54</td><td>311</td><td>62.2</td></tr><tr><td>27</td><td>45</td><td>95</td><td>35</td><td>96</td><td>298</td><td>59.6</td></tr><tr><td>11</td><td>95</td><td>49</td><td>42</td><td>81</td><td>278</td><td>55.6</td></tr><tr><td>52</td><td>10</td><td>14</td><td>51</td><td>86</td><td>213</td><td>42.6</td></tr><tr><td>67</td><td>85</td><td>52</td><td>31</td><td>17</td><td>252</td><td>50.4</td></tr><tr><td>55</td><td>16</td><td>46</td><td>87</td><td>55</td><td>259</td><td>51.8</td></tr><tr><td>5</td><td>37</td><td>60</td><td>40</td><td>15</td><td>157</td><td>31.4</td></tr><tr><td>85</td><td>50</td><td>56</td><td>42</td><td>86</td><td>319</td><td>63.8</td></tr><tr><td>66</td><td>71</td><td>44</td><td>26</td><td>45</td><td>252</td><td>50.4</td></tr><tr><td>92</td><td>26</td><td>62</td><td>11</td><td>35</td><td>226</td><td>45.2</td></tr></tbody></table></div>"
      ],
      "text/plain": [
       "shape: (100, 7)\n",
       "┌─────┬─────┬─────┬─────┬─────┬───────┬────────────┐\n",
       "│ s1  ┆ s2  ┆ s3  ┆ s4  ┆ s5  ┆ Total ┆ Percentage │\n",
       "│ --- ┆ --- ┆ --- ┆ --- ┆ --- ┆ ---   ┆ ---        │\n",
       "│ i64 ┆ i64 ┆ i64 ┆ i64 ┆ i64 ┆ i64   ┆ f64        │\n",
       "╞═════╪═════╪═════╪═════╪═════╪═══════╪════════════╡\n",
       "│ 93  ┆ 71  ┆ 43  ┆ 11  ┆ 84  ┆ 302   ┆ 60.4       │\n",
       "│ 19  ┆ 58  ┆ 15  ┆ 72  ┆ 66  ┆ 230   ┆ 46.0       │\n",
       "│ 18  ┆ 70  ┆ 68  ┆ 71  ┆ 56  ┆ 283   ┆ 56.6       │\n",
       "│ 96  ┆ 15  ┆ 29  ┆ 43  ┆ 25  ┆ 208   ┆ 41.6       │\n",
       "│ …   ┆ …   ┆ …   ┆ …   ┆ …   ┆ …     ┆ …          │\n",
       "│ 5   ┆ 37  ┆ 60  ┆ 40  ┆ 15  ┆ 157   ┆ 31.4       │\n",
       "│ 85  ┆ 50  ┆ 56  ┆ 42  ┆ 86  ┆ 319   ┆ 63.8       │\n",
       "│ 66  ┆ 71  ┆ 44  ┆ 26  ┆ 45  ┆ 252   ┆ 50.4       │\n",
       "│ 92  ┆ 26  ┆ 62  ┆ 11  ┆ 35  ┆ 226   ┆ 45.2       │\n",
       "└─────┴─────┴─────┴─────┴─────┴───────┴────────────┘"
      ]
     },
     "metadata": {},
     "output_type": "display_data"
    }
   ],
   "source": [
    "import polars as pl\n",
    "\n",
    "# Read the CSV file\n",
    "df = pl.read_csv('grade.csv')\n",
    "\n",
    "# Calculate total marks and percentage\n",
    "df = df.with_columns(\n",
    "    [\n",
    "        (pl.col('s1') + pl.col('s2') + pl.col('s3') + pl.col('s4') + pl.col('s5')).alias('Total'),\n",
    "        ((pl.col('s1') + pl.col('s2') + pl.col('s3') + pl.col('s4') + pl.col('s5')) / 5).alias('Percentage')\n",
    "    ]\n",
    ")\n",
    "\n",
    "# Perform additional operations\n",
    "# For example, filtering rows where the percentage is above 80\n",
    "filtered_df = df.filter(pl.col('Percentage') > 80)\n",
    "\n",
    "# Perform aggregation, such as calculating the average total marks\n",
    "average_total_marks = df.select(pl.mean('Total'))\n",
    "\n",
    "# Save the modified data to a new CSV file\n",
    "display(df)\n"
   ]
  },
  {
   "cell_type": "code",
   "execution_count": 49,
   "id": "c442eab6",
   "metadata": {},
   "outputs": [
    {
     "name": "stdout",
     "output_type": "stream",
     "text": [
      "shape: (100, 6)\n",
      "┌─────┬─────┬─────┬─────┬─────┬─────────────┐\n",
      "│ s1  ┆ s2  ┆ s3  ┆ s4  ┆ s5  ┆ Total Marks │\n",
      "│ --- ┆ --- ┆ --- ┆ --- ┆ --- ┆ ---         │\n",
      "│ i64 ┆ i64 ┆ i64 ┆ i64 ┆ i64 ┆ i64         │\n",
      "╞═════╪═════╪═════╪═════╪═════╪═════════════╡\n",
      "│ 93  ┆ 71  ┆ 43  ┆ 11  ┆ 84  ┆ 302         │\n",
      "│ 19  ┆ 58  ┆ 15  ┆ 72  ┆ 66  ┆ 230         │\n",
      "│ 18  ┆ 70  ┆ 68  ┆ 71  ┆ 56  ┆ 283         │\n",
      "│ 96  ┆ 15  ┆ 29  ┆ 43  ┆ 25  ┆ 208         │\n",
      "│ …   ┆ …   ┆ …   ┆ …   ┆ …   ┆ …           │\n",
      "│ 5   ┆ 37  ┆ 60  ┆ 40  ┆ 15  ┆ 157         │\n",
      "│ 85  ┆ 50  ┆ 56  ┆ 42  ┆ 86  ┆ 319         │\n",
      "│ 66  ┆ 71  ┆ 44  ┆ 26  ┆ 45  ┆ 252         │\n",
      "│ 92  ┆ 26  ┆ 62  ┆ 11  ┆ 35  ┆ 226         │\n",
      "└─────┴─────┴─────┴─────┴─────┴─────────────┘\n"
     ]
    }
   ],
   "source": [
    "import polars as pl\n",
    "\n",
    "q = pl.scan_csv('grade.csv')\n",
    "df = q.lazy().select(\n",
    "pl.col('s1'),pl.col('s2'),pl.col('s3'),pl.col('s4'),pl.col('s5'),(pl.col('s1')+pl.col('s2')+pl.col('s3')+pl.col('s4')+pl.col('s5')).alias('Total Marks'),((pl.col('s1') + pl.col('s2') + pl.col('s3') + pl.col('s4') + pl.col('s5')) / 5).alias('Percentage')\n",
    ").collect()\n",
    "print(df)"
   ]
  },
  {
   "cell_type": "code",
   "execution_count": null,
   "id": "37bde3de",
   "metadata": {},
   "outputs": [],
   "source": []
  }
 ],
 "metadata": {
  "kernelspec": {
   "display_name": "Python 3 (ipykernel)",
   "language": "python",
   "name": "python3"
  },
  "language_info": {
   "codemirror_mode": {
    "name": "ipython",
    "version": 3
   },
   "file_extension": ".py",
   "mimetype": "text/x-python",
   "name": "python",
   "nbconvert_exporter": "python",
   "pygments_lexer": "ipython3",
   "version": "3.9.13"
  }
 },
 "nbformat": 4,
 "nbformat_minor": 5
}
