{
 "cells": [
  {
   "cell_type": "markdown",
   "id": "0a013421",
   "metadata": {},
   "source": [
    "# functions\n",
    "* pre-define function/user-define function\n",
    "```\n",
    "sets of statements and expressions are called function\n",
    "decreases repeatition of code\n",
    "```\n",
    "    * return\n",
    "    * non-return\n",
    "    * default function\n",
    "    * required arguments funtion\n",
    "    * required/optional arguments function\n",
    "    * lambda function\n",
    "    * recursive function\n",
    "    * generator function\n",
    "    \n",
    "* function components\n",
    "    * function declaration/function signature\n",
    "        * `def function_name(arg1_variable,arg2_variable,...):`\n",
    "    * function body\n",
    "    * function calling\n",
    "        * `function_name(arg1_value, arg2_value,...)`\n",
    "        * `function_name()`"
   ]
  },
  {
   "cell_type": "markdown",
   "id": "d05af953",
   "metadata": {},
   "source": [
    "# default function\n",
    "* not required any argument when it will call"
   ]
  },
  {
   "cell_type": "code",
   "execution_count": 3,
   "id": "2e709ec2",
   "metadata": {},
   "outputs": [
    {
     "name": "stdout",
     "output_type": "stream",
     "text": [
      "We love our country\n",
      "My country name is Pakistan\n",
      "Pakistan Zindabad\n"
     ]
    }
   ],
   "source": [
    "def country_message(): # dec/sig\n",
    "    # body start\n",
    "    print(\"We love our country\")\n",
    "    print(\"My country name is Pakistan\")\n",
    "    print(\"Pakistan Zindabad\")\n",
    "    # body end\n",
    "country_message() # fun_call"
   ]
  },
  {
   "cell_type": "code",
   "execution_count": 5,
   "id": "a3891eca",
   "metadata": {},
   "outputs": [
    {
     "name": "stdout",
     "output_type": "stream",
     "text": [
      "We love our country\n",
      "My country name is Pakistan\n",
      "Pakistan Zindabad\n",
      "We love our country\n",
      "My country name is Pakistan\n",
      "Pakistan Zindabad\n",
      "We love our country\n",
      "My country name is Pakistan\n",
      "Pakistan Zindabad\n"
     ]
    }
   ],
   "source": [
    "country_message()\n",
    "country_message()\n",
    "country_message()"
   ]
  },
  {
   "cell_type": "markdown",
   "id": "a8237070",
   "metadata": {},
   "source": [
    "# Required Arguments Function"
   ]
  },
  {
   "cell_type": "code",
   "execution_count": 7,
   "id": "3bc8e145",
   "metadata": {},
   "outputs": [
    {
     "name": "stdout",
     "output_type": "stream",
     "text": [
      "We love our country\n",
      "My country name is America\n",
      "America Zindabad\n"
     ]
    }
   ],
   "source": [
    "def any_country(country_name):\n",
    "    print(\"We love our country\")\n",
    "    print(f\"My country name is {country_name}\")\n",
    "    print(f\"{country_name} Zindabad\")\n",
    "any_country(\"America\")"
   ]
  },
  {
   "cell_type": "markdown",
   "id": "eaf6502a",
   "metadata": {},
   "source": [
    "# Return and Non-Return functions"
   ]
  },
  {
   "cell_type": "code",
   "execution_count": 14,
   "id": "19e4e410",
   "metadata": {},
   "outputs": [
    {
     "name": "stdout",
     "output_type": "stream",
     "text": [
      "We love our country\n",
      "My country name is America\n",
      "America Zindabad\n",
      "Value of variable a: None\n"
     ]
    }
   ],
   "source": [
    "# Non-Return\n",
    "def any_country(country_name):\n",
    "    print(\"We love our country\")\n",
    "    print(f\"My country name is {country_name}\")\n",
    "    print(f\"{country_name} Zindabad\")\n",
    "\n",
    "a = any_country(\"America\")\n",
    "print(\"Value of variable a:\",a)"
   ]
  },
  {
   "cell_type": "code",
   "execution_count": 16,
   "id": "862af1b2",
   "metadata": {},
   "outputs": [
    {
     "name": "stdout",
     "output_type": "stream",
     "text": [
      "We love our country\n",
      "My country name is Pakistan\n",
      "Pakistan Zindabad\n"
     ]
    }
   ],
   "source": [
    "# Return\n",
    "def any_country(country_name):\n",
    "    result = f\"\"\"We love our country\n",
    "My country name is {country_name}\n",
    "{country_name} Zindabad\"\"\"\n",
    "    return result\n",
    "a = any_country(\"Pakistan\")\n",
    "print(a)"
   ]
  },
  {
   "cell_type": "code",
   "execution_count": 19,
   "id": "4a70b20b",
   "metadata": {},
   "outputs": [
    {
     "name": "stdout",
     "output_type": "stream",
     "text": [
      "Saylani Mass IT Training\n",
      "Student ID: 1\n",
      "Student Name: Huzefa\n",
      "Timing:  3 to 6\n",
      "Batch: Ai and DS - 4\n",
      "\n",
      "Saylani Mass IT Training\n",
      "Student ID: 2\n",
      "Student Name: Bilal\n",
      "Timing:  3 to 6\n",
      "Batch: Ai and DS - 4\n",
      "\n",
      "Saylani Mass IT Training\n",
      "Student ID: 3\n",
      "Student Name: Saim\n",
      "Timing:  3 to 6\n",
      "Batch: Ai and DS - 4\n",
      "\n"
     ]
    }
   ],
   "source": [
    "data=[[1,\"Huzefa\",\" 3 to 6\",\"Ai and DS - 4\"],[2,\"Bilal\",\" 3 to 6\",\"Ai and DS - 4\"],[3,\"Saim\",\" 3 to 6\",\"Ai and DS - 4\"]]\n",
    "def card(id,name,time,batch):\n",
    "    card = f\"\"\"Saylani Mass IT Training\n",
    "Student ID: {id}\n",
    "Student Name: {name}\n",
    "Timing: {time}\n",
    "Batch: {batch}\"\"\"\n",
    "    return card\n",
    "for single_data in data:\n",
    "    print(card(single_data[0],single_data[1],single_data[2],single_data[3]),end=\"\\n\\n\")"
   ]
  },
  {
   "cell_type": "code",
   "execution_count": 20,
   "id": "6d4e6060",
   "metadata": {},
   "outputs": [
    {
     "name": "stdout",
     "output_type": "stream",
     "text": [
      "Saylani Mass IT Training\n",
      "Student ID: 1\n",
      "Student Name: Huzefa\n",
      "Timing:  3 to 6\n",
      "Batch: Ai and DS - 4\n",
      "\n",
      "Saylani Mass IT Training\n",
      "Student ID: 2\n",
      "Student Name: Bilal\n",
      "Timing:  3 to 6\n",
      "Batch: Ai and DS - 4\n",
      "\n",
      "Saylani Mass IT Training\n",
      "Student ID: 3\n",
      "Student Name: Saim\n",
      "Timing:  3 to 6\n",
      "Batch: Ai and DS - 4\n",
      "\n"
     ]
    }
   ],
   "source": [
    "data=[[1,\"Huzefa\",\" 3 to 6\",\"Ai and DS - 4\"],[2,\"Bilal\",\" 3 to 6\",\"Ai and DS - 4\"],[3,\"Saim\",\" 3 to 6\",\"Ai and DS - 4\"]]\n",
    "def card(id,name,time,batch):\n",
    "    card = f\"\"\"Saylani Mass IT Training\n",
    "Student ID: {id}\n",
    "Student Name: {name}\n",
    "Timing: {time}\n",
    "Batch: {batch}\"\"\"\n",
    "    return card\n",
    "for single_data in data:\n",
    "    print(card(*single_data),end=\"\\n\\n\")"
   ]
  },
  {
   "cell_type": "markdown",
   "id": "7674cca7",
   "metadata": {},
   "source": [
    "# Optional Arguments/ default Arguments\n",
    "* define argument value in function declaring\n",
    "\n",
    "# Pass positional arguments/parameters"
   ]
  },
  {
   "cell_type": "code",
   "execution_count": 25,
   "id": "a944f7d0",
   "metadata": {},
   "outputs": [
    {
     "name": "stdout",
     "output_type": "stream",
     "text": [
      "3\n",
      "2\n",
      "0\n"
     ]
    }
   ],
   "source": [
    "def add_two_numbers(num1=0,num2=0):\n",
    "    return num1+num2\n",
    "\n",
    "print(add_two_numbers(1,2))\n",
    "print(add_two_numbers(2))\n",
    "print(add_two_numbers())"
   ]
  },
  {
   "cell_type": "markdown",
   "id": "3067b430",
   "metadata": {},
   "source": [
    "# Key/Word Paramaters/Arguments during calling"
   ]
  },
  {
   "cell_type": "code",
   "execution_count": 30,
   "id": "ba4a6a19",
   "metadata": {},
   "outputs": [
    {
     "name": "stdout",
     "output_type": "stream",
     "text": [
      "3\n",
      "2\n",
      "3\n"
     ]
    }
   ],
   "source": [
    "def add_two_numbers(num1=1,num2=2):\n",
    "    return num1+num2\n",
    "\n",
    "print(add_two_numbers(num1=1,num2=2))\n",
    "print(add_two_numbers(num2=1))\n",
    "print(add_two_numbers())"
   ]
  },
  {
   "cell_type": "code",
   "execution_count": 55,
   "id": "54b64e82",
   "metadata": {},
   "outputs": [
    {
     "ename": "TypeError",
     "evalue": "add_two_numbers() takes from 0 to 2 positional arguments but 4 were given",
     "output_type": "error",
     "traceback": [
      "\u001b[1;31m---------------------------------------------------------------------------\u001b[0m",
      "\u001b[1;31mTypeError\u001b[0m                                 Traceback (most recent call last)",
      "\u001b[1;32m~\\AppData\\Local\\Temp\\ipykernel_2172\\478192047.py\u001b[0m in \u001b[0;36m<module>\u001b[1;34m\u001b[0m\n\u001b[1;32m----> 1\u001b[1;33m \u001b[0mprint\u001b[0m\u001b[1;33m(\u001b[0m\u001b[0madd_two_numbers\u001b[0m\u001b[1;33m(\u001b[0m\u001b[1;36m1\u001b[0m\u001b[1;33m,\u001b[0m\u001b[1;36m2\u001b[0m\u001b[1;33m,\u001b[0m\u001b[1;36m3\u001b[0m\u001b[1;33m,\u001b[0m\u001b[1;36m5\u001b[0m\u001b[1;33m)\u001b[0m\u001b[1;33m)\u001b[0m\u001b[1;33m\u001b[0m\u001b[1;33m\u001b[0m\u001b[0m\n\u001b[0m",
      "\u001b[1;31mTypeError\u001b[0m: add_two_numbers() takes from 0 to 2 positional arguments but 4 were given"
     ]
    }
   ],
   "source": [
    "print(add_two_numbers(1,2,3,5))"
   ]
  },
  {
   "cell_type": "markdown",
   "id": "8f635ed7",
   "metadata": {},
   "source": [
    "# Unlimited positional arguments for calling\n",
    "* add `*` before any parameter during declaration\n",
    "* `def my_fun(arg1,*arg2)`"
   ]
  },
  {
   "cell_type": "code",
   "execution_count": 37,
   "id": "840a4bd8",
   "metadata": {},
   "outputs": [
    {
     "name": "stdout",
     "output_type": "stream",
     "text": [
      "<class 'int'> <class 'tuple'>\n"
     ]
    }
   ],
   "source": [
    "def my_sum(num1,*value):\n",
    "    print(type(num1),type(value))\n",
    "my_sum(1,2)"
   ]
  },
  {
   "cell_type": "code",
   "execution_count": 38,
   "id": "375b027b",
   "metadata": {},
   "outputs": [
    {
     "data": {
      "text/plain": [
       "36"
      ]
     },
     "execution_count": 38,
     "metadata": {},
     "output_type": "execute_result"
    }
   ],
   "source": [
    "def my_sum(num1,*value):\n",
    "    result = num1\n",
    "    for n in value:\n",
    "        result += n\n",
    "    return result\n",
    "my_sum(1,2,3,4,5,6,7,8)"
   ]
  },
  {
   "cell_type": "markdown",
   "id": "56a82962",
   "metadata": {},
   "source": [
    "# Unlimited key/word arguments for calling\n",
    "* add `**` before any parameter during declaration\n",
    "* `def my_fun(arg1,**arg2)`"
   ]
  },
  {
   "cell_type": "code",
   "execution_count": 42,
   "id": "021cff07",
   "metadata": {},
   "outputs": [],
   "source": [
    "def abc(**value):\n",
    "    print(value)\n",
    "    print(type(value))"
   ]
  },
  {
   "cell_type": "code",
   "execution_count": 43,
   "id": "8ec3fc7c",
   "metadata": {},
   "outputs": [
    {
     "ename": "TypeError",
     "evalue": "abc() takes 0 positional arguments but 1 was given",
     "output_type": "error",
     "traceback": [
      "\u001b[1;31m---------------------------------------------------------------------------\u001b[0m",
      "\u001b[1;31mTypeError\u001b[0m                                 Traceback (most recent call last)",
      "\u001b[1;32m~\\AppData\\Local\\Temp\\ipykernel_2172\\4056695116.py\u001b[0m in \u001b[0;36m<module>\u001b[1;34m\u001b[0m\n\u001b[1;32m----> 1\u001b[1;33m \u001b[0mabc\u001b[0m\u001b[1;33m(\u001b[0m\u001b[1;36m1\u001b[0m\u001b[1;33m)\u001b[0m\u001b[1;33m\u001b[0m\u001b[1;33m\u001b[0m\u001b[0m\n\u001b[0m",
      "\u001b[1;31mTypeError\u001b[0m: abc() takes 0 positional arguments but 1 was given"
     ]
    }
   ],
   "source": [
    "abc(1)"
   ]
  },
  {
   "cell_type": "code",
   "execution_count": 46,
   "id": "a8c03be0",
   "metadata": {},
   "outputs": [
    {
     "name": "stdout",
     "output_type": "stream",
     "text": [
      "{'num1': 1, 'num2': 2, 'num3': 3}\n",
      "<class 'dict'>\n"
     ]
    }
   ],
   "source": [
    "abc(num1=1,num2=2,num3=3)"
   ]
  },
  {
   "cell_type": "markdown",
   "id": "f7079272",
   "metadata": {},
   "source": [
    "**Create function with required arguments, optional arguments, unlimited positional arguments, unlimited key/word arguments**"
   ]
  },
  {
   "cell_type": "code",
   "execution_count": 47,
   "id": "55f99602",
   "metadata": {},
   "outputs": [],
   "source": [
    "def my_custom_function(num1,num2=7,*value1,**value2):\n",
    "    print(type(num1),type(num2),type(value1),type(value2))\n",
    "    print(\"Required Argument:\",num1)\n",
    "    print(\"Optional Argument\",num2)\n",
    "    print(\"Unlimited Positional Argument\",value1)\n",
    "    print(\"Unlimited Key/Word Argument\",value2)"
   ]
  },
  {
   "cell_type": "code",
   "execution_count": 53,
   "id": "a2dcdcd9",
   "metadata": {},
   "outputs": [
    {
     "name": "stdout",
     "output_type": "stream",
     "text": [
      "<class 'int'> <class 'int'> <class 'tuple'> <class 'dict'>\n",
      "Required Argument: 3\n",
      "Optional Argument 4\n",
      "Unlimited Positional Argument ('a', 'b', 'c')\n",
      "Unlimited Key/Word Argument {'name': 'Huzefa'}\n"
     ]
    }
   ],
   "source": [
    "my_custom_function(3,4,'a','b','c',name=\"Huzefa\")"
   ]
  },
  {
   "cell_type": "code",
   "execution_count": 54,
   "id": "401507bc",
   "metadata": {},
   "outputs": [
    {
     "name": "stdout",
     "output_type": "stream",
     "text": [
      "<class 'int'> <class 'int'> <class 'tuple'> <class 'dict'>\n",
      "Required Argument: 6\n",
      "Optional Argument 7\n",
      "Unlimited Positional Argument ()\n",
      "Unlimited Key/Word Argument {}\n"
     ]
    }
   ],
   "source": [
    "my_custom_function(6)"
   ]
  },
  {
   "cell_type": "markdown",
   "id": "46c8b2bf",
   "metadata": {},
   "source": [
    "# Lambda function\n",
    "* no name function\n",
    "* one line function\n",
    "* is se pehle na istemaal hua na iske baad istemaal hoga"
   ]
  },
  {
   "cell_type": "code",
   "execution_count": 58,
   "id": "5eac7cab",
   "metadata": {},
   "outputs": [],
   "source": [
    "def add_two_num(num1,num2):\n",
    "    return num1+num2"
   ]
  },
  {
   "cell_type": "code",
   "execution_count": 62,
   "id": "f0e46c6c",
   "metadata": {},
   "outputs": [
    {
     "data": {
      "text/plain": [
       "16"
      ]
     },
     "execution_count": 62,
     "metadata": {},
     "output_type": "execute_result"
    }
   ],
   "source": [
    "a = lambda num1,num2: num1 + num2\n",
    "a(7,9)"
   ]
  },
  {
   "cell_type": "code",
   "execution_count": 70,
   "id": "317872e6",
   "metadata": {},
   "outputs": [],
   "source": [
    "li = [[1,'a','Z'],[2,'b','Y'],[3,'c','X']]"
   ]
  },
  {
   "cell_type": "code",
   "execution_count": 71,
   "id": "19c3a303",
   "metadata": {},
   "outputs": [
    {
     "data": {
      "text/plain": [
       "[[1, 'a', 'Z'], [2, 'b', 'Y'], [3, 'c', 'X']]"
      ]
     },
     "execution_count": 71,
     "metadata": {},
     "output_type": "execute_result"
    }
   ],
   "source": [
    "sorted(li, key=lambda x:x[0])"
   ]
  },
  {
   "cell_type": "code",
   "execution_count": 72,
   "id": "8ca3d1ef",
   "metadata": {},
   "outputs": [
    {
     "data": {
      "text/plain": [
       "[[1, 'a', 'Z'], [2, 'b', 'Y'], [3, 'c', 'X']]"
      ]
     },
     "execution_count": 72,
     "metadata": {},
     "output_type": "execute_result"
    }
   ],
   "source": [
    "sorted(li, key=lambda x:x[1])"
   ]
  },
  {
   "cell_type": "code",
   "execution_count": 73,
   "id": "6b6c0c71",
   "metadata": {
    "scrolled": true
   },
   "outputs": [
    {
     "data": {
      "text/plain": [
       "[[3, 'c', 'X'], [2, 'b', 'Y'], [1, 'a', 'Z']]"
      ]
     },
     "execution_count": 73,
     "metadata": {},
     "output_type": "execute_result"
    }
   ],
   "source": [
    "sorted(li, key=lambda x:x[2])"
   ]
  },
  {
   "cell_type": "code",
   "execution_count": null,
   "id": "12d7be56",
   "metadata": {},
   "outputs": [],
   "source": []
  }
 ],
 "metadata": {
  "kernelspec": {
   "display_name": "Python 3 (ipykernel)",
   "language": "python",
   "name": "python3"
  },
  "language_info": {
   "codemirror_mode": {
    "name": "ipython",
    "version": 3
   },
   "file_extension": ".py",
   "mimetype": "text/x-python",
   "name": "python",
   "nbconvert_exporter": "python",
   "pygments_lexer": "ipython3",
   "version": "3.9.13"
  }
 },
 "nbformat": 4,
 "nbformat_minor": 5
}
