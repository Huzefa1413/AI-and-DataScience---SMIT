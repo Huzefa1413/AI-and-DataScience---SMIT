{
 "cells": [
  {
   "cell_type": "markdown",
   "id": "599ddc29",
   "metadata": {},
   "source": [
    "# functions\n",
    "* pre-define function/user-define function\n",
    "```\n",
    "sets of statements and expressions are called function\n",
    "decreases repeatition of code\n",
    "```\n",
    "    * return\n",
    "    * non-return\n",
    "    * default function\n",
    "    * required arguments funtion\n",
    "    * required/optional arguments function\n",
    "    * lambda function\n",
    "    * recursive function\n",
    "    * generator function\n",
    "    \n",
    "* function components\n",
    "    * function declaration/function signature\n",
    "        * `def function_name(arg1_variable,arg2_variable,...):`\n",
    "    * function body\n",
    "    * function calling\n",
    "        * `function_name(arg1_value, arg2_value,...)`\n",
    "        * `function_name()`"
   ]
  },
  {
   "cell_type": "markdown",
   "id": "2767207c",
   "metadata": {},
   "source": [
    "# default function\n",
    "* not required any argument when it will call"
   ]
  },
  {
   "cell_type": "code",
   "execution_count": 3,
   "id": "2ba60dc8",
   "metadata": {},
   "outputs": [
    {
     "name": "stdout",
     "output_type": "stream",
     "text": [
      "We love our country\n",
      "My country name is Pakistan\n",
      "Pakistan Zindabad\n"
     ]
    }
   ],
   "source": [
    "def country_message(): # dec/sig\n",
    "    # body start\n",
    "    print(\"We love our country\")\n",
    "    print(\"My country name is Pakistan\")\n",
    "    print(\"Pakistan Zindabad\")\n",
    "    # body end\n",
    "country_message() # fun_call"
   ]
  },
  {
   "cell_type": "code",
   "execution_count": 5,
   "id": "26ab0878",
   "metadata": {},
   "outputs": [
    {
     "name": "stdout",
     "output_type": "stream",
     "text": [
      "We love our country\n",
      "My country name is Pakistan\n",
      "Pakistan Zindabad\n",
      "We love our country\n",
      "My country name is Pakistan\n",
      "Pakistan Zindabad\n",
      "We love our country\n",
      "My country name is Pakistan\n",
      "Pakistan Zindabad\n"
     ]
    }
   ],
   "source": [
    "country_message()\n",
    "country_message()\n",
    "country_message()"
   ]
  },
  {
   "cell_type": "markdown",
   "id": "72ab99ba",
   "metadata": {},
   "source": [
    "# Required Arguments Function"
   ]
  },
  {
   "cell_type": "code",
   "execution_count": 7,
   "id": "933e3d58",
   "metadata": {},
   "outputs": [
    {
     "name": "stdout",
     "output_type": "stream",
     "text": [
      "We love our country\n",
      "My country name is America\n",
      "America Zindabad\n"
     ]
    }
   ],
   "source": [
    "def any_country(country_name):\n",
    "    print(\"We love our country\")\n",
    "    print(f\"My country name is {country_name}\")\n",
    "    print(f\"{country_name} Zindabad\")\n",
    "any_country(\"America\")"
   ]
  },
  {
   "cell_type": "markdown",
   "id": "111f169c",
   "metadata": {},
   "source": [
    "# Return and Non-Return functions"
   ]
  },
  {
   "cell_type": "code",
   "execution_count": 14,
   "id": "fe54bd97",
   "metadata": {},
   "outputs": [
    {
     "name": "stdout",
     "output_type": "stream",
     "text": [
      "We love our country\n",
      "My country name is America\n",
      "America Zindabad\n",
      "Value of variable a: None\n"
     ]
    }
   ],
   "source": [
    "# Non-Return\n",
    "def any_country(country_name):\n",
    "    print(\"We love our country\")\n",
    "    print(f\"My country name is {country_name}\")\n",
    "    print(f\"{country_name} Zindabad\")\n",
    "\n",
    "a = any_country(\"America\")\n",
    "print(\"Value of variable a:\",a)"
   ]
  },
  {
   "cell_type": "code",
   "execution_count": 16,
   "id": "3a5a9ec3",
   "metadata": {},
   "outputs": [
    {
     "name": "stdout",
     "output_type": "stream",
     "text": [
      "We love our country\n",
      "My country name is Pakistan\n",
      "Pakistan Zindabad\n"
     ]
    }
   ],
   "source": [
    "# Return\n",
    "def any_country(country_name):\n",
    "    result = f\"\"\"We love our country\n",
    "My country name is {country_name}\n",
    "{country_name} Zindabad\"\"\"\n",
    "    return result\n",
    "a = any_country(\"Pakistan\")\n",
    "print(a)"
   ]
  },
  {
   "cell_type": "code",
   "execution_count": 19,
   "id": "06cf377c",
   "metadata": {},
   "outputs": [
    {
     "name": "stdout",
     "output_type": "stream",
     "text": [
      "Saylani Mass IT Training\n",
      "Student ID: 1\n",
      "Student Name: Huzefa\n",
      "Timing:  3 to 6\n",
      "Batch: Ai and DS - 4\n",
      "\n",
      "Saylani Mass IT Training\n",
      "Student ID: 2\n",
      "Student Name: Bilal\n",
      "Timing:  3 to 6\n",
      "Batch: Ai and DS - 4\n",
      "\n",
      "Saylani Mass IT Training\n",
      "Student ID: 3\n",
      "Student Name: Saim\n",
      "Timing:  3 to 6\n",
      "Batch: Ai and DS - 4\n",
      "\n"
     ]
    }
   ],
   "source": [
    "data=[[1,\"Huzefa\",\" 3 to 6\",\"Ai and DS - 4\"],[2,\"Bilal\",\" 3 to 6\",\"Ai and DS - 4\"],[3,\"Saim\",\" 3 to 6\",\"Ai and DS - 4\"]]\n",
    "def card(id,name,time,batch):\n",
    "    card = f\"\"\"Saylani Mass IT Training\n",
    "Student ID: {id}\n",
    "Student Name: {name}\n",
    "Timing: {time}\n",
    "Batch: {batch}\"\"\"\n",
    "    return card\n",
    "for single_data in data:\n",
    "    print(card(single_data[0],single_data[1],single_data[2],single_data[3]),end=\"\\n\\n\")"
   ]
  },
  {
   "cell_type": "code",
   "execution_count": 20,
   "id": "d8a79e80",
   "metadata": {},
   "outputs": [
    {
     "name": "stdout",
     "output_type": "stream",
     "text": [
      "Saylani Mass IT Training\n",
      "Student ID: 1\n",
      "Student Name: Huzefa\n",
      "Timing:  3 to 6\n",
      "Batch: Ai and DS - 4\n",
      "\n",
      "Saylani Mass IT Training\n",
      "Student ID: 2\n",
      "Student Name: Bilal\n",
      "Timing:  3 to 6\n",
      "Batch: Ai and DS - 4\n",
      "\n",
      "Saylani Mass IT Training\n",
      "Student ID: 3\n",
      "Student Name: Saim\n",
      "Timing:  3 to 6\n",
      "Batch: Ai and DS - 4\n",
      "\n"
     ]
    }
   ],
   "source": [
    "data=[[1,\"Huzefa\",\" 3 to 6\",\"Ai and DS - 4\"],[2,\"Bilal\",\" 3 to 6\",\"Ai and DS - 4\"],[3,\"Saim\",\" 3 to 6\",\"Ai and DS - 4\"]]\n",
    "def card(id,name,time,batch):\n",
    "    card = f\"\"\"Saylani Mass IT Training\n",
    "Student ID: {id}\n",
    "Student Name: {name}\n",
    "Timing: {time}\n",
    "Batch: {batch}\"\"\"\n",
    "    return card\n",
    "for single_data in data:\n",
    "    print(card(*single_data),end=\"\\n\\n\")"
   ]
  },
  {
   "cell_type": "markdown",
   "id": "11dc1f16",
   "metadata": {},
   "source": [
    "# Optional Arguments/ default Arguments\n",
    "* define argument value in function declaring\n",
    "\n",
    "# Pass positional arguments/parameters"
   ]
  },
  {
   "cell_type": "code",
   "execution_count": 25,
   "id": "e30d91d9",
   "metadata": {},
   "outputs": [
    {
     "name": "stdout",
     "output_type": "stream",
     "text": [
      "3\n",
      "2\n",
      "0\n"
     ]
    }
   ],
   "source": [
    "def add_two_numbers(num1=0,num2=0):\n",
    "    return num1+num2\n",
    "\n",
    "print(add_two_numbers(1,2))\n",
    "print(add_two_numbers(2))\n",
    "print(add_two_numbers())"
   ]
  },
  {
   "cell_type": "markdown",
   "id": "5d12c5ae",
   "metadata": {},
   "source": [
    "# Key/Word Paramaters/Arguments during calling"
   ]
  },
  {
   "cell_type": "code",
   "execution_count": 30,
   "id": "631b8ab0",
   "metadata": {},
   "outputs": [
    {
     "name": "stdout",
     "output_type": "stream",
     "text": [
      "3\n",
      "2\n",
      "3\n"
     ]
    }
   ],
   "source": [
    "def add_two_numbers(num1=1,num2=2):\n",
    "    return num1+num2\n",
    "\n",
    "print(add_two_numbers(num1=1,num2=2))\n",
    "print(add_two_numbers(num2=1))\n",
    "print(add_two_numbers())"
   ]
  },
  {
   "cell_type": "code",
   "execution_count": 55,
   "id": "8f19a824",
   "metadata": {},
   "outputs": [
    {
     "ename": "TypeError",
     "evalue": "add_two_numbers() takes from 0 to 2 positional arguments but 4 were given",
     "output_type": "error",
     "traceback": [
      "\u001b[1;31m---------------------------------------------------------------------------\u001b[0m",
      "\u001b[1;31mTypeError\u001b[0m                                 Traceback (most recent call last)",
      "\u001b[1;32m~\\AppData\\Local\\Temp\\ipykernel_2172\\478192047.py\u001b[0m in \u001b[0;36m<module>\u001b[1;34m\u001b[0m\n\u001b[1;32m----> 1\u001b[1;33m \u001b[0mprint\u001b[0m\u001b[1;33m(\u001b[0m\u001b[0madd_two_numbers\u001b[0m\u001b[1;33m(\u001b[0m\u001b[1;36m1\u001b[0m\u001b[1;33m,\u001b[0m\u001b[1;36m2\u001b[0m\u001b[1;33m,\u001b[0m\u001b[1;36m3\u001b[0m\u001b[1;33m,\u001b[0m\u001b[1;36m5\u001b[0m\u001b[1;33m)\u001b[0m\u001b[1;33m)\u001b[0m\u001b[1;33m\u001b[0m\u001b[1;33m\u001b[0m\u001b[0m\n\u001b[0m",
      "\u001b[1;31mTypeError\u001b[0m: add_two_numbers() takes from 0 to 2 positional arguments but 4 were given"
     ]
    }
   ],
   "source": [
    "print(add_two_numbers(1,2,3,5))"
   ]
  },
  {
   "cell_type": "markdown",
   "id": "51075648",
   "metadata": {},
   "source": [
    "# Unlimited positional arguments for calling\n",
    "* add `*` before any parameter during declaration\n",
    "* `def my_fun(arg1,*arg2)`"
   ]
  },
  {
   "cell_type": "code",
   "execution_count": 37,
   "id": "897f0525",
   "metadata": {},
   "outputs": [
    {
     "name": "stdout",
     "output_type": "stream",
     "text": [
      "<class 'int'> <class 'tuple'>\n"
     ]
    }
   ],
   "source": [
    "def my_sum(num1,*value):\n",
    "    print(type(num1),type(value))\n",
    "my_sum(1,2)"
   ]
  },
  {
   "cell_type": "code",
   "execution_count": 38,
   "id": "35a1b380",
   "metadata": {},
   "outputs": [
    {
     "data": {
      "text/plain": [
       "36"
      ]
     },
     "execution_count": 38,
     "metadata": {},
     "output_type": "execute_result"
    }
   ],
   "source": [
    "def my_sum(num1,*value):\n",
    "    result = num1\n",
    "    for n in value:\n",
    "        result += n\n",
    "    return result\n",
    "my_sum(1,2,3,4,5,6,7,8)"
   ]
  },
  {
   "cell_type": "markdown",
   "id": "09ecb870",
   "metadata": {},
   "source": [
    "# Unlimited key/word arguments for calling\n",
    "* add `**` before any parameter during declaration\n",
    "* `def my_fun(arg1,**arg2)`"
   ]
  },
  {
   "cell_type": "code",
   "execution_count": 42,
   "id": "5040e036",
   "metadata": {},
   "outputs": [],
   "source": [
    "def abc(**value):\n",
    "    print(value)\n",
    "    print(type(value))"
   ]
  },
  {
   "cell_type": "code",
   "execution_count": 43,
   "id": "16946e4e",
   "metadata": {},
   "outputs": [
    {
     "ename": "TypeError",
     "evalue": "abc() takes 0 positional arguments but 1 was given",
     "output_type": "error",
     "traceback": [
      "\u001b[1;31m---------------------------------------------------------------------------\u001b[0m",
      "\u001b[1;31mTypeError\u001b[0m                                 Traceback (most recent call last)",
      "\u001b[1;32m~\\AppData\\Local\\Temp\\ipykernel_2172\\4056695116.py\u001b[0m in \u001b[0;36m<module>\u001b[1;34m\u001b[0m\n\u001b[1;32m----> 1\u001b[1;33m \u001b[0mabc\u001b[0m\u001b[1;33m(\u001b[0m\u001b[1;36m1\u001b[0m\u001b[1;33m)\u001b[0m\u001b[1;33m\u001b[0m\u001b[1;33m\u001b[0m\u001b[0m\n\u001b[0m",
      "\u001b[1;31mTypeError\u001b[0m: abc() takes 0 positional arguments but 1 was given"
     ]
    }
   ],
   "source": [
    "abc(1)"
   ]
  },
  {
   "cell_type": "code",
   "execution_count": 46,
   "id": "14be48d5",
   "metadata": {},
   "outputs": [
    {
     "name": "stdout",
     "output_type": "stream",
     "text": [
      "{'num1': 1, 'num2': 2, 'num3': 3}\n",
      "<class 'dict'>\n"
     ]
    }
   ],
   "source": [
    "abc(num1=1,num2=2,num3=3)"
   ]
  },
  {
   "cell_type": "markdown",
   "id": "c77ee086",
   "metadata": {},
   "source": [
    "**Create function with required arguments, optional arguments, unlimited positional arguments, unlimited key/word arguments**"
   ]
  },
  {
   "cell_type": "code",
   "execution_count": 47,
   "id": "b0cbda28",
   "metadata": {},
   "outputs": [],
   "source": [
    "def my_custom_function(num1,num2=7,*value1,**value2):\n",
    "    print(type(num1),type(num2),type(value1),type(value2))\n",
    "    print(\"Required Argument:\",num1)\n",
    "    print(\"Optional Argument\",num2)\n",
    "    print(\"Unlimited Positional Argument\",value1)\n",
    "    print(\"Unlimited Key/Word Argument\",value2)"
   ]
  },
  {
   "cell_type": "code",
   "execution_count": 53,
   "id": "1dbbfe4d",
   "metadata": {},
   "outputs": [
    {
     "name": "stdout",
     "output_type": "stream",
     "text": [
      "<class 'int'> <class 'int'> <class 'tuple'> <class 'dict'>\n",
      "Required Argument: 3\n",
      "Optional Argument 4\n",
      "Unlimited Positional Argument ('a', 'b', 'c')\n",
      "Unlimited Key/Word Argument {'name': 'Huzefa'}\n"
     ]
    }
   ],
   "source": [
    "my_custom_function(3,4,'a','b','c',name=\"Huzefa\")"
   ]
  },
  {
   "cell_type": "code",
   "execution_count": 54,
   "id": "71edc9c2",
   "metadata": {},
   "outputs": [
    {
     "name": "stdout",
     "output_type": "stream",
     "text": [
      "<class 'int'> <class 'int'> <class 'tuple'> <class 'dict'>\n",
      "Required Argument: 6\n",
      "Optional Argument 7\n",
      "Unlimited Positional Argument ()\n",
      "Unlimited Key/Word Argument {}\n"
     ]
    }
   ],
   "source": [
    "my_custom_function(6)"
   ]
  },
  {
   "cell_type": "markdown",
   "id": "c47d66aa",
   "metadata": {},
   "source": [
    "# Lambda function\n",
    "* no name function\n",
    "* one line function\n",
    "* is se pehle na istemaal hua na iske baad istemaal hoga"
   ]
  },
  {
   "cell_type": "code",
   "execution_count": 58,
   "id": "1aa8f34c",
   "metadata": {},
   "outputs": [],
   "source": [
    "def add_two_num(num1,num2):\n",
    "    return num1+num2"
   ]
  },
  {
   "cell_type": "code",
   "execution_count": 62,
   "id": "4375cafa",
   "metadata": {},
   "outputs": [
    {
     "data": {
      "text/plain": [
       "16"
      ]
     },
     "execution_count": 62,
     "metadata": {},
     "output_type": "execute_result"
    }
   ],
   "source": [
    "a = lambda num1,num2: num1 + num2\n",
    "a(7,9)"
   ]
  },
  {
   "cell_type": "code",
   "execution_count": 70,
   "id": "2cdfc980",
   "metadata": {},
   "outputs": [],
   "source": [
    "li = [[1,'a','Z'],[2,'b','Y'],[3,'c','X']]"
   ]
  },
  {
   "cell_type": "code",
   "execution_count": 71,
   "id": "cc825f1e",
   "metadata": {},
   "outputs": [
    {
     "data": {
      "text/plain": [
       "[[1, 'a', 'Z'], [2, 'b', 'Y'], [3, 'c', 'X']]"
      ]
     },
     "execution_count": 71,
     "metadata": {},
     "output_type": "execute_result"
    }
   ],
   "source": [
    "sorted(li, key=lambda x:x[0])"
   ]
  },
  {
   "cell_type": "code",
   "execution_count": 72,
   "id": "653398f9",
   "metadata": {},
   "outputs": [
    {
     "data": {
      "text/plain": [
       "[[1, 'a', 'Z'], [2, 'b', 'Y'], [3, 'c', 'X']]"
      ]
     },
     "execution_count": 72,
     "metadata": {},
     "output_type": "execute_result"
    }
   ],
   "source": [
    "sorted(li, key=lambda x:x[1])"
   ]
  },
  {
   "cell_type": "code",
   "execution_count": 73,
   "id": "ade847de",
   "metadata": {},
   "outputs": [
    {
     "data": {
      "text/plain": [
       "[[3, 'c', 'X'], [2, 'b', 'Y'], [1, 'a', 'Z']]"
      ]
     },
     "execution_count": 73,
     "metadata": {},
     "output_type": "execute_result"
    }
   ],
   "source": [
    "sorted(li, key=lambda x:x[2])"
   ]
  },
  {
   "cell_type": "code",
   "execution_count": null,
   "id": "dc36a4cc",
   "metadata": {},
   "outputs": [],
   "source": []
  }
 ],
 "metadata": {
  "kernelspec": {
   "display_name": "Python 3 (ipykernel)",
   "language": "python",
   "name": "python3"
  },
  "language_info": {
   "codemirror_mode": {
    "name": "ipython",
    "version": 3
   },
   "file_extension": ".py",
   "mimetype": "text/x-python",
   "name": "python",
   "nbconvert_exporter": "python",
   "pygments_lexer": "ipython3",
   "version": "3.9.13"
  }
 },
 "nbformat": 4,
 "nbformat_minor": 5
}
