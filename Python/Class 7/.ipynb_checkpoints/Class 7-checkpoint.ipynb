{
 "cells": [
  {
   "cell_type": "markdown",
   "id": "8f61142a",
   "metadata": {},
   "source": [
    "# Control Block\n",
    "## Programming paradigms\n",
    "### Linear Programming\n",
    "### Structural/ Control Programming\n",
    "### Object Oriented Progromming"
   ]
  },
  {
   "cell_type": "markdown",
   "id": "ccecd26b",
   "metadata": {},
   "source": [
    "# Linear Programming"
   ]
  },
  {
   "cell_type": "code",
   "execution_count": 28,
   "id": "c9490c63",
   "metadata": {},
   "outputs": [
    {
     "name": "stdout",
     "output_type": "stream",
     "text": [
      "pakistan zindabad\n",
      "pakistan zindabad\n",
      "pakistan zindabad\n",
      "pakistan zindabad\n",
      "pakistan zindabad\n"
     ]
    }
   ],
   "source": [
    "# executing line by line\n",
    "print(\"pakistan zindabad\")\n",
    "print(\"pakistan zindabad\")\n",
    "print(\"pakistan zindabad\")\n",
    "print(\"pakistan zindabad\")\n",
    "print(\"pakistan zindabad\")"
   ]
  },
  {
   "cell_type": "markdown",
   "id": "5242e0dd",
   "metadata": {},
   "source": [
    "# Structural Programming"
   ]
  },
  {
   "cell_type": "code",
   "execution_count": 29,
   "id": "4e87fda9",
   "metadata": {},
   "outputs": [
    {
     "name": "stdout",
     "output_type": "stream",
     "text": [
      "pakistan zindabad\n",
      "pakistan zindabad\n",
      "pakistan zindabad\n",
      "pakistan zindabad\n",
      "pakistan zindabad\n"
     ]
    }
   ],
   "source": [
    "# a structure of code\n",
    "for num in range(1,6):\n",
    "    print(\"pakistan zindabad\")"
   ]
  },
  {
   "cell_type": "markdown",
   "id": "2e0dda1a",
   "metadata": {},
   "source": [
    "# Controls\n",
    "* if\n",
    "    * else\n",
    "    * elif\n",
    "* for/while\n",
    "    * break\n",
    "    * continue\n",
    "    * pass\n",
    "    * else\n",
    "* def\n",
    "* try\n",
    "    * except\n",
    "    * else"
   ]
  },
  {
   "cell_type": "markdown",
   "id": "76a8e91c",
   "metadata": {},
   "source": [
    "# if elif else\n",
    "**```if logic:\n",
    "    True_block_body\n",
    "else:\n",
    "    False_block_body```**\n",
    "    \n",
    "**```True_block_body if True else False_block_body```**"
   ]
  },
  {
   "cell_type": "code",
   "execution_count": 30,
   "id": "99f62d7b",
   "metadata": {},
   "outputs": [
    {
     "name": "stdout",
     "output_type": "stream",
     "text": [
      "Pakistan\n"
     ]
    }
   ],
   "source": [
    "if True:\n",
    "    print(\"Pakistan\")\n",
    "else:\n",
    "    print(\"America\")"
   ]
  },
  {
   "cell_type": "code",
   "execution_count": 31,
   "id": "bd1d4d8f",
   "metadata": {},
   "outputs": [
    {
     "name": "stdout",
     "output_type": "stream",
     "text": [
      "America\n"
     ]
    }
   ],
   "source": [
    "if False:\n",
    "    print(\"Pakistan\")\n",
    "else:\n",
    "    print(\"America\")"
   ]
  },
  {
   "cell_type": "code",
   "execution_count": 32,
   "id": "d52e30e8",
   "metadata": {},
   "outputs": [
    {
     "name": "stdout",
     "output_type": "stream",
     "text": [
      "America\n"
     ]
    }
   ],
   "source": [
    "print(\"Pakistan\") if False else print(\"America\")"
   ]
  },
  {
   "cell_type": "code",
   "execution_count": 33,
   "id": "7c34978a",
   "metadata": {},
   "outputs": [
    {
     "name": "stdout",
     "output_type": "stream",
     "text": [
      "Enter any number:4\n",
      "Even\n",
      "4 <class 'int'>\n"
     ]
    }
   ],
   "source": [
    "num = int(input(\"Enter any number:\"))\n",
    "if num % 2 == 0:\n",
    "    print(\"Even\")\n",
    "else:\n",
    "    print(\"Odd\")\n",
    "print(num,type(num))"
   ]
  },
  {
   "cell_type": "code",
   "execution_count": 34,
   "id": "5803931a",
   "metadata": {},
   "outputs": [
    {
     "name": "stdout",
     "output_type": "stream",
     "text": [
      "Enter your percentage:42\n",
      "Fail\n"
     ]
    }
   ],
   "source": [
    "per = int(input(\"Enter your percentage:\"))\n",
    "if per >= 0:\n",
    "    print(\"Fail\")\n",
    "elif per >= 33:\n",
    "    print(\"E\")\n",
    "elif per >= 40:\n",
    "    print(\"D\")\n",
    "elif per >= 50:\n",
    "    print(\"C\")\n",
    "elif per >= 60:\n",
    "    print(\"B\")\n",
    "elif per >= 70:\n",
    "    print(\"A\")\n",
    "elif per >= 80:\n",
    "    print(\"A+\")"
   ]
  },
  {
   "cell_type": "code",
   "execution_count": 35,
   "id": "45236492",
   "metadata": {},
   "outputs": [
    {
     "name": "stdout",
     "output_type": "stream",
     "text": [
      "Enter your percentage:24\n",
      "Fail\n"
     ]
    }
   ],
   "source": [
    "per = int(input(\"Enter your percentage:\"))\n",
    "if per >= 80:\n",
    "    print(\"A+\")\n",
    "elif per >= 70:\n",
    "    print(\"A\")\n",
    "elif per >= 60:\n",
    "    print(\"B\")\n",
    "elif per >= 50:\n",
    "    print(\"C\")\n",
    "elif per >= 40:\n",
    "    print(\"D\")\n",
    "elif per >= 33:\n",
    "    print(\"E\")\n",
    "else:\n",
    "    print(\"Fail\")"
   ]
  },
  {
   "cell_type": "code",
   "execution_count": 36,
   "id": "cabcdad3",
   "metadata": {},
   "outputs": [
    {
     "name": "stdout",
     "output_type": "stream",
     "text": [
      "Enter your percentage:44\n",
      "D\n"
     ]
    }
   ],
   "source": [
    "per = int(input(\"Enter your percentage:\"))\n",
    "if per >= 0 and per < 33:\n",
    "    print(\"Fail\")\n",
    "elif per >= 33 and per < 40:\n",
    "    print(\"E\")\n",
    "elif per >= 40 and per < 50:\n",
    "    print(\"D\")\n",
    "elif per >= 50 and per < 60:\n",
    "    print(\"C\")\n",
    "elif per >= 60 and per < 70:\n",
    "    print(\"B\")\n",
    "elif per >= 70 and per < 80:\n",
    "    print(\"A\")\n",
    "elif per >= 80 and per <= 100:\n",
    "    print(\"A+\")\n",
    "else:\n",
    "    print(\"Invalid Percentage\")"
   ]
  },
  {
   "cell_type": "code",
   "execution_count": 37,
   "id": "d8f57339",
   "metadata": {},
   "outputs": [
    {
     "name": "stdout",
     "output_type": "stream",
     "text": [
      "Enter Username:admin\n",
      "Enter Password:admin\n",
      "Hey Mr Admin, You are Welcome\n"
     ]
    }
   ],
   "source": [
    "username = input(\"Enter Username:\").lower()\n",
    "password = input(\"Enter Password:\")\n",
    "if username == \"admin\" and password == \"admin\":\n",
    "    print(\"Hey Mr Admin, You are Welcome\")\n",
    "else:\n",
    "    print(\"Hey User, You are Welcome\")"
   ]
  },
  {
   "cell_type": "code",
   "execution_count": 38,
   "id": "f619c917",
   "metadata": {},
   "outputs": [
    {
     "name": "stdout",
     "output_type": "stream",
     "text": [
      "Enter Username: hiad\n",
      "Enter Password: jadaoad\n",
      "Hey User, You are Welcome\n"
     ]
    }
   ],
   "source": [
    "username = input(\"Enter Username: \").lower()\n",
    "password = input(\"Enter Password: \")\n",
    "print(\"Hey Mr Admin, You are Welcome\") if username == \"admin\" and password == \"admin\" else print(\"Hey User, You are Welcome\")"
   ]
  },
  {
   "cell_type": "code",
   "execution_count": 39,
   "id": "c0da1f49",
   "metadata": {},
   "outputs": [
    {
     "data": {
      "text/plain": [
       "['P', 'a', 'k', 'i', 's', 't', 'a', 'n']"
      ]
     },
     "execution_count": 39,
     "metadata": {},
     "output_type": "execute_result"
    }
   ],
   "source": [
    "list(\"Pakistan\")"
   ]
  },
  {
   "cell_type": "code",
   "execution_count": 40,
   "id": "3a7b37b1",
   "metadata": {},
   "outputs": [
    {
     "name": "stdout",
     "output_type": "stream",
     "text": [
      "0 Pakistan\n",
      "1 Zindabad\n"
     ]
    }
   ],
   "source": [
    "for index,value in enumerate([\"Pakistan\",\"Zindabad\"]):\n",
    "    print(index,value)"
   ]
  },
  {
   "cell_type": "markdown",
   "id": "f08583eb",
   "metadata": {},
   "source": [
    "### ASCII\n",
    "* 0-9 = 48-57\n",
    "* A-Z = 65-90\n",
    "* a-z = 97-122\n",
    "# Dealing with ASCII\n",
    "* ord\n",
    "* chr"
   ]
  },
  {
   "cell_type": "code",
   "execution_count": 41,
   "id": "c14550ac",
   "metadata": {},
   "outputs": [
    {
     "name": "stdout",
     "output_type": "stream",
     "text": [
      "48\n",
      "65\n",
      "97\n",
      "0\n",
      "A\n",
      "a\n"
     ]
    }
   ],
   "source": [
    "print(ord(\"0\"))\n",
    "print(ord(\"A\"))\n",
    "print(ord(\"a\"))\n",
    "print(chr(48))\n",
    "print(chr(65))\n",
    "print(chr(97))"
   ]
  },
  {
   "cell_type": "code",
   "execution_count": 42,
   "id": "dc8aec84",
   "metadata": {},
   "outputs": [
    {
     "name": "stdout",
     "output_type": "stream",
     "text": [
      "A\n",
      "B\n",
      "C\n",
      "D\n",
      "E\n",
      "F\n",
      "G\n",
      "H\n",
      "I\n",
      "J\n",
      "K\n",
      "L\n",
      "M\n",
      "N\n",
      "O\n",
      "P\n",
      "Q\n",
      "R\n",
      "S\n",
      "T\n",
      "U\n",
      "V\n",
      "W\n",
      "X\n",
      "Y\n",
      "Z\n"
     ]
    }
   ],
   "source": [
    "for ascii in range(65,91):\n",
    "    print(chr(ascii))"
   ]
  },
  {
   "cell_type": "code",
   "execution_count": 43,
   "id": "0c067ace",
   "metadata": {},
   "outputs": [
    {
     "ename": "SyntaxError",
     "evalue": "invalid syntax (1867852786.py, line 1)",
     "output_type": "error",
     "traceback": [
      "\u001b[1;36m  File \u001b[1;32m\"C:\\Users\\huzef\\AppData\\Local\\Temp\\ipykernel_5928\\1867852786.py\"\u001b[1;36m, line \u001b[1;32m1\u001b[0m\n\u001b[1;33m    [chr(i) for i in range(65,91)]+\u001b[0m\n\u001b[1;37m                                   ^\u001b[0m\n\u001b[1;31mSyntaxError\u001b[0m\u001b[1;31m:\u001b[0m invalid syntax\n"
     ]
    }
   ],
   "source": [
    "[chr(i) for i in range(65,91)]+\n",
    "[chr(i) for i in range(97,123)]+\n",
    "[chr(i) for i in range(48,58)]"
   ]
  },
  {
   "cell_type": "code",
   "execution_count": null,
   "id": "dc29adf8",
   "metadata": {},
   "outputs": [],
   "source": [
    "[chr(i) for i in range(65,91)]+\\\n",
    "[chr(i) for i in range(97,123)]+\\\n",
    "[chr(i) for i in range(48,58)]"
   ]
  },
  {
   "cell_type": "code",
   "execution_count": null,
   "id": "e946c0d1",
   "metadata": {},
   "outputs": [],
   "source": [
    "[chr(i) for i in range(65,91)]+[chr(i) for i in range(97,123)]+[chr(i) for i in range(48,58)]"
   ]
  },
  {
   "cell_type": "code",
   "execution_count": null,
   "id": "05654f7d",
   "metadata": {},
   "outputs": [],
   "source": [
    "for i in range(65,91):\n",
    "    if i%2==0:\n",
    "        print(chr(i))"
   ]
  },
  {
   "cell_type": "code",
   "execution_count": null,
   "id": "5bc6a111",
   "metadata": {},
   "outputs": [],
   "source": [
    "[chr(i) for i in range(65,91) if i%2==0]"
   ]
  },
  {
   "cell_type": "code",
   "execution_count": null,
   "id": "6a8800f6",
   "metadata": {},
   "outputs": [],
   "source": [
    "[chr(i) for i in range(65,91) if i%2!=0]"
   ]
  },
  {
   "cell_type": "code",
   "execution_count": null,
   "id": "75406a02",
   "metadata": {},
   "outputs": [],
   "source": [
    "for i in range(1,11):\n",
    "    print(i)\n",
    "    break"
   ]
  },
  {
   "cell_type": "code",
   "execution_count": null,
   "id": "8b24fd00",
   "metadata": {},
   "outputs": [],
   "source": [
    "data = [\n",
    "    {'id':1,'name':'Huzefa'},\n",
    "    {'id':2,'name':'Bilal'},\n",
    "    {'id':3,'name':'Saim'}\n",
    "]\n",
    "for record in data:\n",
    "    card = \"\"\"Saylani Mass IT Training\n",
    "Roll: {id}\n",
    "Name: {name}\"\"\".format_map(record)\n",
    "    print(card,end='\\n\\n')"
   ]
  },
  {
   "cell_type": "code",
   "execution_count": null,
   "id": "18240365",
   "metadata": {},
   "outputs": [],
   "source": [
    "data = [\n",
    "    {'id':1,'name':'Huzefa'},\n",
    "    {'id':2,'name':'Bilal'},\n",
    "    {'id':3,'name':'Saim'}\n",
    "]\n",
    "name = input(\"Enter name: \")\n",
    "for record in data:\n",
    "    if record['name'] == name:\n",
    "        print(record)\n",
    "        break\n",
    "else:\n",
    "    print(\"Invalid User\")"
   ]
  },
  {
   "cell_type": "code",
   "execution_count": null,
   "id": "0b60e378",
   "metadata": {},
   "outputs": [],
   "source": [
    "for i in range(1,11):\n",
    "    if i == 5:\n",
    "        continue\n",
    "    print(i)"
   ]
  },
  {
   "cell_type": "code",
   "execution_count": null,
   "id": "585b1c31",
   "metadata": {},
   "outputs": [],
   "source": [
    "for i in range(1,10):\n",
    "    "
   ]
  },
  {
   "cell_type": "code",
   "execution_count": null,
   "id": "2bf9652b",
   "metadata": {},
   "outputs": [],
   "source": [
    "for i in range(1,10):\n",
    "    pass"
   ]
  },
  {
   "cell_type": "markdown",
   "id": "356fcd8c",
   "metadata": {},
   "source": [
    "# while\n",
    "* counter\n",
    "* logic\n",
    "* loop body\n",
    "* increment/decrement"
   ]
  },
  {
   "cell_type": "code",
   "execution_count": 45,
   "id": "b367c19c",
   "metadata": {},
   "outputs": [
    {
     "name": "stdout",
     "output_type": "stream",
     "text": [
      "0 line\n",
      "1 line\n",
      "2 line\n",
      "3 line\n",
      "4 line\n",
      "5 line\n",
      "6 line\n",
      "7 line\n",
      "8 line\n",
      "9 line\n",
      "10 line\n"
     ]
    }
   ],
   "source": [
    "counter = 0\n",
    "while counter <= 10:\n",
    "    print(counter,'line')\n",
    "    counter += 1"
   ]
  },
  {
   "cell_type": "code",
   "execution_count": 47,
   "id": "19e0d988",
   "metadata": {},
   "outputs": [
    {
     "name": "stdout",
     "output_type": "stream",
     "text": [
      "100 HI\n",
      "99 HI\n",
      "98 HI\n",
      "97 HI\n",
      "96 HI\n",
      "95 HI\n",
      "94 HI\n",
      "93 HI\n",
      "92 HI\n",
      "91 HI\n",
      "90 HI\n"
     ]
    }
   ],
   "source": [
    "counter = 100\n",
    "while counter >= 90:\n",
    "    print(counter,\"HI\")\n",
    "    counter -= 1"
   ]
  },
  {
   "cell_type": "code",
   "execution_count": 51,
   "id": "2d833aee",
   "metadata": {},
   "outputs": [
    {
     "name": "stdout",
     "output_type": "stream",
     "text": [
      "2023 Year\n",
      "2022 Year\n",
      "2021 Year\n",
      "2020 Year\n",
      "2019 Year\n",
      "2018 Year\n",
      "2017 Year\n",
      "2016 Year\n",
      "2015 Year\n",
      "2014 Year\n",
      "2013 Year\n",
      "2012 Year\n",
      "2011 Year\n",
      "2010 Year\n",
      "2009 Year\n",
      "2008 Year\n",
      "2007 Year\n",
      "2006 Year\n",
      "2005 Year\n",
      "2004 Year\n",
      "2003 Year\n",
      "2002 Year\n",
      "2001 Year\n"
     ]
    }
   ],
   "source": [
    "counter = 2023\n",
    "while counter > 2000:\n",
    "    print(counter,\"Year\")\n",
    "    counter -= 1"
   ]
  },
  {
   "cell_type": "code",
   "execution_count": null,
   "id": "5f61e3b2",
   "metadata": {},
   "outputs": [],
   "source": []
  }
 ],
 "metadata": {
  "kernelspec": {
   "display_name": "Python 3 (ipykernel)",
   "language": "python",
   "name": "python3"
  },
  "language_info": {
   "codemirror_mode": {
    "name": "ipython",
    "version": 3
   },
   "file_extension": ".py",
   "mimetype": "text/x-python",
   "name": "python",
   "nbconvert_exporter": "python",
   "pygments_lexer": "ipython3",
   "version": "3.9.13"
  }
 },
 "nbformat": 4,
 "nbformat_minor": 5
}
