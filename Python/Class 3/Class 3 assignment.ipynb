{
 "cells": [
  {
   "cell_type": "markdown",
   "id": "df084459",
   "metadata": {},
   "source": [
    "# Assignment: Apply 46 strong class method on card variable"
   ]
  },
  {
   "cell_type": "code",
   "execution_count": 1,
   "id": "3aacc0ea",
   "metadata": {},
   "outputs": [
    {
     "name": "stdout",
     "output_type": "stream",
     "text": [
      "Institute Name: Saylani Mass IT Training\n",
      "Student Full Name: Huzefa Mustafa\n",
      "Age: 21\n"
     ]
    }
   ],
   "source": [
    "first_name = \"Huzefa\"\n",
    "last_name = \"Mustafa\"\n",
    "institute_name = \"Saylani Mass IT Training\"\n",
    "age = 21\n",
    "\n",
    "card = f\"\"\"Institute Name: {institute_name}\n",
    "Student Full Name: {first_name} {last_name}\n",
    "Age: {age}\"\"\"\n",
    "\n",
    "print(card)"
   ]
  },
  {
   "cell_type": "code",
   "execution_count": 2,
   "id": "504abb6b",
   "metadata": {},
   "outputs": [
    {
     "name": "stdout",
     "output_type": "stream",
     "text": [
      "0 capitalize\n",
      "1 casefold\n",
      "2 center\n",
      "3 count\n",
      "4 encode\n",
      "5 endswith\n",
      "6 expandtabs\n",
      "7 find\n",
      "8 format\n",
      "9 index\n",
      "10 isalnum\n",
      "11 isalpha\n",
      "12 isascii\n",
      "13 isdecimal\n",
      "14 isdigit\n",
      "15 isidentifier\n",
      "16 islower\n",
      "17 isnumeric\n",
      "18 isprintable\n",
      "19 isspace\n",
      "20 istitle\n",
      "21 isupper\n",
      "22 join\n",
      "23 ljust\n",
      "24 lower\n",
      "25 lstrip\n",
      "26 maketrans\n",
      "27 partition\n",
      "28 removeprefix\n",
      "29 removesuffix\n",
      "30 replace\n",
      "31 rfind\n",
      "32 rindex\n",
      "33 rjust\n",
      "34 rpartition\n",
      "35 rsplit\n",
      "36 rstrip\n",
      "37 split\n",
      "38 splitlines\n",
      "39 startswith\n",
      "40 strip\n",
      "41 swapcase\n",
      "42 title\n",
      "43 translate\n",
      "44 upper\n",
      "45 zfill\n"
     ]
    }
   ],
   "source": [
    "for  idx, i in enumerate([i for i in dir(card) if \"_\" not in i]):\n",
    "    print(idx,i)"
   ]
  },
  {
   "cell_type": "code",
   "execution_count": 3,
   "id": "9f681af4",
   "metadata": {},
   "outputs": [
    {
     "name": "stdout",
     "output_type": "stream",
     "text": [
      "Institute name: saylani mass it training\n",
      "student full name: huzefa mustafa\n",
      "age: 21\n"
     ]
    }
   ],
   "source": [
    "# capitalize\n",
    "print(card.capitalize()) # capitalizes only the first letter"
   ]
  },
  {
   "cell_type": "code",
   "execution_count": 4,
   "id": "9da4ca90",
   "metadata": {},
   "outputs": [
    {
     "name": "stdout",
     "output_type": "stream",
     "text": [
      "institute name: saylani mass it training\n",
      "student full name: huzefa mustafa\n",
      "age: 21\n"
     ]
    }
   ],
   "source": [
    "# casefold\n",
    "print(card.casefold()) # converts to small case"
   ]
  },
  {
   "cell_type": "code",
   "execution_count": 5,
   "id": "c2b4f6f1",
   "metadata": {},
   "outputs": [
    {
     "name": "stdout",
     "output_type": "stream",
     "text": [
      "Institute Name: Saylani Mass IT Training\n",
      "Student Full Name: Huzefa Mustafa\n",
      "Age: 21\n"
     ]
    }
   ],
   "source": [
    "# center\n",
    "print(card.center(20,\"*\")) # centers the string with 20 space to left and right with * "
   ]
  },
  {
   "cell_type": "code",
   "execution_count": 6,
   "id": "d03f20be",
   "metadata": {},
   "outputs": [
    {
     "name": "stdout",
     "output_type": "stream",
     "text": [
      "2\n"
     ]
    }
   ],
   "source": [
    "# count\n",
    "print(card.count(\"fa\")) # count number of occurences of given value"
   ]
  },
  {
   "cell_type": "code",
   "execution_count": 7,
   "id": "d1ca8487",
   "metadata": {},
   "outputs": [
    {
     "name": "stdout",
     "output_type": "stream",
     "text": [
      "b'Hi Huzef\\xc3\\xa5'\n"
     ]
    }
   ],
   "source": [
    "# encode\n",
    "x = \"Hi Huzefå\"\n",
    "print(x.encode()) # encodes special characters"
   ]
  },
  {
   "cell_type": "code",
   "execution_count": 8,
   "id": "57e45a76",
   "metadata": {},
   "outputs": [
    {
     "name": "stdout",
     "output_type": "stream",
     "text": [
      "True\n"
     ]
    }
   ],
   "source": [
    "# endswith\n",
    "print(card.endswith(\"1\")) # returns true/false if string ends with value given"
   ]
  },
  {
   "cell_type": "code",
   "execution_count": 9,
   "id": "b115aa69",
   "metadata": {},
   "outputs": [
    {
     "name": "stdout",
     "output_type": "stream",
     "text": [
      "Institute Name: Saylani Mass IT Training\n",
      "Student Full Name: Huzefa Mustafa\n",
      "Age: 21\n"
     ]
    }
   ],
   "source": [
    "# expandtabs\n",
    "print(card.expandtabs(2)) #changes the size \\t takes"
   ]
  },
  {
   "cell_type": "code",
   "execution_count": 10,
   "id": "791422eb",
   "metadata": {},
   "outputs": [
    {
     "name": "stdout",
     "output_type": "stream",
     "text": [
      "6\n"
     ]
    }
   ],
   "source": [
    "# find\n",
    "print(card.find(\"u\")) #location of first occurence"
   ]
  },
  {
   "cell_type": "code",
   "execution_count": 11,
   "id": "9b05be48",
   "metadata": {},
   "outputs": [
    {
     "name": "stdout",
     "output_type": "stream",
     "text": [
      "Huzefa Mustafa\n"
     ]
    }
   ],
   "source": [
    "# format\n",
    "lname = \"Mustafa\"\n",
    "x = \"Huzefa {}\".format(lname) # enters value of lname in the placeholder {}\n",
    "print(x)"
   ]
  },
  {
   "cell_type": "code",
   "execution_count": 12,
   "id": "0baae372",
   "metadata": {},
   "outputs": [
    {
     "name": "stdout",
     "output_type": "stream",
     "text": [
      "6\n"
     ]
    }
   ],
   "source": [
    "# index\n",
    "print(card.index(\"u\")) #location of first occurence"
   ]
  },
  {
   "cell_type": "code",
   "execution_count": 13,
   "id": "1221d821",
   "metadata": {},
   "outputs": [
    {
     "name": "stdout",
     "output_type": "stream",
     "text": [
      "False\n"
     ]
    }
   ],
   "source": [
    "# isalnum\n",
    "print(card.isalnum())  # Return True if the string is an alpha-numeric string, False otherwise."
   ]
  },
  {
   "cell_type": "code",
   "execution_count": 14,
   "id": "de9333e9",
   "metadata": {},
   "outputs": [
    {
     "name": "stdout",
     "output_type": "stream",
     "text": [
      "False\n"
     ]
    }
   ],
   "source": [
    "# isalpha\n",
    "print(card.isalpha()) # Return True if the string is an alphabetic string, False otherwise."
   ]
  },
  {
   "cell_type": "code",
   "execution_count": 15,
   "id": "4879ec7b",
   "metadata": {},
   "outputs": [
    {
     "name": "stdout",
     "output_type": "stream",
     "text": [
      "True\n"
     ]
    }
   ],
   "source": [
    "# isascii\n",
    "print(card.isascii()) # Return True if all characters in the string are ASCII, False otherwise."
   ]
  },
  {
   "cell_type": "code",
   "execution_count": 16,
   "id": "9436e02e",
   "metadata": {},
   "outputs": [
    {
     "name": "stdout",
     "output_type": "stream",
     "text": [
      "False\n"
     ]
    }
   ],
   "source": [
    "# isdecimal\n",
    "print(card.isdecimal()) # Return True if the string is a decimal string, False otherwise."
   ]
  },
  {
   "cell_type": "code",
   "execution_count": 17,
   "id": "55c36fd4",
   "metadata": {},
   "outputs": [
    {
     "name": "stdout",
     "output_type": "stream",
     "text": [
      "False\n"
     ]
    }
   ],
   "source": [
    "# isdigit\n",
    "print(card.isdigit()) # Return True if the string is a digit string, False otherwise."
   ]
  },
  {
   "cell_type": "code",
   "execution_count": 18,
   "id": "baadc88d",
   "metadata": {},
   "outputs": [
    {
     "name": "stdout",
     "output_type": "stream",
     "text": [
      "False\n"
     ]
    }
   ],
   "source": [
    "# isidentifier\n",
    "print(card.isidentifier()) # Return True if the string is a valid Python identifier, False otherwise."
   ]
  },
  {
   "cell_type": "code",
   "execution_count": 19,
   "id": "a251db9a",
   "metadata": {},
   "outputs": [
    {
     "name": "stdout",
     "output_type": "stream",
     "text": [
      "False\n"
     ]
    }
   ],
   "source": [
    "# islower\n",
    "print(card.islower()) # Return True if the string is a lowercase string, False otherwise."
   ]
  },
  {
   "cell_type": "code",
   "execution_count": 20,
   "id": "f6e16079",
   "metadata": {},
   "outputs": [
    {
     "name": "stdout",
     "output_type": "stream",
     "text": [
      "False\n"
     ]
    }
   ],
   "source": [
    "# isnumeric\n",
    "print(card.isnumeric()) # Return True if the string is a numeric string, False otherwise."
   ]
  },
  {
   "cell_type": "code",
   "execution_count": 21,
   "id": "d7db0a33",
   "metadata": {},
   "outputs": [
    {
     "name": "stdout",
     "output_type": "stream",
     "text": [
      "False\n"
     ]
    }
   ],
   "source": [
    "# isprintable\n",
    "print(card.isprintable()) # Return True if the string is printable, False otherwise."
   ]
  },
  {
   "cell_type": "code",
   "execution_count": 22,
   "id": "b3174d22",
   "metadata": {},
   "outputs": [
    {
     "name": "stdout",
     "output_type": "stream",
     "text": [
      "False\n"
     ]
    }
   ],
   "source": [
    "# isspace\n",
    "print(card.isspace()) # Return True if the string is a whitespace string, False otherwise."
   ]
  },
  {
   "cell_type": "code",
   "execution_count": 23,
   "id": "d79de990",
   "metadata": {},
   "outputs": [
    {
     "name": "stdout",
     "output_type": "stream",
     "text": [
      "False\n"
     ]
    }
   ],
   "source": [
    "# istitle\n",
    "print(card.istitle()) # Return True if the string is a title-cased string, False otherwise."
   ]
  },
  {
   "cell_type": "code",
   "execution_count": 24,
   "id": "e00112bb",
   "metadata": {},
   "outputs": [
    {
     "name": "stdout",
     "output_type": "stream",
     "text": [
      "False\n"
     ]
    }
   ],
   "source": [
    "# isupper\n",
    "print(card.isupper()) # Return True if the string is an uppercase string, False otherwise."
   ]
  },
  {
   "cell_type": "code",
   "execution_count": 25,
   "id": "939505b9",
   "metadata": {},
   "outputs": [
    {
     "name": "stdout",
     "output_type": "stream",
     "text": [
      "MHuzefa MustafauHuzefa MustafasHuzefa MustafatHuzefa MustafaaHuzefa MustafafHuzefa Mustafaa\n"
     ]
    }
   ],
   "source": [
    "# join\n",
    "print(x.join(lname)) # The join() method takes all items in an iterable and joins them into one string."
   ]
  },
  {
   "cell_type": "code",
   "execution_count": 26,
   "id": "475a4265",
   "metadata": {},
   "outputs": [
    {
     "name": "stdout",
     "output_type": "stream",
     "text": [
      "Institute Name: Saylani Mass IT Training\n",
      "Student Full Name: Huzefa Mustafa\n",
      "Age: 21\n"
     ]
    }
   ],
   "source": [
    "# ljust\n",
    "print(card.ljust(20)) # Return a left-justified string of length width."
   ]
  },
  {
   "cell_type": "code",
   "execution_count": 27,
   "id": "d93cf025",
   "metadata": {},
   "outputs": [
    {
     "name": "stdout",
     "output_type": "stream",
     "text": [
      "institute name: saylani mass it training\n",
      "student full name: huzefa mustafa\n",
      "age: 21\n"
     ]
    }
   ],
   "source": [
    "# lower\n",
    "print(card.lower()) # Return a copy of the string converted to lowercase."
   ]
  },
  {
   "cell_type": "code",
   "execution_count": 28,
   "id": "427550d6",
   "metadata": {},
   "outputs": [
    {
     "name": "stdout",
     "output_type": "stream",
     "text": [
      "stitute Name: Saylani Mass IT Training\n",
      "Student Full Name: Huzefa Mustafa\n",
      "Age: 21\n"
     ]
    }
   ],
   "source": [
    "# lstrip\n",
    "print(card.lstrip(\"In\")) # Return a copy of the string with leading whitespace removed."
   ]
  },
  {
   "cell_type": "code",
   "execution_count": 29,
   "id": "90eb39a2",
   "metadata": {},
   "outputs": [
    {
     "name": "stdout",
     "output_type": "stream",
     "text": [
      "Institute Name: Saylani Mass IT Training\n",
      "Student Full Name: Auzefa Mustafa\n",
      "Age: 21\n"
     ]
    }
   ],
   "source": [
    "# maketrans\n",
    "mytranstable = str.maketrans(\"H\",\"A\") # Return a translation table usable for str.translate().\n",
    "# translate\n",
    "print(card.translate(mytranstable))"
   ]
  },
  {
   "cell_type": "code",
   "execution_count": 30,
   "id": "7e09a9ac",
   "metadata": {},
   "outputs": [
    {
     "name": "stdout",
     "output_type": "stream",
     "text": [
      "('Institute Name: Saylani Mass IT Training\\nStudent Full Name: ', 'Huzefa', ' Mustafa\\nAge: 21')\n",
      "0 Institute Name: Saylani Mass IT Training\n",
      "Student Full Name: \n",
      "1 Huzefa\n",
      "2  Mustafa\n",
      "Age: 21\n"
     ]
    }
   ],
   "source": [
    "# partition\n",
    "print(card.partition(\"Huzefa\")) # Partition the string into three parts using the given separator.\n",
    "print(\"0\",card.partition(\"Huzefa\")[0])\n",
    "print(\"1\",card.partition(\"Huzefa\")[1])\n",
    "print(\"2\",card.partition(\"Huzefa\")[2])"
   ]
  },
  {
   "cell_type": "code",
   "execution_count": 31,
   "id": "cf46f7a8",
   "metadata": {},
   "outputs": [
    {
     "name": "stdout",
     "output_type": "stream",
     "text": [
      "\n",
      "Student Full Name: Huzefa Mustafa\n",
      "Age: 21\n"
     ]
    }
   ],
   "source": [
    "# removeprefix\n",
    "print(card.removeprefix(\"Institute Name: Saylani Mass IT Training\"))  # Return a str with the given prefix string removed if present."
   ]
  },
  {
   "cell_type": "code",
   "execution_count": 32,
   "id": "1030cb9d",
   "metadata": {},
   "outputs": [
    {
     "name": "stdout",
     "output_type": "stream",
     "text": [
      "Institute Name: Saylani Mass IT Training\n",
      "Student Full Name: Huzefa Mustafa\n",
      "\n"
     ]
    }
   ],
   "source": [
    "# removesuffix\n",
    "print(card.removesuffix(\"Age: 21\")) # Return a str with the given suffix string removed if present."
   ]
  },
  {
   "cell_type": "code",
   "execution_count": 33,
   "id": "fe54fd5f",
   "metadata": {},
   "outputs": [
    {
     "name": "stdout",
     "output_type": "stream",
     "text": [
      "Institute Name: Saylani Mass IT Training\n",
      "Student Full Name: Murtaza Mustafa\n",
      "Age: 21\n"
     ]
    }
   ],
   "source": [
    "# replace\n",
    "print(card.replace(\"Huzefa\",\"Murtaza\")) # Return a copy with all occurrences of substring old replaced by new."
   ]
  },
  {
   "cell_type": "code",
   "execution_count": 34,
   "id": "a7bbde9c",
   "metadata": {},
   "outputs": [
    {
     "name": "stdout",
     "output_type": "stream",
     "text": [
      "68\n"
     ]
    }
   ],
   "source": [
    "# rfind\n",
    "print(card.rfind(\"u\")) # Return the highest index in S where substring sub is found"
   ]
  },
  {
   "cell_type": "code",
   "execution_count": 35,
   "id": "72f612c5",
   "metadata": {},
   "outputs": [
    {
     "name": "stdout",
     "output_type": "stream",
     "text": [
      "68\n"
     ]
    }
   ],
   "source": [
    "# rindex\n",
    "print(card.rindex(\"u\")) # Return the highest index in S where substring sub is found"
   ]
  },
  {
   "cell_type": "code",
   "execution_count": 36,
   "id": "5195de0b",
   "metadata": {},
   "outputs": [
    {
     "name": "stdout",
     "output_type": "stream",
     "text": [
      "Institute Name: Saylani Mass IT Training\n",
      "Student Full Name: Huzefa Mustafa\n",
      "Age: 21\n"
     ]
    }
   ],
   "source": [
    "# rjust\n",
    "print(card.rjust(20)) # Return a right-justified string of length width."
   ]
  },
  {
   "cell_type": "code",
   "execution_count": 37,
   "id": "69cd5109",
   "metadata": {},
   "outputs": [
    {
     "name": "stdout",
     "output_type": "stream",
     "text": [
      "('Institute Name: Saylani Mass IT Training\\nStudent Full Name: ', 'Huzefa', ' Mustafa\\nAge: 21')\n"
     ]
    }
   ],
   "source": [
    "# rpartition\n",
    "print(card.rpartition(\"Huzefa\")) # Partition the string into three parts using the given separator."
   ]
  },
  {
   "cell_type": "code",
   "execution_count": 38,
   "id": "e0a0593e",
   "metadata": {},
   "outputs": [
    {
     "name": "stdout",
     "output_type": "stream",
     "text": [
      "['Institute Name: Saylani Mass IT Training\\nStudent Full Name: ', ' Mustafa\\nAge: 21']\n"
     ]
    }
   ],
   "source": [
    "# rsplit\n",
    "print(card.rsplit(\"Huzefa\")) # Return a list of the words in the string, using sep as the delimiter string."
   ]
  },
  {
   "cell_type": "code",
   "execution_count": 39,
   "id": "deb48674",
   "metadata": {},
   "outputs": [
    {
     "name": "stdout",
     "output_type": "stream",
     "text": [
      "Institute Name: Saylani Mass IT Training\n",
      "Student Full Name: Huzefa Mustafa\n",
      "Age: \n"
     ]
    }
   ],
   "source": [
    "# rstrip\n",
    "print(card.rstrip(\"21\")) # "
   ]
  },
  {
   "cell_type": "code",
   "execution_count": 40,
   "id": "85d4a535",
   "metadata": {},
   "outputs": [
    {
     "name": "stdout",
     "output_type": "stream",
     "text": [
      "['Institute Name: Saylani Mass IT Training\\nStudent Full Name: ', ' Mustafa\\nAge: 21']\n"
     ]
    }
   ],
   "source": [
    "# split\n",
    "print(card.split(\"Huzefa\")) # Return a list of the words in the string, using sep as the delimiter string."
   ]
  },
  {
   "cell_type": "code",
   "execution_count": 41,
   "id": "bdd868c0",
   "metadata": {},
   "outputs": [
    {
     "name": "stdout",
     "output_type": "stream",
     "text": [
      "['Institute Name: Saylani Mass IT Training', 'Student Full Name: Huzefa Mustafa', 'Age: 21']\n"
     ]
    }
   ],
   "source": [
    "# splitlines\n",
    "print(card.splitlines()) # Return a list of the lines in the string, breaking at line boundaries."
   ]
  },
  {
   "cell_type": "code",
   "execution_count": 42,
   "id": "e75341f9",
   "metadata": {},
   "outputs": [
    {
     "name": "stdout",
     "output_type": "stream",
     "text": [
      "True\n"
     ]
    }
   ],
   "source": [
    "# startswith\n",
    "print(card.startswith(\"I\")) # "
   ]
  },
  {
   "cell_type": "code",
   "execution_count": 43,
   "id": "ac70a9bf",
   "metadata": {},
   "outputs": [
    {
     "name": "stdout",
     "output_type": "stream",
     "text": [
      "Institute Name: Saylani Mass IT Training\n",
      "Student Full Name: Huzefa Mustafa\n",
      "Age: 2\n"
     ]
    }
   ],
   "source": [
    "# strip\n",
    "print(card.strip(\"1\")) # "
   ]
  },
  {
   "cell_type": "code",
   "execution_count": 44,
   "id": "4c7bd260",
   "metadata": {},
   "outputs": [
    {
     "name": "stdout",
     "output_type": "stream",
     "text": [
      "iNSTITUTE nAME: sAYLANI mASS it tRAINING\n",
      "sTUDENT fULL nAME: hUZEFA mUSTAFA\n",
      "aGE: 21\n"
     ]
    }
   ],
   "source": [
    "# swapcase\n",
    "print(card.swapcase()) # Convert uppercase characters to lowercase and lowercase characters to uppercase."
   ]
  },
  {
   "cell_type": "code",
   "execution_count": 45,
   "id": "a0f5d414",
   "metadata": {},
   "outputs": [
    {
     "name": "stdout",
     "output_type": "stream",
     "text": [
      "Institute Name: Saylani Mass IT Training\n",
      "Student Full Name: Huzefa Mustafa\n",
      "Age: 21\n"
     ]
    }
   ],
   "source": [
    "# title\n",
    "print(card.rjust(20)) # "
   ]
  },
  {
   "cell_type": "code",
   "execution_count": 46,
   "id": "774b17b9",
   "metadata": {},
   "outputs": [
    {
     "name": "stdout",
     "output_type": "stream",
     "text": [
      "Institute Name: Saylani Mass It Training\n",
      "Student Full Name: Huzefa Mustafa\n",
      "Age: 21\n"
     ]
    }
   ],
   "source": [
    "# upper\n",
    "print(card.title()) # Return a version of the string where each word is titlecased."
   ]
  },
  {
   "cell_type": "code",
   "execution_count": 47,
   "id": "d3780787",
   "metadata": {},
   "outputs": [
    {
     "name": "stdout",
     "output_type": "stream",
     "text": [
      "Institute Name: Saylani Mass IT Training\n",
      "Student Full Name: Huzefa Mustafa\n",
      "Age: 21\n"
     ]
    }
   ],
   "source": [
    "# zfill\n",
    "print(card.zfill(20)) # Pad a numeric string with zeros on the left, to fill a field of the given width."
   ]
  }
 ],
 "metadata": {
  "kernelspec": {
   "display_name": "Python 3 (ipykernel)",
   "language": "python",
   "name": "python3"
  },
  "language_info": {
   "codemirror_mode": {
    "name": "ipython",
    "version": 3
   },
   "file_extension": ".py",
   "mimetype": "text/x-python",
   "name": "python",
   "nbconvert_exporter": "python",
   "pygments_lexer": "ipython3",
   "version": "3.9.13"
  }
 },
 "nbformat": 4,
 "nbformat_minor": 5
}
