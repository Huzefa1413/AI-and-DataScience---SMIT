{
 "cells": [
  {
   "cell_type": "markdown",
   "id": "5891a59b",
   "metadata": {},
   "source": [
    "# Class 6\n",
    "\n",
    "* List comprehensive\n",
    "    * List ka bara code chota krna\n",
    "* Tuple\n",
    "* Set\n",
    "* Dictionary"
   ]
  },
  {
   "cell_type": "code",
   "execution_count": 4,
   "id": "bbd085df",
   "metadata": {},
   "outputs": [
    {
     "data": {
      "text/plain": [
       "range(1, 11)"
      ]
     },
     "execution_count": 4,
     "metadata": {},
     "output_type": "execute_result"
    }
   ],
   "source": [
    "# generator function: direct nhi chalta\n",
    "range(11)\n",
    "range(1,11)"
   ]
  },
  {
   "cell_type": "code",
   "execution_count": 13,
   "id": "fc6f812c",
   "metadata": {},
   "outputs": [
    {
     "name": "stdout",
     "output_type": "stream",
     "text": [
      "0\n",
      "1\n",
      "2\n",
      "3\n",
      "4\n",
      "5\n",
      "6\n",
      "7\n",
      "8\n",
      "9\n",
      "10\n"
     ]
    }
   ],
   "source": [
    "for i in range(11):\n",
    "    print(i)"
   ]
  },
  {
   "cell_type": "code",
   "execution_count": 24,
   "id": "699291d7",
   "metadata": {},
   "outputs": [
    {
     "name": "stdout",
     "output_type": "stream",
     "text": [
      "1\n",
      "2\n",
      "3\n",
      "4\n",
      "5\n",
      "6\n",
      "7\n",
      "8\n",
      "9\n",
      "10\n",
      "1\n",
      "2\n",
      "3\n",
      "4\n",
      "5\n",
      "6\n",
      "7\n",
      "8\n",
      "9\n",
      "10\n"
     ]
    },
    {
     "data": {
      "text/plain": [
       "[None, None, None, None, None, None, None, None, None, None]"
      ]
     },
     "execution_count": 24,
     "metadata": {},
     "output_type": "execute_result"
    }
   ],
   "source": [
    "for i in range(1,11):\n",
    "    print(i)\n",
    "# list comprehensive\n",
    "[print(i) for i in range(1,11)]"
   ]
  },
  {
   "cell_type": "code",
   "execution_count": 28,
   "id": "a0e70a44",
   "metadata": {},
   "outputs": [
    {
     "data": {
      "text/plain": [
       "[1, 2, 3, 4, 5, 6, 7, 8, 9, 10]"
      ]
     },
     "execution_count": 28,
     "metadata": {},
     "output_type": "execute_result"
    }
   ],
   "source": [
    "# list comprehensive\n",
    "[i for i in range(1,11)]"
   ]
  },
  {
   "cell_type": "code",
   "execution_count": 29,
   "id": "9bb89ff9",
   "metadata": {},
   "outputs": [
    {
     "name": "stdout",
     "output_type": "stream",
     "text": [
      "Enter number for table generation:8\n",
      "8 x 1 = 8\n",
      "8 x 2 = 16\n",
      "8 x 3 = 24\n",
      "8 x 4 = 32\n",
      "8 x 5 = 40\n",
      "8 x 6 = 48\n",
      "8 x 7 = 56\n",
      "8 x 8 = 64\n",
      "8 x 9 = 72\n",
      "8 x 10 = 80\n"
     ]
    }
   ],
   "source": [
    "table = int(input(\"Enter number for table generation:\"))\n",
    "for i in range(1,11):\n",
    "    print(f\"{table} x {i} = {table * i}\")"
   ]
  },
  {
   "cell_type": "code",
   "execution_count": 31,
   "id": "66b662bd",
   "metadata": {},
   "outputs": [
    {
     "name": "stdout",
     "output_type": "stream",
     "text": [
      "8 x 1 = 8\n",
      "8 x 2 = 16\n",
      "8 x 3 = 24\n",
      "8 x 4 = 32\n",
      "8 x 5 = 40\n",
      "8 x 6 = 48\n",
      "8 x 7 = 56\n",
      "8 x 8 = 64\n",
      "8 x 9 = 72\n",
      "8 x 10 = 80\n"
     ]
    },
    {
     "data": {
      "text/plain": [
       "[None, None, None, None, None, None, None, None, None, None]"
      ]
     },
     "execution_count": 31,
     "metadata": {},
     "output_type": "execute_result"
    }
   ],
   "source": [
    "# list comprehensive\n",
    "[print(f\"{table} x {i} = {table * i}\") for i in range(1,11)]\n"
   ]
  },
  {
   "cell_type": "code",
   "execution_count": 43,
   "id": "5f8a0960",
   "metadata": {},
   "outputs": [
    {
     "name": "stdout",
     "output_type": "stream",
     "text": [
      "(1, 1) 1 \n",
      "(2, 1) 2 (2, 2) 4 \n",
      "(3, 1) 3 (3, 2) 6 (3, 3) 9 \n",
      "(4, 1) 4 (4, 2) 8 (4, 3) 12 (4, 4) 16 \n",
      "(5, 1) 5 (5, 2) 10 (5, 3) 15 (5, 4) 20 (5, 5) 25 \n",
      "(6, 1) 6 (6, 2) 12 (6, 3) 18 (6, 4) 24 (6, 5) 30 (6, 6) 36 \n",
      "(7, 1) 7 (7, 2) 14 (7, 3) 21 (7, 4) 28 (7, 5) 35 (7, 6) 42 (7, 7) 49 \n",
      "(8, 1) 8 (8, 2) 16 (8, 3) 24 (8, 4) 32 (8, 5) 40 (8, 6) 48 (8, 7) 56 (8, 8) 64 \n",
      "(9, 1) 9 (9, 2) 18 (9, 3) 27 (9, 4) 36 (9, 5) 45 (9, 6) 54 (9, 7) 63 (9, 8) 72 (9, 9) 81 \n",
      "(10, 1) 10 (10, 2) 20 (10, 3) 30 (10, 4) 40 (10, 5) 50 (10, 6) 60 (10, 7) 70 (10, 8) 80 (10, 9) 90 (10, 10) 100 \n"
     ]
    }
   ],
   "source": [
    "for i in range(1,11):\n",
    "    for j in range(1,i+1):\n",
    "        print((i,j),i*j,end=\" \")\n",
    "    print()"
   ]
  },
  {
   "cell_type": "code",
   "execution_count": 54,
   "id": "c7a91a7d",
   "metadata": {},
   "outputs": [
    {
     "name": "stdout",
     "output_type": "stream",
     "text": [
      "1 2 3 \n",
      "4 5 6 \n",
      "7 8 9 \n",
      "\n",
      "1 2 3 \n",
      "4 5 6 \n",
      "7 8 9 \n"
     ]
    }
   ],
   "source": [
    "data = [[1,2,3],\n",
    "        [4,5,6],\n",
    "        [7,8,9]]\n",
    "for row in range(len(data)):\n",
    "    for col in range(len(data[row])):\n",
    "        print(data[row][col], end=\" \")\n",
    "    print()\n",
    "print()\n",
    "\n",
    "for row in data:\n",
    "    for col in row:\n",
    "       print(col, end=\" \")\n",
    "    print()"
   ]
  },
  {
   "cell_type": "code",
   "execution_count": 51,
   "id": "ab470295",
   "metadata": {},
   "outputs": [
    {
     "name": "stdout",
     "output_type": "stream",
     "text": [
      "1 2 3 4 \n",
      "5 6 7 \n",
      "8 9 \n"
     ]
    }
   ],
   "source": [
    "data = [[1,2,3,4],\n",
    "        [5,6,7],\n",
    "        [8,9]]\n",
    "for row in range(len(data)):\n",
    "    for col in range(len(data[row])):\n",
    "        print(data[row][col], end=\" \")\n",
    "    print()"
   ]
  },
  {
   "cell_type": "code",
   "execution_count": 42,
   "id": "8fddffd5",
   "metadata": {},
   "outputs": [
    {
     "name": "stdout",
     "output_type": "stream",
     "text": [
      "1 2 3 4 5 6 7 8 9 "
     ]
    },
    {
     "data": {
      "text/plain": [
       "[None, None, None, None, None, None, None, None, None]"
      ]
     },
     "execution_count": 42,
     "metadata": {},
     "output_type": "execute_result"
    }
   ],
   "source": [
    "[print(data[row][col], end=\" \") for row in range(len(data)) for col in range(len(data[row]))]"
   ]
  },
  {
   "cell_type": "markdown",
   "id": "b2d8391d",
   "metadata": {},
   "source": [
    "# Tuple"
   ]
  },
  {
   "cell_type": "code",
   "execution_count": 58,
   "id": "b8f785d8",
   "metadata": {},
   "outputs": [
    {
     "name": "stdout",
     "output_type": "stream",
     "text": [
      "<class 'tuple'>\n",
      "('a', 'b', 'c', 1, 2, 3)\n",
      "<class 'tuple'>\n",
      "('a', 'b', 'c', 1, 2, 3)\n"
     ]
    }
   ],
   "source": [
    "data = ('a','b','c',1,2,3) \n",
    "print(type(data))\n",
    "print(data)\n",
    "\n",
    "data = 'a','b','c',1,2,3 \n",
    "print(type(data))\n",
    "print(data)"
   ]
  },
  {
   "cell_type": "code",
   "execution_count": 65,
   "id": "e10a473d",
   "metadata": {},
   "outputs": [
    {
     "name": "stdout",
     "output_type": "stream",
     "text": [
      "a\n",
      "3\n",
      "('a', 'b', 'c')\n"
     ]
    }
   ],
   "source": [
    "print(data[0])\n",
    "print(data[-1])\n",
    "print(data[0:3])"
   ]
  },
  {
   "cell_type": "code",
   "execution_count": 66,
   "id": "92bf2f27",
   "metadata": {},
   "outputs": [
    {
     "data": {
      "text/plain": [
       "['__add__',\n",
       " '__class__',\n",
       " '__class_getitem__',\n",
       " '__contains__',\n",
       " '__delattr__',\n",
       " '__dir__',\n",
       " '__doc__',\n",
       " '__eq__',\n",
       " '__format__',\n",
       " '__ge__',\n",
       " '__getattribute__',\n",
       " '__getitem__',\n",
       " '__getnewargs__',\n",
       " '__gt__',\n",
       " '__hash__',\n",
       " '__init__',\n",
       " '__init_subclass__',\n",
       " '__iter__',\n",
       " '__le__',\n",
       " '__len__',\n",
       " '__lt__',\n",
       " '__mul__',\n",
       " '__ne__',\n",
       " '__new__',\n",
       " '__reduce__',\n",
       " '__reduce_ex__',\n",
       " '__repr__',\n",
       " '__rmul__',\n",
       " '__setattr__',\n",
       " '__sizeof__',\n",
       " '__str__',\n",
       " '__subclasshook__',\n",
       " 'count',\n",
       " 'index']"
      ]
     },
     "execution_count": 66,
     "metadata": {},
     "output_type": "execute_result"
    }
   ],
   "source": [
    "dir(tuple)"
   ]
  },
  {
   "cell_type": "code",
   "execution_count": 86,
   "id": "7a2ca895",
   "metadata": {},
   "outputs": [],
   "source": [
    "mytuple = ('a',[1,2,3])\n",
    "mytuple[1].append(4) \n",
    "mytuple[1][0]=0"
   ]
  },
  {
   "cell_type": "markdown",
   "id": "b8658d3f",
   "metadata": {},
   "source": [
    "# Dictionary"
   ]
  },
  {
   "cell_type": "markdown",
   "id": "b0424772",
   "metadata": {},
   "source": [
    "* start `{` and `}`\n",
    "* item\n",
    "    * `key` : `value`\n",
    "        * key = hashable type = integer, string, tuple\n",
    "        * value = any type\n",
    "    * `:` seperator between "
   ]
  },
  {
   "cell_type": "code",
   "execution_count": 87,
   "id": "2d031673",
   "metadata": {},
   "outputs": [],
   "source": [
    "data = {\n",
    "    \"name\" : \"Huzefa Mustafa\",\n",
    "    \"father_name\" : \"Mustafa Moiz\",\n",
    "    \"cnic\" : \"42101-9683135-3\",\n",
    "    \"roll_no\" : 96,\n",
    "    \"signature\" : \"huz\",\n",
    "    ('a','b','c') : \"huzefa\"\n",
    "}"
   ]
  },
  {
   "cell_type": "code",
   "execution_count": 93,
   "id": "cb72f19e",
   "metadata": {},
   "outputs": [
    {
     "name": "stdout",
     "output_type": "stream",
     "text": [
      "{'name': 'Huzefa Mustafa'} <class 'dict'>\n",
      "Huzefa Mustafa\n",
      "Not Available\n"
     ]
    }
   ],
   "source": [
    "data = {}\n",
    "data['name'] = \"Huzefa Mustafa\"\n",
    "print(data,type(data))\n",
    "print(data.get('name',\"Not Available\"))\n",
    "print(data.get('rollno',\"Not Available\"))"
   ]
  },
  {
   "cell_type": "code",
   "execution_count": null,
   "id": "2a196f81",
   "metadata": {},
   "outputs": [],
   "source": []
  }
 ],
 "metadata": {
  "kernelspec": {
   "display_name": "Python 3 (ipykernel)",
   "language": "python",
   "name": "python3"
  },
  "language_info": {
   "codemirror_mode": {
    "name": "ipython",
    "version": 3
   },
   "file_extension": ".py",
   "mimetype": "text/x-python",
   "name": "python",
   "nbconvert_exporter": "python",
   "pygments_lexer": "ipython3",
   "version": "3.9.13"
  }
 },
 "nbformat": 4,
 "nbformat_minor": 5
}
