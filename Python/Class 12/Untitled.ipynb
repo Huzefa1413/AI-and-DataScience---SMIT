{
 "cells": [
  {
   "cell_type": "markdown",
   "id": "cd99940b",
   "metadata": {},
   "source": [
    "# Chatgpt prompt engineering for developers\n",
    "### AndrewNg\n",
    "### Deeplearning.io"
   ]
  },
  {
   "cell_type": "markdown",
   "id": "28a8cb15",
   "metadata": {},
   "source": [
    "### langchain package"
   ]
  },
  {
   "cell_type": "code",
   "execution_count": 23,
   "id": "758ca5a4",
   "metadata": {},
   "outputs": [
    {
     "name": "stdout",
     "output_type": "stream",
     "text": [
      "Huzefa\n",
      "None\n"
     ]
    }
   ],
   "source": [
    "class Student():\n",
    "    counter = 0\n",
    "    def __init__(self, sname):\n",
    "        self.name = sname\n",
    "        self.father_name = None\n",
    "        \n",
    "    def login(self, user, password):\n",
    "        pass\n",
    "    def updatecounter(self):\n",
    "        Student.counter += 1\n",
    "\n",
    "s1 = Student(\"Huzefa\")\n",
    "s2 = Student(\"Bilal\")\n",
    "\n",
    "print(s1.name)\n",
    "print(s1.father_name)"
   ]
  },
  {
   "cell_type": "code",
   "execution_count": 17,
   "id": "bef75477",
   "metadata": {},
   "outputs": [
    {
     "name": "stdout",
     "output_type": "stream",
     "text": [
      "Mustafa\n"
     ]
    }
   ],
   "source": [
    "s1.father_name = \"Mustafa\"\n",
    "print(s1.father_name)"
   ]
  },
  {
   "cell_type": "code",
   "execution_count": 18,
   "id": "81f6f4dd",
   "metadata": {},
   "outputs": [
    {
     "name": "stdout",
     "output_type": "stream",
     "text": [
      "Abc\n"
     ]
    }
   ],
   "source": [
    "s1.name = \"Abc\"\n",
    "print(s1.name)"
   ]
  },
  {
   "cell_type": "code",
   "execution_count": 19,
   "id": "6935dbe4",
   "metadata": {},
   "outputs": [
    {
     "name": "stdout",
     "output_type": "stream",
     "text": [
      "03357224192\n"
     ]
    }
   ],
   "source": [
    "s1.contact = \"03357224192\"\n",
    "print(s1.contact)"
   ]
  },
  {
   "cell_type": "code",
   "execution_count": 20,
   "id": "9d54befd",
   "metadata": {},
   "outputs": [
    {
     "name": "stdout",
     "output_type": "stream",
     "text": [
      "0\n",
      "0\n"
     ]
    }
   ],
   "source": [
    "print(s1.counter)\n",
    "print(s2.counter)"
   ]
  },
  {
   "cell_type": "code",
   "execution_count": 27,
   "id": "5a725563",
   "metadata": {},
   "outputs": [
    {
     "name": "stdout",
     "output_type": "stream",
     "text": [
      "3\n",
      "100\n"
     ]
    }
   ],
   "source": [
    "s1.counter = 100\n",
    "print(s2.counter)\n",
    "print(s1.counter)"
   ]
  },
  {
   "cell_type": "code",
   "execution_count": 26,
   "id": "6cbe75f2",
   "metadata": {},
   "outputs": [
    {
     "name": "stdout",
     "output_type": "stream",
     "text": [
      "3\n",
      "3\n"
     ]
    }
   ],
   "source": [
    "s2.updatecounter()\n",
    "print(s2.counter)\n",
    "print(s1.counter)"
   ]
  },
  {
   "cell_type": "markdown",
   "id": "e8e67cb3",
   "metadata": {},
   "source": [
    "# Inheritence\n"
   ]
  },
  {
   "cell_type": "code",
   "execution_count": 51,
   "id": "cda39b6b",
   "metadata": {},
   "outputs": [
    {
     "name": "stdout",
     "output_type": "stream",
     "text": [
      "Huzefa\n",
      "Mustafa\n",
      "Hi\n",
      "Huzefa is looking at Laptop\n",
      "Bilal\n",
      "22\n",
      "Bilal is looking at Sky\n",
      "Bilal is reading Book\n"
     ]
    }
   ],
   "source": [
    "class Parents():\n",
    "    def __init__(this, name, father_name):\n",
    "        this.name = name\n",
    "        this.father_name = father_name\n",
    "        \n",
    "    def speak(this,words):\n",
    "        return words\n",
    "    \n",
    "    def look(this,objects):\n",
    "        return f\"{this.name} is looking at {objects}\"\n",
    "    \n",
    "    \n",
    "class Child(Parents):\n",
    "    def __init__(this,name,father_name,age):\n",
    "        super().__init__(name,father_name)\n",
    "        this.age = age\n",
    "        \n",
    "    def reading(this,text):\n",
    "        return f\"{this.name} is reading {text}\"\n",
    "\n",
    "p1 = Parents(\"Huzefa\",\"Mustafa\")\n",
    "print(p1.name)\n",
    "print(p1.father_name)\n",
    "print(p1.speak(\"Hi\"))\n",
    "print(p1.look(\"Laptop\"))\n",
    "\n",
    "c1 = Child(\"Bilal\",\"Hamid\",22)\n",
    "print(c1.name)\n",
    "print(c1.age)\n",
    "print(c1.look(\"Sky\"))\n",
    "print(c1.reading(\"Book\"))"
   ]
  },
  {
   "cell_type": "code",
   "execution_count": 54,
   "id": "ea7e5e9a",
   "metadata": {},
   "outputs": [
    {
     "data": {
      "text/plain": [
       "['age', 'look', 'name', 'reading', 'speak']"
      ]
     },
     "execution_count": 54,
     "metadata": {},
     "output_type": "execute_result"
    }
   ],
   "source": [
    "[i for i in dir(p1) if \"_\" not in i]"
   ]
  },
  {
   "cell_type": "code",
   "execution_count": 56,
   "id": "39a5d429",
   "metadata": {},
   "outputs": [
    {
     "data": {
      "text/plain": [
       "['age', 'look', 'name', 'reading', 'speak']"
      ]
     },
     "execution_count": 56,
     "metadata": {},
     "output_type": "execute_result"
    }
   ],
   "source": [
    "[i for i in dir(c1) if \"_\" not in i]"
   ]
  },
  {
   "cell_type": "markdown",
   "id": "59814570",
   "metadata": {},
   "source": [
    "# Polymorphism\n",
    "* **Overloading:** Same funtion called within a class with different arguments\n",
    "* **Overriding:** Same function called in a child class with different arguments"
   ]
  },
  {
   "cell_type": "code",
   "execution_count": 11,
   "id": "da48f1b3",
   "metadata": {},
   "outputs": [
    {
     "name": "stdout",
     "output_type": "stream",
     "text": [
      "3\n",
      "3.5\n",
      "23.3\n",
      "14.3\n"
     ]
    }
   ],
   "source": [
    "# Overloading\n",
    "class Parent():\n",
    "    def __init__(self):\n",
    "        pass\n",
    "    def add_two_nums(self, num1, num2):\n",
    "        return num1+num2\n",
    "    \n",
    "p1 = Parent()\n",
    "print(p1.add_two_nums(1,2))\n",
    "print(p1.add_two_nums(1.2,2.3))\n",
    "print(p1.add_two_nums(1,22.3))\n",
    "print(p1.add_two_nums(12.3,2))"
   ]
  },
  {
   "cell_type": "code",
   "execution_count": 20,
   "id": "9314671a",
   "metadata": {},
   "outputs": [
    {
     "name": "stdout",
     "output_type": "stream",
     "text": [
      "I can speak Urdu\n",
      "I can speak English\n",
      "None\n"
     ]
    }
   ],
   "source": [
    "# Overriding\n",
    "class Parent():\n",
    "    def __init__(self):\n",
    "        pass\n",
    "    def speak(self,language=\"Urdu\"):\n",
    "        return f\"I can speak {language}\"\n",
    "    \n",
    "class Child(Parent):\n",
    "    def speak(self,language=\"English\"):\n",
    "        return f\"I can speak {language}\"\n",
    "    def my_parent_speak(self):\n",
    "        return super()\n",
    "\n",
    "p1 = Parent()\n",
    "print(p1.speak())\n",
    "\n",
    "c1 = Child()\n",
    "print(c1.speak())\n",
    "print(c1.my_parent_speak())"
   ]
  },
  {
   "cell_type": "markdown",
   "id": "d3ab7899",
   "metadata": {},
   "source": [
    "# Encapsulation\n",
    "* make some methods/attribute to private\n",
    "    * **__** add double underscore before any method/attribute\n",
    "    * if we make any attribute private\n",
    "        * we can access within class or in child class\n",
    "* we can access/call or change these methods/attributes\n",
    "    * with setter and getter functions"
   ]
  },
  {
   "cell_type": "code",
   "execution_count": 37,
   "id": "1bebca86",
   "metadata": {},
   "outputs": [],
   "source": [
    "class Parents():\n",
    "    def __init__(this, sid, name, father_name):\n",
    "        this.__sid = sid\n",
    "        this.name = name\n",
    "        this.father_name = father_name\n",
    "        \n",
    "    def __speak(this,words):\n",
    "        return words\n",
    "    \n",
    "    def look(this,objects):\n",
    "        return f\"{this.__sid} is looking at {objects}\"\n",
    "    \n",
    "    \n",
    "class Child(Parents):\n",
    "    def __init__(this,sid,name,father_name,age):\n",
    "        super().__init__(name,father_name)\n",
    "        this.age = age\n",
    "        \n",
    "    def reading(this,text):\n",
    "        return f\"{this.name} is reading {text}\""
   ]
  },
  {
   "cell_type": "code",
   "execution_count": 38,
   "id": "80bbc4c2",
   "metadata": {},
   "outputs": [
    {
     "name": "stdout",
     "output_type": "stream",
     "text": [
      "Huzefa\n",
      "Mustafa\n",
      "96 is looking at Book\n"
     ]
    },
    {
     "ename": "AttributeError",
     "evalue": "'Parents' object has no attribute 'speak'",
     "output_type": "error",
     "traceback": [
      "\u001b[1;31m---------------------------------------------------------------------------\u001b[0m",
      "\u001b[1;31mAttributeError\u001b[0m                            Traceback (most recent call last)",
      "\u001b[1;32m~\\AppData\\Local\\Temp\\ipykernel_9956\\1799548872.py\u001b[0m in \u001b[0;36m<module>\u001b[1;34m\u001b[0m\n\u001b[0;32m      3\u001b[0m \u001b[0mprint\u001b[0m\u001b[1;33m(\u001b[0m\u001b[0mp1\u001b[0m\u001b[1;33m.\u001b[0m\u001b[0mfather_name\u001b[0m\u001b[1;33m)\u001b[0m\u001b[1;33m\u001b[0m\u001b[1;33m\u001b[0m\u001b[0m\n\u001b[0;32m      4\u001b[0m \u001b[0mprint\u001b[0m\u001b[1;33m(\u001b[0m\u001b[0mp1\u001b[0m\u001b[1;33m.\u001b[0m\u001b[0mlook\u001b[0m\u001b[1;33m(\u001b[0m\u001b[1;34m\"Book\"\u001b[0m\u001b[1;33m)\u001b[0m\u001b[1;33m)\u001b[0m\u001b[1;33m\u001b[0m\u001b[1;33m\u001b[0m\u001b[0m\n\u001b[1;32m----> 5\u001b[1;33m \u001b[0mprint\u001b[0m\u001b[1;33m(\u001b[0m\u001b[0mp1\u001b[0m\u001b[1;33m.\u001b[0m\u001b[0mspeak\u001b[0m\u001b[1;33m(\u001b[0m\u001b[1;34m\"Hello\"\u001b[0m\u001b[1;33m)\u001b[0m\u001b[1;33m)\u001b[0m\u001b[1;33m\u001b[0m\u001b[1;33m\u001b[0m\u001b[0m\n\u001b[0m\u001b[0;32m      6\u001b[0m \u001b[0mprint\u001b[0m\u001b[1;33m(\u001b[0m\u001b[0mp1\u001b[0m\u001b[1;33m.\u001b[0m\u001b[0m__sid\u001b[0m\u001b[1;33m)\u001b[0m \u001b[1;31m# not accessible\u001b[0m\u001b[1;33m\u001b[0m\u001b[1;33m\u001b[0m\u001b[0m\n\u001b[0;32m      7\u001b[0m \u001b[0mprint\u001b[0m\u001b[1;33m(\u001b[0m\u001b[0mp1\u001b[0m\u001b[1;33m.\u001b[0m\u001b[0msid\u001b[0m\u001b[1;33m)\u001b[0m \u001b[1;31m# not accessible\u001b[0m\u001b[1;33m\u001b[0m\u001b[1;33m\u001b[0m\u001b[0m\n",
      "\u001b[1;31mAttributeError\u001b[0m: 'Parents' object has no attribute 'speak'"
     ]
    }
   ],
   "source": [
    "p1 = Parents(96,\"Huzefa\",\"Mustafa\")\n",
    "print(p1.name)\n",
    "print(p1.father_name)\n",
    "print(p1.look(\"Book\")) # not accessible\n",
    "print(p1.speak(\"Hello\"))\n",
    "print(p1.__sid) # not accessible\n",
    "print(p1.sid) # not accessible"
   ]
  },
  {
   "cell_type": "code",
   "execution_count": 42,
   "id": "4eb9b8e7",
   "metadata": {},
   "outputs": [
    {
     "name": "stdout",
     "output_type": "stream",
     "text": [
      "Id is 96\n",
      "Id is 4\n"
     ]
    }
   ],
   "source": [
    "class Parents():\n",
    "    def __init__(this, sid, name, father_name):\n",
    "        this.__sid = sid\n",
    "        this.name = name\n",
    "        this.father_name = father_name\n",
    "        \n",
    "    def __speak(this,words):\n",
    "        return words\n",
    "    \n",
    "    def look(this,objects):\n",
    "        return f\"{this.__sid} is looking at {objects}\"\n",
    "    \n",
    "    def update_sid(this,new_id):\n",
    "        this.__sid = new_id\n",
    "    \n",
    "    def display_sid(this):\n",
    "        return f\"Id is {this.__sid}\"\n",
    "\n",
    "p1 = Parents(96,\"Huzefa\",\"Mustafa\")\n",
    "print(p1.display_sid())\n",
    "p1.update_sid(4)\n",
    "print(p1.display_sid())"
   ]
  },
  {
   "cell_type": "markdown",
   "id": "b7b57526",
   "metadata": {},
   "source": [
    "# Abstraction"
   ]
  },
  {
   "cell_type": "code",
   "execution_count": null,
   "id": "bc284b51",
   "metadata": {},
   "outputs": [],
   "source": []
  }
 ],
 "metadata": {
  "kernelspec": {
   "display_name": "Python 3 (ipykernel)",
   "language": "python",
   "name": "python3"
  },
  "language_info": {
   "codemirror_mode": {
    "name": "ipython",
    "version": 3
   },
   "file_extension": ".py",
   "mimetype": "text/x-python",
   "name": "python",
   "nbconvert_exporter": "python",
   "pygments_lexer": "ipython3",
   "version": "3.9.13"
  }
 },
 "nbformat": 4,
 "nbformat_minor": 5
}
