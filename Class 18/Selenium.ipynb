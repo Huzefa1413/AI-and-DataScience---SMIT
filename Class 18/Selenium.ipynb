{
 "cells": [
  {
   "cell_type": "code",
   "execution_count": 1,
   "id": "ece1ea29",
   "metadata": {},
   "outputs": [],
   "source": [
    "from selenium import webdriver\n",
    "from selenium.webdriver.chrome.service import Service\n",
    "from selenium.webdriver.chrome.options import Options\n",
    "from webdriver_manager.chrome import ChromeDriverManager\n",
    "import re\n",
    "import pandas as pd\n",
    "from IPython.display import display, HTML"
   ]
  },
  {
   "cell_type": "code",
   "execution_count": 2,
   "id": "5c28ee0e",
   "metadata": {},
   "outputs": [],
   "source": [
    "options = Options()\n",
    "options.add_experimental_option('detach',True) # to open window after work is done\n",
    " \n",
    "driver = webdriver.Chrome(service=Service(ChromeDriverManager().install()),options=options)\n",
    "\n",
    "driver.maximize_window() # for full screen\n",
    "driver.get(\"https://edusmartz.ssuet.edu.pk/StudentPortal/Login\") # link to visit\n",
    "driver.implicitly_wait(30)"
   ]
  },
  {
   "cell_type": "code",
   "execution_count": 3,
   "id": "1a5cfeef",
   "metadata": {},
   "outputs": [],
   "source": [
    "rollno = driver.find_element(\"xpath\",\"//input[@id='txtRegistrationNo_cs']\")\n",
    "rollno.clear()\n",
    "rollno.send_keys(\"2020F-BCS-096\")\n",
    "\n",
    "password = driver.find_element(\"xpath\",\"//input[@id='txtPassword_m6cs']\")\n",
    "password.clear()\n",
    "password.send_keys(\"9E5D0F3C82CA\")\n",
    "\n",
    "signinbtn = driver.find_element(\"xpath\",\"//input[@id='btnlgn']\")\n",
    "signinbtn.click()\n",
    "\n",
    "driver.implicitly_wait(30)"
   ]
  },
  {
   "cell_type": "code",
   "execution_count": 4,
   "id": "7b3f344c",
   "metadata": {},
   "outputs": [],
   "source": [
    "sidebar = driver.find_elements(\"xpath\",\"//li[@class='menu-item menu-item-submenu']\")\n",
    "sidebar[0].click()"
   ]
  },
  {
   "cell_type": "code",
   "execution_count": 5,
   "id": "7c3ae070",
   "metadata": {},
   "outputs": [],
   "source": [
    "attendance = driver.find_element(\"xpath\",\"//li[@class='menu-item'][.//span[text()[contains(.,'Attendance')]]]\")\n",
    "attendance.get_attribute(\"innerHTML\")\n",
    "attendance.click()"
   ]
  },
  {
   "cell_type": "code",
   "execution_count": 6,
   "id": "647cbde7",
   "metadata": {},
   "outputs": [],
   "source": [
    "table = driver.find_element(\"xpath\",\"//table[@id='ctl00_ContentPlaceHolder1_TgridAttedance_ctl00']\")"
   ]
  },
  {
   "cell_type": "code",
   "execution_count": 7,
   "id": "4b57e779",
   "metadata": {},
   "outputs": [],
   "source": [
    "text = table.get_attribute(\"innerHTML\")\n",
    "driver.quit()"
   ]
  },
  {
   "cell_type": "code",
   "execution_count": 8,
   "id": "a8ef7195",
   "metadata": {},
   "outputs": [],
   "source": [
    "start_text = '<th scope=\"col\" class=\"rgHeader\">View'\n",
    "end_text = \"</th>\"  # Ending text\n",
    "split_text = text.split(start_text, 1)\n",
    "text = split_text[0] + split_text[1].split(end_text, 1)[1]\n",
    "\n",
    "start_text = '<colgroup>'\n",
    "end_text = \"</colgroup>\"  # Ending text\n",
    "split_text = text.split(start_text, 1)\n",
    "text = split_text[0] + split_text[1].split(end_text, 1)[1]\n",
    "\n",
    "\n",
    "start_text = \"<a id=\"  # Starting text\n",
    "end_text = \"</a>\"  # Ending text\n",
    "\n",
    "pattern = re.escape(start_text) + \"(.*?)\" + re.escape(end_text)\n",
    "attendance_table = re.sub(pattern, \"\", text)\n",
    "attendance_table = \"<table>\" + attendance_table + \"</table>\""
   ]
  },
  {
   "cell_type": "code",
   "execution_count": 9,
   "id": "c852ab87",
   "metadata": {},
   "outputs": [],
   "source": [
    "# Read HTML table string into a list of dataframes\n",
    "tables = pd.read_html(attendance_table)\n",
    "\n",
    "# Assuming the desired table is the first one\n",
    "table_df = tables[0]\n",
    "\n",
    "# Save the dataframe as an Excel file\n",
    "table_df.to_excel('attendance.xlsx', index=False)"
   ]
  },
  {
   "cell_type": "code",
   "execution_count": 10,
   "id": "419749d0",
   "metadata": {},
   "outputs": [
    {
     "data": {
      "text/html": [
       "<table>\n",
       "\t\t\n",
       "<thead>\n",
       "\t\t\t<tr>\n",
       "\t\t\t\t<th scope=\"col\" class=\"rgHeader\">Course (Code)</th><th scope=\"col\" class=\"rgHeader\">Section Code</th><th scope=\"col\" class=\"rgHeader\">Scheduled</th><th scope=\"col\" class=\"rgHeader\">Conducted</th><th scope=\"col\" class=\"rgHeader\">Attended</th><th scope=\"col\" class=\"rgHeader\">Percentage</th><th scope=\"col\" class=\"rgHeader\">Adjusted Percentage After Offset</th>\n",
       "\t\t\t</tr>\n",
       "\t\t</thead><tbody>\n",
       "\t\t<tr class=\"rgRow\" id=\"ctl00_ContentPlaceHolder1_TgridAttedance_ctl00__0\">\n",
       "\t\t\t<td>ARTIFICIAL INTELLIGENCE ( CS325T )</td><td>ARTIFICIAL INTELLIGENCE<br>Spring 2023-2020F-BS-CS-CS325T-B-8266</td><td>32</td><td>22</td><td>20</td><td>91 %</td><td>91%</td><td>\n",
       "                                                 \n",
       "                                         \n",
       "                                                \n",
       "                                            </td>\n",
       "\t\t</tr><tr class=\"rgAltRow\" id=\"ctl00_ContentPlaceHolder1_TgridAttedance_ctl00__1\">\n",
       "\t\t\t<td>CLOUD COMPUTING ( IT411 )</td><td>CLOUD COMPUTING<br>Spring 2023-2020F-BS-CS-IT411-B-7936</td><td>32</td><td>17</td><td>16</td><td>94 %</td><td>94%</td><td>\n",
       "                                                 \n",
       "                                         \n",
       "                                                \n",
       "                                            </td>\n",
       "\t\t</tr><tr class=\"rgRow\" id=\"ctl00_ContentPlaceHolder1_TgridAttedance_ctl00__2\">\n",
       "\t\t\t<td>DESIGN &amp; ANALYSIS OF ALGORITHMS ( CS327 )</td><td>DESIGN &amp; ANALYSIS OF ALGORITHMS<br>Spring 2023-2020F-BS-CS-CS327-B-8268</td><td>32</td><td>14</td><td>14</td><td>100 %</td><td>100%</td><td>\n",
       "                                                 \n",
       "                                         \n",
       "                                                \n",
       "                                            </td>\n",
       "\t\t</tr><tr class=\"rgAltRow\" id=\"ctl00_ContentPlaceHolder1_TgridAttedance_ctl00__3\">\n",
       "\t\t\t<td>INFORMATION SECURITY ( CS326 )</td><td>INFORMATION SECURITY<br>Spring 2023-2020F-BS-CS-CS326-B-8270</td><td>32</td><td>16</td><td>16</td><td>100 %</td><td>100%</td><td>\n",
       "                                                 \n",
       "                                         \n",
       "                                                \n",
       "                                            </td>\n",
       "\t\t</tr><tr class=\"rgRow\" id=\"ctl00_ContentPlaceHolder1_TgridAttedance_ctl00__4\">\n",
       "\t\t\t<td>NUMERICAL ANALYSIS ( MS203 )</td><td>NUMERICAL ANALYSIS<br>Spring 2023-2020F-BS-CS-MS203-B-8271</td><td>32</td><td>15</td><td>15</td><td>100 %</td><td>100%</td><td>\n",
       "                                                 \n",
       "                                         \n",
       "                                                \n",
       "                                            </td>\n",
       "\t\t</tr><tr class=\"rgAltRow\" id=\"ctl00_ContentPlaceHolder1_TgridAttedance_ctl00__5\">\n",
       "\t\t\t<td>ARTIFICIAL INTELLIGENCE LAB ( CS325L )</td><td>ARTIFICIAL INTELLIGENCE LAB<br>Spring 2023-2020F-BS-CS-CS325L-B-7937</td><td>16</td><td>9</td><td>8</td><td>89 %</td><td>89%</td><td>\n",
       "                                                 \n",
       "                                         \n",
       "                                                \n",
       "                                            </td>\n",
       "\t\t</tr>\n",
       "\t\t</tbody>\n",
       "\n",
       "\t</table>"
      ],
      "text/plain": [
       "<IPython.core.display.HTML object>"
      ]
     },
     "metadata": {},
     "output_type": "display_data"
    }
   ],
   "source": [
    "display(HTML(attendance_table))"
   ]
  }
 ],
 "metadata": {
  "kernelspec": {
   "display_name": "Python 3 (ipykernel)",
   "language": "python",
   "name": "python3"
  },
  "language_info": {
   "codemirror_mode": {
    "name": "ipython",
    "version": 3
   },
   "file_extension": ".py",
   "mimetype": "text/x-python",
   "name": "python",
   "nbconvert_exporter": "python",
   "pygments_lexer": "ipython3",
   "version": "3.9.13"
  }
 },
 "nbformat": 4,
 "nbformat_minor": 5
}
