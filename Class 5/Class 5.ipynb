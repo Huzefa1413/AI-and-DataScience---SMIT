{
 "cells": [
  {
   "cell_type": "markdown",
   "id": "6e870656",
   "metadata": {},
   "source": [
    "# List Data Type\n",
    "* start with **`[`** and end with **`]`**\n",
    "* value/item `store any data type`\n",
    "* seperator between two items `,`\n",
    "* indexing \n",
    "    * positive indexing `-->` left to right always start with 0\n",
    "    * negative indexing `<--` right to left always start with -1\n",
    "* extract value using listname[location]"
   ]
  },
  {
   "cell_type": "code",
   "execution_count": 1,
   "id": "b6c826f5",
   "metadata": {},
   "outputs": [
    {
     "name": "stdout",
     "output_type": "stream",
     "text": [
      "a\n",
      "a\n"
     ]
    }
   ],
   "source": [
    "# --->    0   1  2   3\n",
    "list = [\"abc\",1,'a',2.3]\n",
    "# --->   -4  -3 -2  -1\n",
    "print(list[2])\n",
    "print(list[-2])"
   ]
  },
  {
   "cell_type": "code",
   "execution_count": 2,
   "id": "ac7e8b5a",
   "metadata": {},
   "outputs": [
    {
     "name": "stdout",
     "output_type": "stream",
     "text": [
      "abc\n",
      "1\n",
      "a\n",
      "2.3\n"
     ]
    }
   ],
   "source": [
    "# old ways\n",
    "counter = 0\n",
    "while counter < len(list):\n",
    "    print(list[counter])\n",
    "    counter += 1"
   ]
  },
  {
   "cell_type": "code",
   "execution_count": 3,
   "id": "ddbc428a",
   "metadata": {},
   "outputs": [
    {
     "name": "stdout",
     "output_type": "stream",
     "text": [
      "abc\n",
      "1\n",
      "a\n",
      "2.3\n"
     ]
    }
   ],
   "source": [
    "for i in list:\n",
    "    print(i)"
   ]
  },
  {
   "cell_type": "code",
   "execution_count": 4,
   "id": "f6a6b258",
   "metadata": {},
   "outputs": [
    {
     "name": "stdout",
     "output_type": "stream",
     "text": [
      "abc\n",
      "1\n",
      "a\n",
      "2.3\n"
     ]
    }
   ],
   "source": [
    "for i in range(len(list)):\n",
    "    print(list[i])"
   ]
  },
  {
   "cell_type": "markdown",
   "id": "9a50e894",
   "metadata": {},
   "source": [
    "# Slicing"
   ]
  },
  {
   "cell_type": "code",
   "execution_count": 5,
   "id": "1f2686f4",
   "metadata": {},
   "outputs": [],
   "source": [
    "# --->    0   1  2   3\n",
    "list = [\"abc\",1,'a',2.3]\n",
    "# --->   -4  -3 -2  -1"
   ]
  },
  {
   "cell_type": "code",
   "execution_count": 6,
   "id": "790701cd",
   "metadata": {},
   "outputs": [
    {
     "name": "stdout",
     "output_type": "stream",
     "text": [
      "1: [1, 'a']\n",
      "2: [1, 'a']\n",
      "3: ['abc', 1, 'a', 2.3]\n",
      "4: ['abc', 'a']\n",
      "5: [2.3, 'a', 1, 'abc']\n",
      "6: [2.3, 1]\n",
      "7: []\n",
      "8: [2.3, 'a', 1]\n",
      "9: ['abc', 1, 'a']\n",
      "10: [2.3, 'a', 1]\n",
      "11: ['abc', 1, 'a', 2.3]\n",
      "12: ['abc', 1]\n"
     ]
    }
   ],
   "source": [
    "print(\"1:\",list[1:3])\n",
    "print(\"2:\",list[1:3:1])\n",
    "print(\"3:\",list[::1])\n",
    "print(\"4:\",list[::2])\n",
    "print(\"5:\",list[::-1])\n",
    "print(\"6:\",list[::-2])\n",
    "print(\"7:\",list[-1:0:1])\n",
    "print(\"8:\",list[-1:0:-1])\n",
    "print(\"9:\",list[0:-1:1])\n",
    "print(\"10:\",list[-1:0:-1])\n",
    "print(\"11:\",list[-4:])\n",
    "print(\"12:\",list[:2])"
   ]
  },
  {
   "cell_type": "markdown",
   "id": "88b9f226",
   "metadata": {},
   "source": [
    "# Operators on list"
   ]
  },
  {
   "cell_type": "code",
   "execution_count": 7,
   "id": "d8bb8522",
   "metadata": {},
   "outputs": [
    {
     "data": {
      "text/plain": [
       "['pakistan', 1000, 2000, 'india', 2000, 3000]"
      ]
     },
     "execution_count": 7,
     "metadata": {},
     "output_type": "execute_result"
    }
   ],
   "source": [
    "l1 = ['pakistan',1000,2000]\n",
    "l2 = ['india',2000,3000]\n",
    "l1 + l2"
   ]
  },
  {
   "cell_type": "code",
   "execution_count": 8,
   "id": "39cb00b5",
   "metadata": {},
   "outputs": [
    {
     "data": {
      "text/plain": [
       "['pakistan', 1000, 2000, 'pakistan', 1000, 2000, 'pakistan', 1000, 2000]"
      ]
     },
     "execution_count": 8,
     "metadata": {},
     "output_type": "execute_result"
    }
   ],
   "source": [
    "l1 * 3"
   ]
  },
  {
   "cell_type": "markdown",
   "id": "3362c248",
   "metadata": {},
   "source": [
    "# list data type methods"
   ]
  },
  {
   "cell_type": "code",
   "execution_count": 9,
   "id": "016392e8",
   "metadata": {},
   "outputs": [
    {
     "data": {
      "text/plain": [
       "['append',\n",
       " 'clear',\n",
       " 'copy',\n",
       " 'count',\n",
       " 'extend',\n",
       " 'index',\n",
       " 'insert',\n",
       " 'pop',\n",
       " 'remove',\n",
       " 'reverse',\n",
       " 'sort']"
      ]
     },
     "execution_count": 9,
     "metadata": {},
     "output_type": "execute_result"
    }
   ],
   "source": [
    "[i for i in dir(list) if \"__\" not in i]"
   ]
  },
  {
   "cell_type": "code",
   "execution_count": 10,
   "id": "f80022b6",
   "metadata": {},
   "outputs": [
    {
     "name": "stdout",
     "output_type": "stream",
     "text": [
      "[]\n",
      "['Huzefa']\n",
      "['Huzefa', [1, 2, 3]]\n"
     ]
    }
   ],
   "source": [
    "# append\n",
    "names = []\n",
    "print(names)\n",
    "names.append(\"Huzefa\")\n",
    "print(names)\n",
    "names.append([1,2,3])\n",
    "print(names)"
   ]
  },
  {
   "cell_type": "code",
   "execution_count": 11,
   "id": "58ecf6a2",
   "metadata": {},
   "outputs": [
    {
     "name": "stdout",
     "output_type": "stream",
     "text": [
      "['Huzefa', [1, 2, 3]]\n",
      "[]\n"
     ]
    }
   ],
   "source": [
    "# clear\n",
    "print(names)\n",
    "names.clear()\n",
    "print(names)"
   ]
  },
  {
   "cell_type": "code",
   "execution_count": 12,
   "id": "9747a55c",
   "metadata": {},
   "outputs": [
    {
     "name": "stdout",
     "output_type": "stream",
     "text": [
      "[1, 20, 3]\n",
      "[1, 20, 3]\n"
     ]
    }
   ],
   "source": [
    "# copy2\n",
    "l1 = [1,2,3]\n",
    "l2 = l1\n",
    "l2[1]=20\n",
    "print(l1)\n",
    "print(l2)"
   ]
  },
  {
   "cell_type": "code",
   "execution_count": 13,
   "id": "fd76d918",
   "metadata": {},
   "outputs": [
    {
     "name": "stdout",
     "output_type": "stream",
     "text": [
      "['Huzefa', 'Mustafa']\n",
      "['Huzefa', 'm']\n",
      "['Huzefa', 'Mustafa']\n"
     ]
    }
   ],
   "source": [
    "# copy\n",
    "names2 = [\"Huzefa\",\"Mustafa\"]\n",
    "names = names2.copy()\n",
    "print(names)\n",
    "names[1]=\"m\"\n",
    "print(names)\n",
    "print(names2)"
   ]
  },
  {
   "cell_type": "code",
   "execution_count": 14,
   "id": "d490be19",
   "metadata": {},
   "outputs": [
    {
     "data": {
      "text/plain": [
       "2"
      ]
     },
     "execution_count": 14,
     "metadata": {},
     "output_type": "execute_result"
    }
   ],
   "source": [
    "# count\n",
    "a = [\"a\",\"b\",\"c\",\"d\",\"a\",\"b\",\"c\",\"d\"]\n",
    "a.count(\"a\")"
   ]
  },
  {
   "cell_type": "code",
   "execution_count": 15,
   "id": "1a6cfc4f",
   "metadata": {},
   "outputs": [
    {
     "name": "stdout",
     "output_type": "stream",
     "text": [
      "['a', 'b', 'a', 'v']\n"
     ]
    }
   ],
   "source": [
    "# extend\n",
    "e = [\"a\",\"b\"]\n",
    "t = [\"a\",\"v\"]\n",
    "e.extend(t)\n",
    "print(e)"
   ]
  },
  {
   "cell_type": "code",
   "execution_count": 16,
   "id": "ae88831b",
   "metadata": {},
   "outputs": [
    {
     "name": "stdout",
     "output_type": "stream",
     "text": [
      "[1, 2, 3, 1, 2, 3]\n",
      "[1, 2, 3]\n",
      "[1, 2, 3, 1, 2, 3]\n",
      "[1, 2, 3]\n"
     ]
    }
   ],
   "source": [
    "l1 = [1,2,3]\n",
    "l2 = [1,2,3]\n",
    "a1 = [1,2,3]\n",
    "a2 = [1,2,3]\n",
    "l1 = l1 + l2\n",
    "a1.extend(a2)\n",
    "print(l1)\n",
    "print(l2)\n",
    "print(a1)\n",
    "print(a2)"
   ]
  },
  {
   "cell_type": "code",
   "execution_count": 28,
   "id": "77beecfb",
   "metadata": {},
   "outputs": [
    {
     "name": "stdout",
     "output_type": "stream",
     "text": [
      "0\n",
      "4\n"
     ]
    }
   ],
   "source": [
    "# index\n",
    "l1 = ['a','b','c','d','a','b','c','d']\n",
    "print(l1.index('a'))\n",
    "print(l1.index('a',1))"
   ]
  },
  {
   "cell_type": "code",
   "execution_count": 29,
   "id": "c050603e",
   "metadata": {},
   "outputs": [
    {
     "name": "stdout",
     "output_type": "stream",
     "text": [
      "['a', 0, 'b', 'c', 'd', 'a', 'b', 'c', 'd']\n"
     ]
    }
   ],
   "source": [
    "# insert\n",
    "l1.insert(1,0)\n",
    "print(l1)"
   ]
  },
  {
   "cell_type": "code",
   "execution_count": 30,
   "id": "169695de",
   "metadata": {},
   "outputs": [
    {
     "name": "stdout",
     "output_type": "stream",
     "text": [
      "[0, 'b', 'c', 'd', 'a', 'b', 'c']\n"
     ]
    }
   ],
   "source": [
    "# pop\n",
    "l1.pop()\n",
    "l1.pop(0)\n",
    "print(l1)"
   ]
  },
  {
   "cell_type": "code",
   "execution_count": 31,
   "id": "1fd57ab7",
   "metadata": {},
   "outputs": [
    {
     "name": "stdout",
     "output_type": "stream",
     "text": [
      "['b', 'c', 'd', 'a', 'b', 'c']\n"
     ]
    }
   ],
   "source": [
    "# remove\n",
    "l1.remove(0)\n",
    "print(l1)"
   ]
  },
  {
   "cell_type": "code",
   "execution_count": 32,
   "id": "bcb09e85",
   "metadata": {},
   "outputs": [
    {
     "name": "stdout",
     "output_type": "stream",
     "text": [
      "['c', 'b', 'a', 'd', 'c', 'b']\n"
     ]
    }
   ],
   "source": [
    "# reverse\n",
    "l1.reverse()\n",
    "print(l1)"
   ]
  },
  {
   "cell_type": "code",
   "execution_count": 34,
   "id": "8d513e92",
   "metadata": {},
   "outputs": [
    {
     "name": "stdout",
     "output_type": "stream",
     "text": [
      "['a', 'b', 'b', 'c', 'c', 'd']\n"
     ]
    }
   ],
   "source": [
    "# sort\n",
    "l1.sort()\n",
    "print(l1)"
   ]
  },
  {
   "cell_type": "code",
   "execution_count": 38,
   "id": "3b7706b8",
   "metadata": {},
   "outputs": [
    {
     "ename": "AttributeError",
     "evalue": "'NoneType' object has no attribute 'reverse'",
     "output_type": "error",
     "traceback": [
      "\u001b[1;31m---------------------------------------------------------------------------\u001b[0m",
      "\u001b[1;31mAttributeError\u001b[0m                            Traceback (most recent call last)",
      "\u001b[1;32m~\\AppData\\Local\\Temp\\ipykernel_6412\\3400404195.py\u001b[0m in \u001b[0;36m<module>\u001b[1;34m\u001b[0m\n\u001b[0;32m      1\u001b[0m \u001b[1;31m# descending order\u001b[0m\u001b[1;33m\u001b[0m\u001b[1;33m\u001b[0m\u001b[0m\n\u001b[0;32m      2\u001b[0m \u001b[0mnumbers\u001b[0m \u001b[1;33m=\u001b[0m \u001b[1;33m[\u001b[0m\u001b[1;36m1\u001b[0m\u001b[1;33m,\u001b[0m\u001b[1;36m3\u001b[0m\u001b[1;33m,\u001b[0m\u001b[1;36m7\u001b[0m\u001b[1;33m,\u001b[0m\u001b[1;36m3\u001b[0m\u001b[1;33m,\u001b[0m\u001b[1;36m1\u001b[0m\u001b[1;33m,\u001b[0m\u001b[1;36m4\u001b[0m\u001b[1;33m,\u001b[0m\u001b[1;36m65\u001b[0m\u001b[1;33m,\u001b[0m\u001b[1;36m2\u001b[0m\u001b[1;33m,\u001b[0m\u001b[1;36m412\u001b[0m\u001b[1;33m,\u001b[0m\u001b[1;36m33\u001b[0m\u001b[1;33m,\u001b[0m\u001b[1;36m2\u001b[0m\u001b[1;33m,\u001b[0m\u001b[1;36m1\u001b[0m\u001b[1;33m]\u001b[0m\u001b[1;33m\u001b[0m\u001b[1;33m\u001b[0m\u001b[0m\n\u001b[1;32m----> 3\u001b[1;33m \u001b[0mnumbers\u001b[0m\u001b[1;33m.\u001b[0m\u001b[0msort\u001b[0m\u001b[1;33m(\u001b[0m\u001b[1;33m)\u001b[0m\u001b[1;33m.\u001b[0m\u001b[0mreverse\u001b[0m\u001b[1;33m(\u001b[0m\u001b[1;33m)\u001b[0m\u001b[1;33m\u001b[0m\u001b[1;33m\u001b[0m\u001b[0m\n\u001b[0m\u001b[0;32m      4\u001b[0m \u001b[1;31m#numbers.reverse()\u001b[0m\u001b[1;33m\u001b[0m\u001b[1;33m\u001b[0m\u001b[0m\n\u001b[0;32m      5\u001b[0m \u001b[0mprint\u001b[0m\u001b[1;33m(\u001b[0m\u001b[0mnumbers\u001b[0m\u001b[1;33m)\u001b[0m\u001b[1;33m\u001b[0m\u001b[1;33m\u001b[0m\u001b[0m\n",
      "\u001b[1;31mAttributeError\u001b[0m: 'NoneType' object has no attribute 'reverse'"
     ]
    }
   ],
   "source": [
    "# descending order\n",
    "numbers = [1,3,7,3,1,4,65,2,412,33,2,1]\n",
    "numbers.sort().reverse()\n",
    "#numbers.reverse()\n",
    "print(numbers)"
   ]
  },
  {
   "cell_type": "code",
   "execution_count": 47,
   "id": "b70dafb3",
   "metadata": {},
   "outputs": [
    {
     "name": "stdout",
     "output_type": "stream",
     "text": [
      "[11, 11]\n"
     ]
    }
   ],
   "source": [
    "b = [1,1,1,1,1,11,1,1,11]\n",
    "for i in range(b.count(1)):\n",
    "    b.remove(1)\n",
    "print(b)"
   ]
  },
  {
   "cell_type": "code",
   "execution_count": null,
   "id": "7b4d2354",
   "metadata": {},
   "outputs": [],
   "source": []
  }
 ],
 "metadata": {
  "kernelspec": {
   "display_name": "Python 3 (ipykernel)",
   "language": "python",
   "name": "python3"
  },
  "language_info": {
   "codemirror_mode": {
    "name": "ipython",
    "version": 3
   },
   "file_extension": ".py",
   "mimetype": "text/x-python",
   "name": "python",
   "nbconvert_exporter": "python",
   "pygments_lexer": "ipython3",
   "version": "3.9.13"
  }
 },
 "nbformat": 4,
 "nbformat_minor": 5
}
