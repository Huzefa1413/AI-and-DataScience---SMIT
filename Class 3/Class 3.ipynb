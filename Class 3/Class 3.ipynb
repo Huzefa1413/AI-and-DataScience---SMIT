{
 "cells": [
  {
   "cell_type": "markdown",
   "id": "6180019b",
   "metadata": {},
   "source": [
    "# Text formating / formation / concatenation"
   ]
  },
  {
   "cell_type": "markdown",
   "id": "265e848d",
   "metadata": {},
   "source": [
    "# Rules for Python variables:\n",
    "* A variable name must start with a letter or the underscore character\n",
    "* A variable name cannot start with a number\n",
    "* A variable name can only contain alpha-numeric characters and underscores (A-z, 0-9, and _ )\n",
    "* Variable names are case-sensitive (age, Age and AGE are three different variables)"
   ]
  },
  {
   "cell_type": "code",
   "execution_count": 1,
   "id": "beb4b4f0",
   "metadata": {},
   "outputs": [
    {
     "ename": "SyntaxError",
     "evalue": "invalid syntax (78782814.py, line 1)",
     "output_type": "error",
     "traceback": [
      "\u001b[1;36m  File \u001b[1;32m\"C:\\Users\\huzef\\AppData\\Local\\Temp\\ipykernel_10900\\78782814.py\"\u001b[1;36m, line \u001b[1;32m1\u001b[0m\n\u001b[1;33m    0student=\"Huzefa\"\u001b[0m\n\u001b[1;37m     ^\u001b[0m\n\u001b[1;31mSyntaxError\u001b[0m\u001b[1;31m:\u001b[0m invalid syntax\n"
     ]
    }
   ],
   "source": [
    "0student=\"Huzefa\"\n",
    "student name = \"Huzefa\"\n",
    "student^name = \"Huzefa\""
   ]
  },
  {
   "cell_type": "markdown",
   "id": "a5e1a80a",
   "metadata": {},
   "source": [
    "# Concatentation\n",
    "* **+**\n",
    "* variable_name.format(**var1, var2, var3**)\n",
    "* `f\"` Student Name: {**var1**} `\"`"
   ]
  },
  {
   "cell_type": "code",
   "execution_count": 2,
   "id": "8c3276a1",
   "metadata": {},
   "outputs": [
    {
     "name": "stdout",
     "output_type": "stream",
     "text": [
      "First Name:  Huzefa\n",
      "Last Name:  Mustafa\n",
      "Full Name:  HuzefaMustafa\n",
      "Full Name:  HuzefaMustafa\n"
     ]
    }
   ],
   "source": [
    "first_name = \"Huzefa\"\n",
    "last_name = \"Mustafa\"\n",
    "full_name = first_name + last_name\n",
    "print(\"First Name: \",first_name)\n",
    "print(\"Last Name: \",last_name)\n",
    "print(\"Full Name: \",full_name)\n",
    "print(\"Full Name: \",first_name+last_name)"
   ]
  },
  {
   "cell_type": "code",
   "execution_count": 3,
   "id": "2b7ca7c7",
   "metadata": {},
   "outputs": [
    {
     "name": "stdout",
     "output_type": "stream",
     "text": [
      "Institute Name: Saylani Mass IT Training\n",
      "Student Full Name: Huzefa Mustafa\n",
      "Age: 21\n"
     ]
    }
   ],
   "source": [
    "first_name = \"Huzefa\"\n",
    "last_name = \"Mustafa\"\n",
    "institute_name = \"Saylani Mass IT Training\"\n",
    "age = 21\n",
    "age = str(age)\n",
    "card = \"Institute Name: \" + institute_name + \"\\nStudent Full Name: \" + first_name + \" \" + last_name + \"\\nAge: \" + age\n",
    "\n",
    "print(card)"
   ]
  },
  {
   "cell_type": "code",
   "execution_count": 4,
   "id": "e065a059",
   "metadata": {},
   "outputs": [
    {
     "name": "stdout",
     "output_type": "stream",
     "text": [
      "Institute Name: Saylani Mass IT Training\n",
      "Student Full Name: Huzefa Mustafa\n",
      "Age: 21\n"
     ]
    }
   ],
   "source": [
    "first_name = \"Huzefa\"\n",
    "last_name = \"Mustafa\"\n",
    "institute_name = \"Saylani Mass IT Training\"\n",
    "age = 21\n",
    "card = \"\"\"Institute Name: {}\n",
    "Student Full Name: {} {}\n",
    "Age: {}\"\"\".format(institute_name, first_name, last_name, age)\n",
    "\n",
    "print(card)"
   ]
  },
  {
   "cell_type": "code",
   "execution_count": 5,
   "id": "061c5017",
   "metadata": {},
   "outputs": [
    {
     "name": "stdout",
     "output_type": "stream",
     "text": [
      "Institute Name: Saylani Mass IT Training\n",
      "Student Full Name: Huzefa Mustafa\n",
      "Age: 21\n"
     ]
    }
   ],
   "source": [
    "first_name = \"Huzefa\"\n",
    "last_name = \"Mustafa\"\n",
    "institute_name = \"Saylani Mass IT Training\"\n",
    "age = 21\n",
    "\n",
    "card = \"\"\"Institute Name: {2}\n",
    "Student Full Name: {0} {3}\n",
    "Age: {1}\"\"\".format(first_name, age, institute_name, last_name)\n",
    "\n",
    "print(card)"
   ]
  },
  {
   "cell_type": "code",
   "execution_count": 6,
   "id": "aff83949",
   "metadata": {},
   "outputs": [
    {
     "name": "stdout",
     "output_type": "stream",
     "text": [
      "Institute Name: Saylani Mass IT Training\n",
      "Student Full Name: Huzefa Mustafa\n",
      "Age: 21\n"
     ]
    }
   ],
   "source": [
    "first_name = \"Huzefa\"\n",
    "last_name = \"Mustafa\"\n",
    "institute_name = \"Saylani Mass IT Training\"\n",
    "age = 21\n",
    "\n",
    "card = f\"\"\"Institute Name: {institute_name}\n",
    "Student Full Name: {first_name} {last_name}\n",
    "Age: {age}\"\"\"\n",
    "\n",
    "print(card)"
   ]
  },
  {
   "cell_type": "code",
   "execution_count": 7,
   "id": "d8fc17b1",
   "metadata": {},
   "outputs": [
    {
     "name": "stdout",
     "output_type": "stream",
     "text": [
      "Institute Name: Saylani Mass IT Training\n",
      "Student Full Name: Huzefa Mustafa\n",
      "Age: 21\n"
     ]
    }
   ],
   "source": [
    "first_name = \"Huzefa\"\n",
    "last_name = \"Mustafa\"\n",
    "institute_name = \"Saylani Mass IT Training\"\n",
    "age = 21\n",
    "\n",
    "card = \"\"\"Institute Name: %s\n",
    "Student Full Name: %s %s\n",
    "Age: %s\"\"\" % (institute_name, first_name, last_name, age)\n",
    "\n",
    "print(card)"
   ]
  },
  {
   "cell_type": "code",
   "execution_count": 8,
   "id": "780940de",
   "metadata": {},
   "outputs": [
    {
     "name": "stdout",
     "output_type": "stream",
     "text": [
      "Institute name: saylani mass it training\n",
      "student full name: huzefa mustafa\n",
      "age: 21\n"
     ]
    }
   ],
   "source": [
    "print(card.capitalize()) # capitalize the first letter of the string"
   ]
  },
  {
   "cell_type": "code",
   "execution_count": 9,
   "id": "2bbbdb67",
   "metadata": {},
   "outputs": [
    {
     "name": "stdout",
     "output_type": "stream",
     "text": [
      "institute name: saylani mass it training\n",
      "student full name: huzefa mustafa\n",
      "age: 21\n"
     ]
    },
    {
     "data": {
      "text/plain": [
       "'institute name: saylani mass it training\\nstudent full name: huzefa mustafa\\nage: 21'"
      ]
     },
     "execution_count": 9,
     "metadata": {},
     "output_type": "execute_result"
    }
   ],
   "source": [
    "print(card.casefold()) #small letters all\n",
    "card.casefold()"
   ]
  },
  {
   "cell_type": "code",
   "execution_count": 10,
   "id": "7a113d3e",
   "metadata": {},
   "outputs": [
    {
     "name": "stdout",
     "output_type": "stream",
     "text": [
      "9\n",
      "0\n",
      "1\n",
      "1\n"
     ]
    }
   ],
   "source": [
    "print(card.count('a')) # counts number of a\n",
    "print(card.count('huzefa'))\n",
    "print(card.count('Huzefa'))\n",
    "print(card.casefold().count('huzefa'))"
   ]
  }
 ],
 "metadata": {
  "kernelspec": {
   "display_name": "Python 3 (ipykernel)",
   "language": "python",
   "name": "python3"
  },
  "language_info": {
   "codemirror_mode": {
    "name": "ipython",
    "version": 3
   },
   "file_extension": ".py",
   "mimetype": "text/x-python",
   "name": "python",
   "nbconvert_exporter": "python",
   "pygments_lexer": "ipython3",
   "version": "3.9.13"
  },
  "widgets": {
   "application/vnd.jupyter.widget-state+json": {
    "state": {},
    "version_major": 2,
    "version_minor": 0
   }
  }
 },
 "nbformat": 4,
 "nbformat_minor": 5
}
