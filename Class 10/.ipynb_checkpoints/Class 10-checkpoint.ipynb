{
 "cells": [
  {
   "cell_type": "markdown",
   "id": "1f729da9",
   "metadata": {},
   "source": [
    "## Relative path:\n",
    "* **./** current folder or directory\n",
    "* **./childfolder1/childfolder2/** subfolder\n",
    "* **../** parent folder\n",
    "<br><br>./fileone.txt"
   ]
  },
  {
   "cell_type": "markdown",
   "id": "6e01e777",
   "metadata": {},
   "source": [
    "# Example one:\n",
    "### Read fileone.txt from same directory in python"
   ]
  },
  {
   "cell_type": "code",
   "execution_count": 11,
   "id": "0aca4b2f",
   "metadata": {},
   "outputs": [
    {
     "data": {
      "text/plain": [
       "['_CHUNK_SIZE',\n",
       " '__class__',\n",
       " '__del__',\n",
       " '__delattr__',\n",
       " '__dict__',\n",
       " '__dir__',\n",
       " '__doc__',\n",
       " '__enter__',\n",
       " '__eq__',\n",
       " '__exit__',\n",
       " '__format__',\n",
       " '__ge__',\n",
       " '__getattribute__',\n",
       " '__gt__',\n",
       " '__hash__',\n",
       " '__init__',\n",
       " '__init_subclass__',\n",
       " '__iter__',\n",
       " '__le__',\n",
       " '__lt__',\n",
       " '__ne__',\n",
       " '__new__',\n",
       " '__next__',\n",
       " '__reduce__',\n",
       " '__reduce_ex__',\n",
       " '__repr__',\n",
       " '__setattr__',\n",
       " '__sizeof__',\n",
       " '__str__',\n",
       " '__subclasshook__',\n",
       " '_checkClosed',\n",
       " '_checkReadable',\n",
       " '_checkSeekable',\n",
       " '_checkWritable',\n",
       " '_finalizing',\n",
       " 'buffer',\n",
       " 'close',\n",
       " 'closed',\n",
       " 'detach',\n",
       " 'encoding',\n",
       " 'errors',\n",
       " 'fileno',\n",
       " 'flush',\n",
       " 'isatty',\n",
       " 'line_buffering',\n",
       " 'mode',\n",
       " 'name',\n",
       " 'newlines',\n",
       " 'read',\n",
       " 'readable',\n",
       " 'readline',\n",
       " 'readlines',\n",
       " 'reconfigure',\n",
       " 'seek',\n",
       " 'seekable',\n",
       " 'tell',\n",
       " 'truncate',\n",
       " 'writable',\n",
       " 'write',\n",
       " 'write_through',\n",
       " 'writelines']"
      ]
     },
     "execution_count": 11,
     "metadata": {},
     "output_type": "execute_result"
    }
   ],
   "source": [
    "f = open(\"./fileone.txt\")\n",
    "type(f)\n",
    "dir(f)"
   ]
  },
  {
   "cell_type": "code",
   "execution_count": 18,
   "id": "8195add7",
   "metadata": {},
   "outputs": [
    {
     "name": "stdout",
     "output_type": "stream",
     "text": [
      "Hi, Line1\n",
      "Hi, Line2\n",
      "Hi, Line3\n",
      "Hi, Line4\n",
      "Hi, Line5\n"
     ]
    }
   ],
   "source": [
    "f = open(\"./fileone.txt\")\n",
    "print(f.read())\n",
    "f.close()"
   ]
  },
  {
   "cell_type": "code",
   "execution_count": 19,
   "id": "ae7a02b6",
   "metadata": {},
   "outputs": [
    {
     "name": "stdout",
     "output_type": "stream",
     "text": [
      "Hi, Line1\n",
      "\n"
     ]
    }
   ],
   "source": [
    "f = open(\"./fileone.txt\")\n",
    "print(f.readline())\n",
    "f.close()"
   ]
  },
  {
   "cell_type": "code",
   "execution_count": 20,
   "id": "5ba81aff",
   "metadata": {},
   "outputs": [
    {
     "name": "stdout",
     "output_type": "stream",
     "text": [
      "['Hi, Line1\\n', 'Hi, Line2\\n', 'Hi, Line3\\n', 'Hi, Line4\\n', 'Hi, Line5']\n"
     ]
    }
   ],
   "source": [
    "f = open(\"./fileone.txt\")\n",
    "print(f.readlines())\n",
    "f.close()"
   ]
  },
  {
   "cell_type": "code",
   "execution_count": 21,
   "id": "4d3b1586",
   "metadata": {},
   "outputs": [
    {
     "name": "stdout",
     "output_type": "stream",
     "text": [
      "['Hi, Line1\\n', 'Hi, Line2\\n']\n"
     ]
    }
   ],
   "source": [
    "f = open(\"./fileone.txt\")\n",
    "print(f.readlines()[0:2])\n",
    "f.close()"
   ]
  },
  {
   "cell_type": "code",
   "execution_count": 22,
   "id": "e18e55bd",
   "metadata": {},
   "outputs": [
    {
     "name": "stdout",
     "output_type": "stream",
     "text": [
      "hello\n",
      "\n"
     ]
    }
   ],
   "source": [
    "f = open(\"../filetwo.txt\")\n",
    "print(f.read())\n",
    "f.close()"
   ]
  },
  {
   "cell_type": "markdown",
   "id": "88200553",
   "metadata": {},
   "source": [
    "## Absoulute path:\n",
    "C:/Users/huzef/Class 10/fileone.txt <br>\n",
    "C:/Users/huzef/Class 10/Class 10.ipynb\n",
    "\n",
    "* 1. replace / to \\\n",
    "* 2. put r before path"
   ]
  },
  {
   "cell_type": "code",
   "execution_count": 24,
   "id": "fd084b92",
   "metadata": {},
   "outputs": [
    {
     "name": "stdout",
     "output_type": "stream",
     "text": [
      "hello\n",
      "\n"
     ]
    }
   ],
   "source": [
    "f = open(\"C:/Users/huzef/filetwo.txt\")\n",
    "print(f.read())\n",
    "f.close()"
   ]
  },
  {
   "cell_type": "markdown",
   "id": "6dea6b85",
   "metadata": {},
   "source": [
    "# now open file with block"
   ]
  },
  {
   "cell_type": "code",
   "execution_count": 35,
   "id": "ad3766ca",
   "metadata": {},
   "outputs": [
    {
     "name": "stdout",
     "output_type": "stream",
     "text": [
      "acked your file\n"
     ]
    }
   ],
   "source": [
    "with open(\"./fileone.txt\") as f:\n",
    "    f.seek(5) # change cursor position\n",
    "    print(f.read())"
   ]
  },
  {
   "cell_type": "code",
   "execution_count": 36,
   "id": "ecb73ebf",
   "metadata": {},
   "outputs": [],
   "source": [
    "with open(\"./fileone.txt\", mode=\"w\") as f:\n",
    "    f.write(\"HI, I am Huzefa\")"
   ]
  },
  {
   "cell_type": "code",
   "execution_count": 38,
   "id": "b338a4ab",
   "metadata": {},
   "outputs": [],
   "source": [
    "with open(\"./fileone.txt\", mode=\"w+\") as f:\n",
    "    f.write(\"Hi, I am Huzefa\")\n",
    "    f.seek(0)\n",
    "    f.read()"
   ]
  },
  {
   "cell_type": "code",
   "execution_count": 39,
   "id": "d5f82cbd",
   "metadata": {},
   "outputs": [
    {
     "name": "stdout",
     "output_type": "stream",
     "text": [
      "zefa\n"
     ]
    }
   ],
   "source": [
    "with open(\"./fileone.txt\", mode=\"r+\") as f:\n",
    "    f.write(\"Hello World\")\n",
    "    print(f.read())"
   ]
  },
  {
   "cell_type": "code",
   "execution_count": 40,
   "id": "8dc61943",
   "metadata": {},
   "outputs": [
    {
     "name": "stdout",
     "output_type": "stream",
     "text": [
      "Hello Worldzefa\n"
     ]
    }
   ],
   "source": [
    "with open(\"./fileone.txt\", mode=\"r+\") as f:\n",
    "    f.write(\"Hello World\")\n",
    "    f.seek(0)\n",
    "    print(f.read())"
   ]
  },
  {
   "cell_type": "code",
   "execution_count": 41,
   "id": "006e8ebc",
   "metadata": {},
   "outputs": [
    {
     "name": "stdout",
     "output_type": "stream",
     "text": [
      "Hello WorldzefaHello World\n"
     ]
    }
   ],
   "source": [
    "with open(\"./fileone.txt\", mode=\"r+\") as f:\n",
    "    f.seek(len(f.read()))\n",
    "    f.write(\"Hello World\")\n",
    "    f.seek(0)\n",
    "    print(f.read())"
   ]
  },
  {
   "cell_type": "code",
   "execution_count": 42,
   "id": "8e821e68",
   "metadata": {},
   "outputs": [
    {
     "name": "stdout",
     "output_type": "stream",
     "text": [
      "Hello World\n"
     ]
    }
   ],
   "source": [
    "with open(\"./fileone2.txt\", mode=\"w+\") as f: # new file created\n",
    "    f.seek(len(f.read()))\n",
    "    f.write(\"Hello World\")\n",
    "    f.seek(0)\n",
    "    print(f.read())"
   ]
  },
  {
   "cell_type": "code",
   "execution_count": 43,
   "id": "db433409",
   "metadata": {},
   "outputs": [
    {
     "name": "stdout",
     "output_type": "stream",
     "text": [
      "<class '_io.BufferedReader'>\n",
      "b'Hello WorldzefaHello World'\n"
     ]
    }
   ],
   "source": [
    "with open(\"./fileone.txt\", mode=\"rb\") as f:\n",
    "    print(type(f))\n",
    "    print(f.read())"
   ]
  },
  {
   "cell_type": "markdown",
   "id": "330ad8ab",
   "metadata": {},
   "source": [
    "# Store input user in file using while loop"
   ]
  },
  {
   "cell_type": "code",
   "execution_count": 47,
   "id": "fb9de5a8",
   "metadata": {},
   "outputs": [
    {
     "name": "stdout",
     "output_type": "stream",
     "text": [
      "Enter Name:If I would get a flower for everytime I thought of her, I would still had only one flower\n",
      "Enter Name:Cause she never left my mind\n",
      "Enter Name:exit\n"
     ]
    }
   ],
   "source": [
    "while True:\n",
    "    name = input(\"Enter Name:\")\n",
    "    if name.lower() == 'exit':\n",
    "        break\n",
    "    with open(\"./studentName.txt\", \"a\") as f:\n",
    "        f.write(name+\"\\n\")\n",
    "        "
   ]
  },
  {
   "cell_type": "markdown",
   "id": "ca7e818f",
   "metadata": {},
   "source": [
    "# Now Handle real world data using python package"
   ]
  },
  {
   "cell_type": "code",
   "execution_count": 48,
   "id": "7e19b2eb",
   "metadata": {},
   "outputs": [
    {
     "data": {
      "text/plain": [
       "<matplotlib.image.AxesImage at 0x1d207195dc0>"
      ]
     },
     "execution_count": 48,
     "metadata": {},
     "output_type": "execute_result"
    },
    {
     "data": {
      "image/png": "[encoded data removed]",
      "text/plain": [
       "<Figure size 640x480 with 1 Axes>"
      ]
     },
     "metadata": {},
     "output_type": "display_data"
    }
   ],
   "source": [
    "import matplotlib.pyplot as plt\n",
    "import matplotlib.image as mpimg\n",
    "img = mpimg.imread('./Capture.PNG')\n"
   ]
  },
  {
   "cell_type": "code",
   "execution_count": null,
   "id": "cdd103bc",
   "metadata": {},
   "outputs": [],
   "source": []
  }
 ],
 "metadata": {
  "kernelspec": {
   "display_name": "Python 3 (ipykernel)",
   "language": "python",
   "name": "python3"
  },
  "language_info": {
   "codemirror_mode": {
    "name": "ipython",
    "version": 3
   },
   "file_extension": ".py",
   "mimetype": "text/x-python",
   "name": "python",
   "nbconvert_exporter": "python",
   "pygments_lexer": "ipython3",
   "version": "3.9.13"
  }
 },
 "nbformat": 4,
 "nbformat_minor": 5
}
