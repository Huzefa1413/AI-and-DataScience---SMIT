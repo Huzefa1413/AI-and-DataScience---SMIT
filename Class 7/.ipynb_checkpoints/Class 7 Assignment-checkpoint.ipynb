{
 "cells": [
  {
   "cell_type": "code",
   "execution_count": 2,
   "id": "17aad4af",
   "metadata": {},
   "outputs": [
    {
     "name": "stdout",
     "output_type": "stream",
     "text": [
      "Enter the Number to print Table of: 5\n",
      "Enter no of times you want to print Table: 10\n",
      "5 x 1 = 5\n",
      "5 x 2 = 10\n",
      "5 x 3 = 15\n",
      "5 x 4 = 20\n",
      "5 x 5 = 25\n",
      "5 x 6 = 30\n",
      "5 x 7 = 35\n",
      "5 x 8 = 40\n",
      "5 x 9 = 45\n",
      "5 x 10 = 50\n"
     ]
    }
   ],
   "source": [
    "m = int(input(\"Enter the Number to print Table of: \"))\n",
    "n = int(input(\"Enter no of times you want to print Table: \"))\n",
    "\n",
    "for i in range(1,n+1):\n",
    "    print(f\"{m} x {i} = {m*i}\")"
   ]
  },
  {
   "cell_type": "code",
   "execution_count": 16,
   "id": "be2f6d49",
   "metadata": {},
   "outputs": [
    {
     "name": "stdout",
     "output_type": "stream",
     "text": [
      "Enter name/id/username/email: bilalhamid@gmail.com\n",
      "Enter Password: bilal\n",
      "{'name': 'Bilal', 'id': '52', 'user': 'Bilal191', 'email': 'bilalhamid@gmail.com', 'password': 'bilal'}\n"
     ]
    }
   ],
   "source": [
    "login_info = [\n",
    "    {\n",
    "        \"name\":\"Huzefa\",\n",
    "        \"id\":\"96\",\n",
    "        \"user\":\"Huzefa1413\",\n",
    "        \"email\":\"huzefamustafa@gmail.com\",\n",
    "        \"password\":\"huzefa\"\n",
    "    },\n",
    "    {\n",
    "        \"name\":\"Bilal\",\n",
    "        \"id\":\"52\",\n",
    "        \"user\":\"Bilal191\",\n",
    "        \"email\":\"bilalhamid@gmail.com\",\n",
    "        \"password\":\"bilal\"\n",
    "    }\n",
    "]\n",
    "\n",
    "info = input(\"Enter name/id/username/email: \")\n",
    "password = input(\"Enter Password: \")\n",
    "\n",
    "for data in login_info:\n",
    "    if data['name'] == info or data['id'] == info or data['user'] == info or data['email'] == info:\n",
    "        if password == data['password']:\n",
    "            print(data)\n",
    "            break\n",
    "        else:\n",
    "            print(f\"Invalid Password for {data['name']}\")\n",
    "            break\n",
    "else:\n",
    "    print(\"User not found\")\n",
    "        "
   ]
  },
  {
   "cell_type": "code",
   "execution_count": null,
   "id": "70d22290",
   "metadata": {},
   "outputs": [],
   "source": []
  }
 ],
 "metadata": {
  "kernelspec": {
   "display_name": "Python 3 (ipykernel)",
   "language": "python",
   "name": "python3"
  },
  "language_info": {
   "codemirror_mode": {
    "name": "ipython",
    "version": 3
   },
   "file_extension": ".py",
   "mimetype": "text/x-python",
   "name": "python",
   "nbconvert_exporter": "python",
   "pygments_lexer": "ipython3",
   "version": "3.9.13"
  }
 },
 "nbformat": 4,
 "nbformat_minor": 5
}
