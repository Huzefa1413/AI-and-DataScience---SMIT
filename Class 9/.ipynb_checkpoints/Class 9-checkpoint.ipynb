{
 "cells": [
  {
   "cell_type": "markdown",
   "id": "358ac7f6",
   "metadata": {},
   "source": [
    "# Error Handling\n",
    "* Logical Error\n",
    "    * solution testing\n",
    "    * manual check line by line\n",
    "* Develoment Time Error\n",
    "    * syntax\n",
    "    * expression error\n",
    "    * IDE provide intellisence\n",
    "* Runtime Error\n",
    "    * When your application runing on production environment\n",
    "    * exception handling\n",
    "        * except\n",
    "        * try"
   ]
  },
  {
   "cell_type": "code",
   "execution_count": 23,
   "id": "fc06805a",
   "metadata": {},
   "outputs": [
    {
     "ename": "ZeroDivisionError",
     "evalue": "division by zero",
     "output_type": "error",
     "traceback": [
      "\u001b[1;31m---------------------------------------------------------------------------\u001b[0m",
      "\u001b[1;31mZeroDivisionError\u001b[0m                         Traceback (most recent call last)",
      "\u001b[1;32m~\\AppData\\Local\\Temp\\ipykernel_6080\\683720550.py\u001b[0m in \u001b[0;36m<module>\u001b[1;34m\u001b[0m\n\u001b[1;32m----> 1\u001b[1;33m \u001b[0mprint\u001b[0m\u001b[1;33m(\u001b[0m\u001b[1;36m2\u001b[0m\u001b[1;33m/\u001b[0m\u001b[1;36m0\u001b[0m\u001b[1;33m)\u001b[0m\u001b[1;33m\u001b[0m\u001b[1;33m\u001b[0m\u001b[0m\n\u001b[0m",
      "\u001b[1;31mZeroDivisionError\u001b[0m: division by zero"
     ]
    }
   ],
   "source": [
    "print(2/0)"
   ]
  },
  {
   "cell_type": "markdown",
   "id": "3e56eee9",
   "metadata": {},
   "source": [
    "# Now Handle run time error using\n",
    "* try\n",
    "    * if you think any line where error can be generated you should write it in this block\n",
    "* except\n",
    "    * you can define **error class** here\n",
    "    * what action you have to perform after the error occurs"
   ]
  },
  {
   "cell_type": "code",
   "execution_count": 26,
   "id": "f320c8ea",
   "metadata": {},
   "outputs": [
    {
     "name": "stdout",
     "output_type": "stream",
     "text": [
      "Huzefa\n",
      "Huzefa\n",
      "0.3333333333333333\n",
      "Huzefa\n",
      "Huzefa\n"
     ]
    }
   ],
   "source": [
    "print(\"Huzefa\")\n",
    "print(\"Huzefa\")\n",
    "\n",
    "try:\n",
    "    print(2/6)\n",
    "except(ZeroDivisionError):\n",
    "    print(\"Error\")\n",
    "\n",
    "print(\"Huzefa\")\n",
    "print(\"Huzefa\")"
   ]
  },
  {
   "cell_type": "code",
   "execution_count": 27,
   "id": "408e0e0a",
   "metadata": {},
   "outputs": [
    {
     "name": "stdout",
     "output_type": "stream",
     "text": [
      "Huzefa\n",
      "Huzefa\n",
      "Error\n",
      "Huzefa\n",
      "Huzefa\n"
     ]
    }
   ],
   "source": [
    "print(\"Huzefa\")\n",
    "print(\"Huzefa\")\n",
    "\n",
    "try:\n",
    "    print(2/0)\n",
    "except(ZeroDivisionError):\n",
    "    print(\"Error\")\n",
    "\n",
    "print(\"Huzefa\")\n",
    "print(\"Huzefa\")"
   ]
  },
  {
   "cell_type": "code",
   "execution_count": 30,
   "id": "67df51ff",
   "metadata": {},
   "outputs": [
    {
     "name": "stdout",
     "output_type": "stream",
     "text": [
      "Huzefa\n",
      "Huzefa\n",
      "Error\n",
      "Huzefa\n",
      "Huzefa\n"
     ]
    }
   ],
   "source": [
    "print(\"Huzefa\")\n",
    "print(\"Huzefa\")\n",
    "l = [1,2,3,4,5]\n",
    "try:\n",
    "    print(l[6])\n",
    "except(IndexError):\n",
    "    print(\"Error\")\n",
    "\n",
    "print(\"Huzefa\")\n",
    "print(\"Huzefa\")"
   ]
  },
  {
   "cell_type": "code",
   "execution_count": 33,
   "id": "cf001996",
   "metadata": {},
   "outputs": [
    {
     "name": "stdout",
     "output_type": "stream",
     "text": [
      "Huzefa\n",
      "Huzefa\n",
      "0.2857142857142857\n",
      "Error\n",
      "Huzefa\n",
      "Huzefa\n"
     ]
    }
   ],
   "source": [
    "print(\"Huzefa\")\n",
    "print(\"Huzefa\")\n",
    "\n",
    "try:\n",
    "    print(2/7)\n",
    "    print(l[7])\n",
    "    open('abc.txt')\n",
    "except(ZeroDivisionError, IndexError, FileNotFoundError):\n",
    "    print(\"Error\")\n",
    "\n",
    "print(\"Huzefa\")\n",
    "print(\"Huzefa\")"
   ]
  },
  {
   "cell_type": "code",
   "execution_count": 34,
   "id": "70a4abd9",
   "metadata": {},
   "outputs": [
    {
     "name": "stdout",
     "output_type": "stream",
     "text": [
      "Huzefa\n",
      "Huzefa\n",
      "0.2857142857142857\n",
      "Error\n",
      "Huzefa\n",
      "Huzefa\n"
     ]
    }
   ],
   "source": [
    "print(\"Huzefa\")\n",
    "print(\"Huzefa\")\n",
    "\n",
    "try:\n",
    "    print(2/7)\n",
    "    print(l[7])\n",
    "    open('abc.txt')\n",
    "except:\n",
    "    print(\"Error\")\n",
    "\n",
    "print(\"Huzefa\")\n",
    "print(\"Huzefa\")"
   ]
  },
  {
   "cell_type": "markdown",
   "id": "a36946ec",
   "metadata": {},
   "source": [
    "# Handle dynamic error with dynamic message"
   ]
  },
  {
   "cell_type": "code",
   "execution_count": 38,
   "id": "39ca308b",
   "metadata": {},
   "outputs": [
    {
     "name": "stdout",
     "output_type": "stream",
     "text": [
      "Huzefa\n",
      "Huzefa\n",
      "Error: division by zero\n",
      "Huzefa\n",
      "Huzefa\n"
     ]
    }
   ],
   "source": [
    "print(\"Huzefa\")\n",
    "print(\"Huzefa\")\n",
    "\n",
    "try:\n",
    "    print(2/0)\n",
    "    print(l[2])\n",
    "    open('abc.txt')\n",
    "except Exception as e:\n",
    "    print(\"Error:\", e)\n",
    "\n",
    "print(\"Huzefa\")\n",
    "print(\"Huzefa\")"
   ]
  },
  {
   "cell_type": "code",
   "execution_count": 43,
   "id": "41ca4617",
   "metadata": {},
   "outputs": [
    {
     "name": "stdout",
     "output_type": "stream",
     "text": [
      "\n",
      "a = 7\n",
      "b = 4\n",
      "print(a + b)\n",
      "\n"
     ]
    }
   ],
   "source": [
    "code = '''\n",
    "a = 7\n",
    "b = 4\n",
    "print(a + b)\n",
    "'''\n",
    "\n",
    "print(code)"
   ]
  },
  {
   "cell_type": "code",
   "execution_count": 45,
   "id": "1d641df3",
   "metadata": {},
   "outputs": [
    {
     "name": "stdout",
     "output_type": "stream",
     "text": [
      "Sum: 11\n"
     ]
    }
   ],
   "source": [
    "code = '''\n",
    "a = 7\n",
    "b = 4\n",
    "print('Sum:',a + b)\n",
    "'''\n",
    "\n",
    "exec(code)"
   ]
  },
  {
   "cell_type": "code",
   "execution_count": 49,
   "id": "311ef45f",
   "metadata": {},
   "outputs": [
    {
     "name": "stdout",
     "output_type": "stream",
     "text": [
      "name 'Print' is not defined\n"
     ]
    }
   ],
   "source": [
    "code = '''\n",
    "a = 7\n",
    "b = 4\n",
    "Print('Sum:',a + b)\n",
    "'''\n",
    "try:\n",
    "    exec(code)\n",
    "except Exception as e:\n",
    "    print(e)"
   ]
  },
  {
   "cell_type": "code",
   "execution_count": null,
   "id": "629acf7c",
   "metadata": {},
   "outputs": [],
   "source": []
  }
 ],
 "metadata": {
  "kernelspec": {
   "display_name": "Python 3 (ipykernel)",
   "language": "python",
   "name": "python3"
  },
  "language_info": {
   "codemirror_mode": {
    "name": "ipython",
    "version": 3
   },
   "file_extension": ".py",
   "mimetype": "text/x-python",
   "name": "python",
   "nbconvert_exporter": "python",
   "pygments_lexer": "ipython3",
   "version": "3.9.13"
  }
 },
 "nbformat": 4,
 "nbformat_minor": 5
}
