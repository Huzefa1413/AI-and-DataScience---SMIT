{
 "cells": [
  {
   "cell_type": "code",
   "execution_count": 1,
   "id": "bcb66c41",
   "metadata": {},
   "outputs": [],
   "source": [
    "from tkinter import *\n",
    "from tkinter import ttk\n",
    "\n",
    "root = Tk()\n",
    "frm = ttk.Frame(root,padding=100)\n",
    "frm.grid()\n",
    "ttk.Label(frm, text=\"Hello World\").grid(column=0,row=0)\n",
    "ttk.Button(frm, text=\"Quit\", command=root.destroy).grid(column=1,row=0)\n",
    "root.mainloop()"
   ]
  },
  {
   "cell_type": "markdown",
   "id": "6d987bfd",
   "metadata": {},
   "source": [
    "# make image combiner desktop application\n",
    "* 1) Upload Image1\n",
    "* 2) Upload Image2\n",
    "* 3) Dropdown Button (vertical or horizontal)\n",
    "* 4) Convert\n",
    "* 5) save -> with dialog box"
   ]
  },
  {
   "cell_type": "code",
   "execution_count": null,
   "id": "94f37458",
   "metadata": {},
   "outputs": [],
   "source": []
  }
 ],
 "metadata": {
  "kernelspec": {
   "display_name": "Python 3 (ipykernel)",
   "language": "python",
   "name": "python3"
  },
  "language_info": {
   "codemirror_mode": {
    "name": "ipython",
    "version": 3
   },
   "file_extension": ".py",
   "mimetype": "text/x-python",
   "name": "python",
   "nbconvert_exporter": "python",
   "pygments_lexer": "ipython3",
   "version": "3.9.13"
  }
 },
 "nbformat": 4,
 "nbformat_minor": 5
}
