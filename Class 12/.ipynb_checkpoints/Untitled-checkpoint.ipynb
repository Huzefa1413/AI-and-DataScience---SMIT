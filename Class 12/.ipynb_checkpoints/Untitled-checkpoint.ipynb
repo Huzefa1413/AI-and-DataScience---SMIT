{
 "cells": [
  {
   "cell_type": "markdown",
   "id": "cd99940b",
   "metadata": {},
   "source": [
    "# Chatgpt prompt engineering for developers\n",
    "### AndrewNg\n",
    "### Deeplearning.io"
   ]
  },
  {
   "cell_type": "markdown",
   "id": "28a8cb15",
   "metadata": {},
   "source": [
    "### langchain package"
   ]
  },
  {
   "cell_type": "code",
   "execution_count": 23,
   "id": "758ca5a4",
   "metadata": {},
   "outputs": [
    {
     "name": "stdout",
     "output_type": "stream",
     "text": [
      "Huzefa\n",
      "None\n"
     ]
    }
   ],
   "source": [
    "class Student():\n",
    "    counter = 0\n",
    "    def __init__(self, sname):\n",
    "        self.name = sname\n",
    "        self.father_name = None\n",
    "        \n",
    "    def login(self, user, password):\n",
    "        pass\n",
    "    def updatecounter(self):\n",
    "        Student.counter += 1\n",
    "\n",
    "s1 = Student(\"Huzefa\")\n",
    "s2 = Student(\"Bilal\")\n",
    "\n",
    "print(s1.name)\n",
    "print(s1.father_name)"
   ]
  },
  {
   "cell_type": "code",
   "execution_count": 17,
   "id": "bef75477",
   "metadata": {},
   "outputs": [
    {
     "name": "stdout",
     "output_type": "stream",
     "text": [
      "Mustafa\n"
     ]
    }
   ],
   "source": [
    "s1.father_name = \"Mustafa\"\n",
    "print(s1.father_name)"
   ]
  },
  {
   "cell_type": "code",
   "execution_count": 18,
   "id": "81f6f4dd",
   "metadata": {},
   "outputs": [
    {
     "name": "stdout",
     "output_type": "stream",
     "text": [
      "Abc\n"
     ]
    }
   ],
   "source": [
    "s1.name = \"Abc\"\n",
    "print(s1.name)"
   ]
  },
  {
   "cell_type": "code",
   "execution_count": 19,
   "id": "6935dbe4",
   "metadata": {},
   "outputs": [
    {
     "name": "stdout",
     "output_type": "stream",
     "text": [
      "03357224192\n"
     ]
    }
   ],
   "source": [
    "s1.contact = \"03357224192\"\n",
    "print(s1.contact)"
   ]
  },
  {
   "cell_type": "code",
   "execution_count": 20,
   "id": "9d54befd",
   "metadata": {},
   "outputs": [
    {
     "name": "stdout",
     "output_type": "stream",
     "text": [
      "0\n",
      "0\n"
     ]
    }
   ],
   "source": [
    "print(s1.counter)\n",
    "print(s2.counter)"
   ]
  },
  {
   "cell_type": "code",
   "execution_count": 27,
   "id": "5a725563",
   "metadata": {},
   "outputs": [
    {
     "name": "stdout",
     "output_type": "stream",
     "text": [
      "3\n",
      "100\n"
     ]
    }
   ],
   "source": [
    "s1.counter = 100\n",
    "print(s2.counter)\n",
    "print(s1.counter)"
   ]
  },
  {
   "cell_type": "code",
   "execution_count": 26,
   "id": "6cbe75f2",
   "metadata": {},
   "outputs": [
    {
     "name": "stdout",
     "output_type": "stream",
     "text": [
      "3\n",
      "3\n"
     ]
    }
   ],
   "source": [
    "s2.updatecounter()\n",
    "print(s2.counter)\n",
    "print(s1.counter)"
   ]
  },
  {
   "cell_type": "markdown",
   "id": "e8e67cb3",
   "metadata": {},
   "source": [
    "# Inheritence\n"
   ]
  },
  {
   "cell_type": "code",
   "execution_count": 51,
   "id": "cda39b6b",
   "metadata": {},
   "outputs": [
    {
     "name": "stdout",
     "output_type": "stream",
     "text": [
      "Huzefa\n",
      "Mustafa\n",
      "Hi\n",
      "Huzefa is looking at Laptop\n",
      "Bilal\n",
      "22\n",
      "Bilal is looking at Sky\n",
      "Bilal is reading Book\n"
     ]
    }
   ],
   "source": [
    "class Parents():\n",
    "    def __init__(this, name, father_name):\n",
    "        this.name = name\n",
    "        this.father_name = father_name\n",
    "        \n",
    "    def speak(this,words):\n",
    "        return words\n",
    "    \n",
    "    def look(this,objects):\n",
    "        return f\"{this.name} is looking at {objects}\"\n",
    "    \n",
    "    \n",
    "class Child(Parents):\n",
    "    def __init__(this,name,father_name,age):\n",
    "        super().__init__(name,father_name)\n",
    "        this.age = age\n",
    "        \n",
    "    def reading(this,text):\n",
    "        return f\"{this.name} is reading {text}\"\n",
    "\n",
    "p1 = Parents(\"Huzefa\",\"Mustafa\")\n",
    "print(p1.name)\n",
    "print(p1.father_name)\n",
    "print(p1.speak(\"Hi\"))\n",
    "print(p1.look(\"Laptop\"))\n",
    "\n",
    "c1 = Child(\"Bilal\",\"Hamid\",22)\n",
    "print(c1.name)\n",
    "print(c1.age)\n",
    "print(c1.look(\"Sky\"))\n",
    "print(c1.reading(\"Book\"))"
   ]
  },
  {
   "cell_type": "code",
   "execution_count": 54,
   "id": "ea7e5e9a",
   "metadata": {},
   "outputs": [
    {
     "data": {
      "text/plain": [
       "['age', 'look', 'name', 'reading', 'speak']"
      ]
     },
     "execution_count": 54,
     "metadata": {},
     "output_type": "execute_result"
    }
   ],
   "source": [
    "[i for i in dir(p1) if \"_\" not in i]"
   ]
  },
  {
   "cell_type": "code",
   "execution_count": 56,
   "id": "39a5d429",
   "metadata": {},
   "outputs": [
    {
     "data": {
      "text/plain": [
       "['age', 'look', 'name', 'reading', 'speak']"
      ]
     },
     "execution_count": 56,
     "metadata": {},
     "output_type": "execute_result"
    }
   ],
   "source": [
    "[i for i in dir(c1) if \"_\" not in i]"
   ]
  },
  {
   "cell_type": "code",
   "execution_count": null,
   "id": "f9b9d1fe",
   "metadata": {},
   "outputs": [],
   "source": [
    "class Students():\n",
    "    def __init__(this):\n",
    "        this.name = None\n",
    "        this.father = None\n",
    "        this.course = None\n",
    "        this.fee = 0\n",
    "    def submit_fee(this, fee):\n",
    "        this.fee = fee\n",
    "        return f\"{this.fee} Rs Submitted\" "
   ]
  }
 ],
 "metadata": {
  "kernelspec": {
   "display_name": "Python 3 (ipykernel)",
   "language": "python",
   "name": "python3"
  },
  "language_info": {
   "codemirror_mode": {
    "name": "ipython",
    "version": 3
   },
   "file_extension": ".py",
   "mimetype": "text/x-python",
   "name": "python",
   "nbconvert_exporter": "python",
   "pygments_lexer": "ipython3",
   "version": "3.9.13"
  }
 },
 "nbformat": 4,
 "nbformat_minor": 5
}
