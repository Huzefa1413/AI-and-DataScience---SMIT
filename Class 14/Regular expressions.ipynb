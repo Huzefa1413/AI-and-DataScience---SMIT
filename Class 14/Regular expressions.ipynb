{
 "cells": [
  {
   "cell_type": "code",
   "execution_count": 1,
   "id": "30b32797",
   "metadata": {},
   "outputs": [],
   "source": [
    "import re"
   ]
  },
  {
   "cell_type": "code",
   "execution_count": 2,
   "id": "9d09d783",
   "metadata": {},
   "outputs": [
    {
     "data": {
      "text/plain": [
       "['a', 'a', 'a', 'a']"
      ]
     },
     "execution_count": 2,
     "metadata": {},
     "output_type": "execute_result"
    }
   ],
   "source": [
    "text = \"\"\"\n",
    "pakistan zindabad\"\"\"\n",
    "re.findall('a',text)"
   ]
  },
  {
   "cell_type": "code",
   "execution_count": 3,
   "id": "a50aac29",
   "metadata": {},
   "outputs": [
    {
     "data": {
      "text/plain": [
       "['ak']"
      ]
     },
     "execution_count": 3,
     "metadata": {},
     "output_type": "execute_result"
    }
   ],
   "source": [
    "re.findall('ak',text)"
   ]
  },
  {
   "cell_type": "code",
   "execution_count": 6,
   "id": "542baaeb",
   "metadata": {},
   "outputs": [
    {
     "data": {
      "text/plain": [
       "['ak', 'ab', 'ad']"
      ]
     },
     "execution_count": 6,
     "metadata": {},
     "output_type": "execute_result"
    }
   ],
   "source": [
    "re.findall('a[kdbm]',text)\n",
    "#first character a next character any of [kdbm]"
   ]
  },
  {
   "cell_type": "code",
   "execution_count": 11,
   "id": "9119334e",
   "metadata": {},
   "outputs": [],
   "source": [
    "text = \"\"\"\n",
    "Pakistan Zindabad!\n",
    "I'm living in karachi\n",
    "Saylani Mass IT Training\n",
    "a\n",
    "i\n",
    "\"\"\""
   ]
  },
  {
   "cell_type": "code",
   "execution_count": 12,
   "id": "dc186881",
   "metadata": {},
   "outputs": [
    {
     "data": {
      "text/plain": [
       "['aki', 'ani']"
      ]
     },
     "execution_count": 12,
     "metadata": {},
     "output_type": "execute_result"
    }
   ],
   "source": [
    "re.findall('a.i',text)"
   ]
  },
  {
   "cell_type": "code",
   "execution_count": 13,
   "id": "25f93026",
   "metadata": {},
   "outputs": [
    {
     "data": {
      "text/plain": [
       "['huzefa']"
      ]
     },
     "execution_count": 13,
     "metadata": {},
     "output_type": "execute_result"
    }
   ],
   "source": [
    "name = 'huzefa'\n",
    "re.findall('h....a',name)"
   ]
  },
  {
   "cell_type": "code",
   "execution_count": 14,
   "id": "54cc2220",
   "metadata": {},
   "outputs": [
    {
     "data": {
      "text/plain": [
       "['akistan Zindabad!', 'arachi', 'aylani Mass IT Training']"
      ]
     },
     "execution_count": 14,
     "metadata": {},
     "output_type": "execute_result"
    }
   ],
   "source": [
    "re.findall('a.+',text)"
   ]
  },
  {
   "cell_type": "code",
   "execution_count": 15,
   "id": "6da884de",
   "metadata": {},
   "outputs": [
    {
     "data": {
      "text/plain": [
       "['akis', 'an Z', 'abad', 'arac', 'ayla', 'ass ', 'aini']"
      ]
     },
     "execution_count": 15,
     "metadata": {},
     "output_type": "execute_result"
    }
   ],
   "source": [
    "re.findall('a.{3}',text)"
   ]
  },
  {
   "cell_type": "code",
   "execution_count": 16,
   "id": "ca13aef8",
   "metadata": {},
   "outputs": [
    {
     "data": {
      "text/plain": [
       "['aylan', 'ainin']"
      ]
     },
     "execution_count": 16,
     "metadata": {},
     "output_type": "execute_result"
    }
   ],
   "source": [
    "re.findall('a.{3}n',text)"
   ]
  },
  {
   "cell_type": "code",
   "execution_count": 18,
   "id": "1015b035",
   "metadata": {},
   "outputs": [
    {
     "data": {
      "text/plain": [
       "['akistan', 'aylan', 'ainin']"
      ]
     },
     "execution_count": 18,
     "metadata": {},
     "output_type": "execute_result"
    }
   ],
   "source": [
    "re.findall('a.{1,5}n',text)"
   ]
  },
  {
   "cell_type": "code",
   "execution_count": 19,
   "id": "b82aa432",
   "metadata": {},
   "outputs": [
    {
     "data": {
      "text/plain": [
       "['akistan Zindabad!', 'arachi', 'aylani Mass IT Training', 'a']"
      ]
     },
     "execution_count": 19,
     "metadata": {},
     "output_type": "execute_result"
    }
   ],
   "source": [
    "re.findall('a.*',text)"
   ]
  },
  {
   "cell_type": "code",
   "execution_count": 31,
   "id": "ab27ae9a",
   "metadata": {},
   "outputs": [],
   "source": [
    "roll = \"\"\"\n",
    "20F-BSCS-057\n",
    "20F-BSCS-096\n",
    "21F-BSIT-04\n",
    "\"\"\""
   ]
  },
  {
   "cell_type": "code",
   "execution_count": 35,
   "id": "2a5b6009",
   "metadata": {},
   "outputs": [
    {
     "data": {
      "text/plain": [
       "['20F-BSCS-057', '20F-BSCS-096']"
      ]
     },
     "execution_count": 35,
     "metadata": {},
     "output_type": "execute_result"
    }
   ],
   "source": [
    "re.findall('20F.+',roll)"
   ]
  },
  {
   "cell_type": "code",
   "execution_count": 37,
   "id": "6a012132",
   "metadata": {},
   "outputs": [
    {
     "data": {
      "text/plain": [
       "['21F-BSIT-04']"
      ]
     },
     "execution_count": 37,
     "metadata": {},
     "output_type": "execute_result"
    }
   ],
   "source": [
    "re.findall('21F.+',roll)"
   ]
  },
  {
   "cell_type": "code",
   "execution_count": 41,
   "id": "0f8e75de",
   "metadata": {},
   "outputs": [
    {
     "data": {
      "text/plain": [
       "['20F-BSCS-057', '20F-BSCS-096']"
      ]
     },
     "execution_count": 41,
     "metadata": {},
     "output_type": "execute_result"
    }
   ],
   "source": [
    "re.findall('....BSCS.+',roll)"
   ]
  },
  {
   "cell_type": "code",
   "execution_count": 61,
   "id": "21fc6206",
   "metadata": {},
   "outputs": [],
   "source": [
    "text = \"\"\"\n",
    "ai213\n",
    "ai12321\n",
    "Aijasja\"\"\""
   ]
  },
  {
   "cell_type": "code",
   "execution_count": 62,
   "id": "987ee5c0",
   "metadata": {},
   "outputs": [
    {
     "data": {
      "text/plain": [
       "['ai213', 'ai12321']"
      ]
     },
     "execution_count": 62,
     "metadata": {},
     "output_type": "execute_result"
    }
   ],
   "source": [
    "re.findall('ai[0123456789]+',text)"
   ]
  },
  {
   "cell_type": "code",
   "execution_count": 63,
   "id": "5c9e2ed4",
   "metadata": {},
   "outputs": [
    {
     "data": {
      "text/plain": [
       "['ai213', 'ai12321']"
      ]
     },
     "execution_count": 63,
     "metadata": {},
     "output_type": "execute_result"
    }
   ],
   "source": [
    "re.findall('ai[0-9]*',text)"
   ]
  },
  {
   "cell_type": "code",
   "execution_count": 64,
   "id": "9f02a8c9",
   "metadata": {},
   "outputs": [
    {
     "data": {
      "text/plain": [
       "['ai213', 'ai12321']"
      ]
     },
     "execution_count": 64,
     "metadata": {},
     "output_type": "execute_result"
    }
   ],
   "source": [
    "re.findall('ai[0-9]{2,5}',text)"
   ]
  },
  {
   "cell_type": "code",
   "execution_count": 68,
   "id": "d7c330af",
   "metadata": {},
   "outputs": [
    {
     "data": {
      "text/plain": [
       "['ai', 'ai', 'Aijasja']"
      ]
     },
     "execution_count": 68,
     "metadata": {},
     "output_type": "execute_result"
    }
   ],
   "source": [
    "re.findall('[A-z]+',text)"
   ]
  },
  {
   "cell_type": "code",
   "execution_count": 69,
   "id": "7d609cd4",
   "metadata": {},
   "outputs": [
    {
     "data": {
      "text/plain": [
       "['', 'ai', '', '', '', '', 'ai', '', '', '', '', '', '', 'Aijasja', '']"
      ]
     },
     "execution_count": 69,
     "metadata": {},
     "output_type": "execute_result"
    }
   ],
   "source": [
    "re.findall('[A-z]*',text)"
   ]
  },
  {
   "cell_type": "code",
   "execution_count": 90,
   "id": "3b8058e5",
   "metadata": {},
   "outputs": [],
   "source": [
    "number = \"\"\"\n",
    "03357224192\n",
    "0333-3394792\n",
    "00002-23133131\n",
    "+923321132114\n",
    "+92335-7224193\n",
    "huzefa 0962-3333333\"\"\""
   ]
  },
  {
   "cell_type": "code",
   "execution_count": 91,
   "id": "a67c4824",
   "metadata": {},
   "outputs": [
    {
     "data": {
      "text/plain": [
       "['03357224192', '0333-3394792', '00002-23133131']"
      ]
     },
     "execution_count": 91,
     "metadata": {},
     "output_type": "execute_result"
    }
   ],
   "source": [
    "re.findall('^[0-9].+[0-9]$',number,re.MULTILINE)"
   ]
  },
  {
   "cell_type": "code",
   "execution_count": 92,
   "id": "386bfdef",
   "metadata": {},
   "outputs": [
    {
     "data": {
      "text/plain": [
       "['03357224192', '0333-3394792', '00002-23133131']"
      ]
     },
     "execution_count": 92,
     "metadata": {},
     "output_type": "execute_result"
    }
   ],
   "source": [
    "re.findall('^\\d.+\\d$',number,re.MULTILINE)"
   ]
  },
  {
   "cell_type": "code",
   "execution_count": 97,
   "id": "7fa09ca4",
   "metadata": {},
   "outputs": [
    {
     "data": {
      "text/plain": [
       "['03357224192',\n",
       " '0333-3394792',\n",
       " '00002-2313313',\n",
       " '923321132114',\n",
       " '92335-7224193',\n",
       " '0962-3333333']"
      ]
     },
     "execution_count": 97,
     "metadata": {},
     "output_type": "execute_result"
    }
   ],
   "source": [
    "re.findall(r'\\b\\+?\\d{4,7}-?\\d{7}',number,re.MULTILINE)"
   ]
  },
  {
   "cell_type": "code",
   "execution_count": 103,
   "id": "f684f247",
   "metadata": {},
   "outputs": [],
   "source": [
    "text = 'pakistan zinda bad. we are pakistan abidan'"
   ]
  },
  {
   "cell_type": "code",
   "execution_count": 104,
   "id": "b35a253f",
   "metadata": {},
   "outputs": [
    {
     "data": {
      "text/plain": [
       "['pakistan', 'pakistan', 'abidan']"
      ]
     },
     "execution_count": 104,
     "metadata": {},
     "output_type": "execute_result"
    }
   ],
   "source": [
    "re.findall(r'[pa][a-z]*n',text)"
   ]
  },
  {
   "cell_type": "code",
   "execution_count": 105,
   "id": "42ac439c",
   "metadata": {},
   "outputs": [
    {
     "data": {
      "text/plain": [
       "['pakistan', 'pakistan', 'abidan']"
      ]
     },
     "execution_count": 105,
     "metadata": {},
     "output_type": "execute_result"
    }
   ],
   "source": [
    "re.findall(r'\\b[pa][a-z]*n\\b',text)"
   ]
  },
  {
   "cell_type": "code",
   "execution_count": null,
   "id": "d1cb2887",
   "metadata": {},
   "outputs": [],
   "source": []
  }
 ],
 "metadata": {
  "kernelspec": {
   "display_name": "Python 3 (ipykernel)",
   "language": "python",
   "name": "python3"
  },
  "language_info": {
   "codemirror_mode": {
    "name": "ipython",
    "version": 3
   },
   "file_extension": ".py",
   "mimetype": "text/x-python",
   "name": "python",
   "nbconvert_exporter": "python",
   "pygments_lexer": "ipython3",
   "version": "3.9.13"
  }
 },
 "nbformat": 4,
 "nbformat_minor": 5
}
