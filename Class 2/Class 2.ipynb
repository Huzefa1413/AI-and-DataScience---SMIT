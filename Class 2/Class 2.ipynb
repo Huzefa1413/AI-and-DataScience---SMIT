{
 "cells": [
  {
   "cell_type": "markdown",
   "id": "4ea92bc4",
   "metadata": {},
   "source": [
    "# Class 2\n",
    "\n",
    "* Help\n",
    "    * help(function_name)\n",
    "    * function_name(```press shift+tab```)\n",
    "    * function?\n",
    "    * function??\n",
    "    * ?function\n",
    "    * ??function\n",
    "* print\n",
    "    * value\n",
    "    * sep\n",
    "    * end\n",
    "* variable\n",
    "    * **```variable_name = value```**\n",
    "    * with print\n",
    "    * string\n",
    "        * ```start with **\"** and end with **\"**``` **single line string**\n",
    "        * **\"Huzefa Mustafa\"**\n",
    "        * ```start with **'** and end with **'**``` **single line string**\n",
    "        * **'Huzefa Mustafa'**\n",
    "        * ```start with **'''** and end with **'''**``` **multi line string**\n",
    "        * **'''Huzefa Mustafa'''**\n",
    "        * ```start with **\"\"\"** and end with **\"\"\"**``` **multi line string**\n",
    "        * **\"\"\"Huzefa Mustafa\"\"\"**\n",
    "        * to print special character as normal between string we use **```\\```**\n",
    "       \n",
    "    * number\n",
    "        * integer\n",
    "            * ```1```\n",
    "        * float\n",
    "            * ```1.1```\n",
    "    * function on variable\n",
    "        * help()\n",
    "        * len()\n",
    "        * type()\n",
    "        * id()\n",
    "        * dir()\n",
    " "
   ]
  },
  {
   "cell_type": "code",
   "execution_count": 1,
   "id": "e52a98e8",
   "metadata": {},
   "outputs": [
    {
     "name": "stdout",
     "output_type": "stream",
     "text": [
      "The Zen of Python, by Tim Peters\n",
      "\n",
      "Beautiful is better than ugly.\n",
      "Explicit is better than implicit.\n",
      "Simple is better than complex.\n",
      "Complex is better than complicated.\n",
      "Flat is better than nested.\n",
      "Sparse is better than dense.\n",
      "Readability counts.\n",
      "Special cases aren't special enough to break the rules.\n",
      "Although practicality beats purity.\n",
      "Errors should never pass silently.\n",
      "Unless explicitly silenced.\n",
      "In the face of ambiguity, refuse the temptation to guess.\n",
      "There should be one-- and preferably only one --obvious way to do it.\n",
      "Although that way may not be obvious at first unless you're Dutch.\n",
      "Now is better than never.\n",
      "Although never is often better than *right* now.\n",
      "If the implementation is hard to explain, it's a bad idea.\n",
      "If the implementation is easy to explain, it may be a good idea.\n",
      "Namespaces are one honking great idea -- let's do more of those!\n"
     ]
    }
   ],
   "source": [
    "import this"
   ]
  },
  {
   "cell_type": "markdown",
   "id": "715fb537",
   "metadata": {},
   "source": [
    "# Help"
   ]
  },
  {
   "cell_type": "code",
   "execution_count": 2,
   "id": "a357170c",
   "metadata": {},
   "outputs": [
    {
     "name": "stdout",
     "output_type": "stream",
     "text": [
      "Help on built-in function print in module builtins:\n",
      "\n",
      "print(...)\n",
      "    print(value, ..., sep=' ', end='\\n', file=sys.stdout, flush=False)\n",
      "    \n",
      "    Prints the values to a stream, or to sys.stdout by default.\n",
      "    Optional keyword arguments:\n",
      "    file:  a file-like object (stream); defaults to the current sys.stdout.\n",
      "    sep:   string inserted between values, default a space.\n",
      "    end:   string appended after the last value, default a newline.\n",
      "    flush: whether to forcibly flush the stream.\n",
      "\n"
     ]
    }
   ],
   "source": [
    "help(print)"
   ]
  },
  {
   "cell_type": "code",
   "execution_count": 3,
   "id": "3ef31c90",
   "metadata": {},
   "outputs": [
    {
     "name": "stdout",
     "output_type": "stream",
     "text": [
      "\n"
     ]
    }
   ],
   "source": [
    "# press shift+tab\n",
    "print()"
   ]
  },
  {
   "cell_type": "code",
   "execution_count": 4,
   "id": "90cbdb2e",
   "metadata": {},
   "outputs": [
    {
     "name": "stdout",
     "output_type": "stream",
     "text": [
      "\u001b[1;31mDocstring:\u001b[0m\n",
      "print(value, ..., sep=' ', end='\\n', file=sys.stdout, flush=False)\n",
      "\n",
      "Prints the values to a stream, or to sys.stdout by default.\n",
      "Optional keyword arguments:\n",
      "file:  a file-like object (stream); defaults to the current sys.stdout.\n",
      "sep:   string inserted between values, default a space.\n",
      "end:   string appended after the last value, default a newline.\n",
      "flush: whether to forcibly flush the stream.\n",
      "\u001b[1;31mType:\u001b[0m      builtin_function_or_method\n"
     ]
    }
   ],
   "source": [
    "print?"
   ]
  },
  {
   "cell_type": "code",
   "execution_count": 5,
   "id": "9a166091",
   "metadata": {},
   "outputs": [
    {
     "name": "stdout",
     "output_type": "stream",
     "text": [
      "\u001b[1;31mDocstring:\u001b[0m\n",
      "print(value, ..., sep=' ', end='\\n', file=sys.stdout, flush=False)\n",
      "\n",
      "Prints the values to a stream, or to sys.stdout by default.\n",
      "Optional keyword arguments:\n",
      "file:  a file-like object (stream); defaults to the current sys.stdout.\n",
      "sep:   string inserted between values, default a space.\n",
      "end:   string appended after the last value, default a newline.\n",
      "flush: whether to forcibly flush the stream.\n",
      "\u001b[1;31mType:\u001b[0m      builtin_function_or_method\n"
     ]
    }
   ],
   "source": [
    "print??"
   ]
  },
  {
   "cell_type": "code",
   "execution_count": 6,
   "id": "79923bdb",
   "metadata": {},
   "outputs": [
    {
     "name": "stdout",
     "output_type": "stream",
     "text": [
      "\u001b[1;31mDocstring:\u001b[0m\n",
      "print(value, ..., sep=' ', end='\\n', file=sys.stdout, flush=False)\n",
      "\n",
      "Prints the values to a stream, or to sys.stdout by default.\n",
      "Optional keyword arguments:\n",
      "file:  a file-like object (stream); defaults to the current sys.stdout.\n",
      "sep:   string inserted between values, default a space.\n",
      "end:   string appended after the last value, default a newline.\n",
      "flush: whether to forcibly flush the stream.\n",
      "\u001b[1;31mType:\u001b[0m      builtin_function_or_method\n"
     ]
    }
   ],
   "source": [
    "?print"
   ]
  },
  {
   "cell_type": "code",
   "execution_count": 7,
   "id": "c568de90",
   "metadata": {},
   "outputs": [
    {
     "name": "stdout",
     "output_type": "stream",
     "text": [
      "\u001b[1;31mDocstring:\u001b[0m\n",
      "print(value, ..., sep=' ', end='\\n', file=sys.stdout, flush=False)\n",
      "\n",
      "Prints the values to a stream, or to sys.stdout by default.\n",
      "Optional keyword arguments:\n",
      "file:  a file-like object (stream); defaults to the current sys.stdout.\n",
      "sep:   string inserted between values, default a space.\n",
      "end:   string appended after the last value, default a newline.\n",
      "flush: whether to forcibly flush the stream.\n",
      "\u001b[1;31mType:\u001b[0m      builtin_function_or_method\n"
     ]
    }
   ],
   "source": [
    "??print"
   ]
  },
  {
   "cell_type": "markdown",
   "id": "1d726560",
   "metadata": {},
   "source": [
    "# Pass values in function"
   ]
  },
  {
   "cell_type": "code",
   "execution_count": 8,
   "id": "4090755e",
   "metadata": {},
   "outputs": [
    {
     "name": "stdout",
     "output_type": "stream",
     "text": [
      "A**B**C**D\n"
     ]
    }
   ],
   "source": [
    "# changing seperator\n",
    "print(\"A\",\"B\",\"C\",\"D\",sep=\"**\")"
   ]
  },
  {
   "cell_type": "code",
   "execution_count": 9,
   "id": "03aa024e",
   "metadata": {},
   "outputs": [
    {
     "name": "stdout",
     "output_type": "stream",
     "text": [
      "Line1\tLine2\tLine3\t"
     ]
    }
   ],
   "source": [
    "# changing end\n",
    "print(\"Line1\", end=\"\\t\")\n",
    "print(\"Line2\", end=\"\\t\")\n",
    "print(\"Line3\", end=\"\\t\")"
   ]
  },
  {
   "cell_type": "markdown",
   "id": "d473b120",
   "metadata": {},
   "source": [
    "# Variable"
   ]
  },
  {
   "cell_type": "code",
   "execution_count": 10,
   "id": "98ccda86",
   "metadata": {},
   "outputs": [
    {
     "name": "stdout",
     "output_type": "stream",
     "text": [
      "Huzefa\tBSCS\n",
      "Age 21\n"
     ]
    }
   ],
   "source": [
    "name = \"Huzefa\"\n",
    "end=\"\\t\"\n",
    "age = 21\n",
    "education=\"BSCS\"\n",
    "print(name,end=end)\n",
    "print(education)\n",
    "print(\"Age\",age)"
   ]
  },
  {
   "cell_type": "code",
   "execution_count": 11,
   "id": "41866fd8",
   "metadata": {},
   "outputs": [
    {
     "name": "stdout",
     "output_type": "stream",
     "text": [
      "\n",
      "Name: Huzefa Mustafa\n",
      "Age: 21\n",
      "Education: BSCS\n",
      "\n"
     ]
    }
   ],
   "source": [
    "bio=\"\"\"\n",
    "Name: Huzefa Mustafa\n",
    "Age: 21\n",
    "Education: BSCS\n",
    "\"\"\"\n",
    "print(bio)"
   ]
  },
  {
   "cell_type": "code",
   "execution_count": 12,
   "id": "59557016",
   "metadata": {},
   "outputs": [
    {
     "name": "stdout",
     "output_type": "stream",
     "text": [
      "Huzefa's Code\n"
     ]
    }
   ],
   "source": [
    "double=\"Huzefa\\'s Code\"\n",
    "print(double)"
   ]
  },
  {
   "cell_type": "code",
   "execution_count": 13,
   "id": "dff3aea0",
   "metadata": {},
   "outputs": [
    {
     "name": "stdout",
     "output_type": "stream",
     "text": [
      "Help : \n",
      "No Python documentation found for 'Huzefa'.\n",
      "Use help() to get the interactive help utility.\n",
      "Use help(str) for help on the str class.\n",
      "\n",
      "None\n",
      "\n",
      "Length of variable : \n",
      "6\n",
      "\n",
      "Memory Address of variable : \n",
      "1333375008560\n",
      "\n",
      "Type: \n",
      "<class 'str'>\n",
      "\n",
      "Dir : \n",
      "['__add__', '__class__', '__contains__', '__delattr__', '__dir__', '__doc__', '__eq__', '__format__', '__ge__', '__getattribute__', '__getitem__', '__getnewargs__', '__gt__', '__hash__', '__init__', '__init_subclass__', '__iter__', '__le__', '__len__', '__lt__', '__mod__', '__mul__', '__ne__', '__new__', '__reduce__', '__reduce_ex__', '__repr__', '__rmod__', '__rmul__', '__setattr__', '__sizeof__', '__str__', '__subclasshook__', 'capitalize', 'casefold', 'center', 'count', 'encode', 'endswith', 'expandtabs', 'find', 'format', 'format_map', 'index', 'isalnum', 'isalpha', 'isascii', 'isdecimal', 'isdigit', 'isidentifier', 'islower', 'isnumeric', 'isprintable', 'isspace', 'istitle', 'isupper', 'join', 'ljust', 'lower', 'lstrip', 'maketrans', 'partition', 'removeprefix', 'removesuffix', 'replace', 'rfind', 'rindex', 'rjust', 'rpartition', 'rsplit', 'rstrip', 'split', 'splitlines', 'startswith', 'strip', 'swapcase', 'title', 'translate', 'upper', 'zfill']\n",
      "\n"
     ]
    }
   ],
   "source": [
    "print(\"Help : \")\n",
    "print(help(name), end=\"\\n\\n\")\n",
    "print(\"Length of variable : \")\n",
    "print(len(name), end=\"\\n\\n\")\n",
    "print(\"Memory Address of variable : \")\n",
    "print(id(name), end=\"\\n\\n\")\n",
    "print(\"Type: \")\n",
    "print(type(name), end=\"\\n\\n\")\n",
    "print(\"Dir : \") # all methods and attributes of variable\n",
    "print(dir(name), end=\"\\n\\n\")    "
   ]
  },
  {
   "cell_type": "code",
   "execution_count": null,
   "id": "e86edc8a",
   "metadata": {},
   "outputs": [],
   "source": []
  }
 ],
 "metadata": {
  "kernelspec": {
   "display_name": "Python 3 (ipykernel)",
   "language": "python",
   "name": "python3"
  },
  "language_info": {
   "codemirror_mode": {
    "name": "ipython",
    "version": 3
   },
   "file_extension": ".py",
   "mimetype": "text/x-python",
   "name": "python",
   "nbconvert_exporter": "python",
   "pygments_lexer": "ipython3",
   "version": "3.9.13"
  }
 },
 "nbformat": 4,
 "nbformat_minor": 5
}
