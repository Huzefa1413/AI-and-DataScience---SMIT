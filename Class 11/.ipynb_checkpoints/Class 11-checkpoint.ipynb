{
 "cells": [
  {
   "cell_type": "markdown",
   "id": "bab88e2b",
   "metadata": {},
   "source": [
    "# Importing your own Package"
   ]
  },
  {
   "cell_type": "code",
   "execution_count": 25,
   "id": "b2b2c864",
   "metadata": {},
   "outputs": [
    {
     "data": {
      "text/plain": [
       "['__builtins__',\n",
       " '__cached__',\n",
       " '__doc__',\n",
       " '__file__',\n",
       " '__loader__',\n",
       " '__name__',\n",
       " '__package__',\n",
       " '__spec__',\n",
       " 'average',\n",
       " 'div',\n",
       " 'mul',\n",
       " 'power',\n",
       " 'sub',\n",
       " 'sum']"
      ]
     },
     "execution_count": 25,
     "metadata": {},
     "output_type": "execute_result"
    }
   ],
   "source": [
    "from huzefapackage import functions,greeting\n",
    "dir(functions)"
   ]
  },
  {
   "cell_type": "code",
   "execution_count": 26,
   "id": "c9a4eb4d",
   "metadata": {},
   "outputs": [
    {
     "ename": "NameError",
     "evalue": "name 'power' is not defined",
     "output_type": "error",
     "traceback": [
      "\u001b[1;31m---------------------------------------------------------------------------\u001b[0m",
      "\u001b[1;31mNameError\u001b[0m                                 Traceback (most recent call last)",
      "\u001b[1;32m~\\AppData\\Local\\Temp\\ipykernel_9704\\1744259516.py\u001b[0m in \u001b[0;36m<module>\u001b[1;34m\u001b[0m\n\u001b[1;32m----> 1\u001b[1;33m \u001b[0mprint\u001b[0m\u001b[1;33m(\u001b[0m\u001b[0mpower\u001b[0m\u001b[1;33m(\u001b[0m\u001b[1;36m4\u001b[0m\u001b[1;33m,\u001b[0m\u001b[1;36m5\u001b[0m\u001b[1;33m)\u001b[0m\u001b[1;33m)\u001b[0m\u001b[1;33m\u001b[0m\u001b[1;33m\u001b[0m\u001b[0m\n\u001b[0m",
      "\u001b[1;31mNameError\u001b[0m: name 'power' is not defined"
     ]
    }
   ],
   "source": [
    "print(power(4,5))"
   ]
  },
  {
   "cell_type": "code",
   "execution_count": 27,
   "id": "f4ebf638",
   "metadata": {},
   "outputs": [
    {
     "name": "stdout",
     "output_type": "stream",
     "text": [
      "1024\n"
     ]
    }
   ],
   "source": [
    "print(functions.power(4,5))"
   ]
  },
  {
   "cell_type": "code",
   "execution_count": 28,
   "id": "d6671eaa",
   "metadata": {},
   "outputs": [
    {
     "name": "stdout",
     "output_type": "stream",
     "text": [
      "Hello Huzefa Welcome to Huzefa's Package\n"
     ]
    }
   ],
   "source": [
    "greeting.SayHello(\"Huzefa\")"
   ]
  },
  {
   "cell_type": "markdown",
   "id": "dd955c59",
   "metadata": {},
   "source": [
    "# Import only one or two function from package module"
   ]
  },
  {
   "cell_type": "code",
   "execution_count": 29,
   "id": "abb8fd8e",
   "metadata": {},
   "outputs": [
    {
     "data": {
      "text/plain": [
       "-1"
      ]
     },
     "execution_count": 29,
     "metadata": {},
     "output_type": "execute_result"
    }
   ],
   "source": [
    "from huzefapackage.functions import sub\n",
    "sub(3,4) "
   ]
  },
  {
   "cell_type": "markdown",
   "id": "b1e13f03",
   "metadata": {},
   "source": [
    "# import package model functions with package, we don't need modules name for importing any custom function"
   ]
  },
  {
   "cell_type": "code",
   "execution_count": 31,
   "id": "ecee714e",
   "metadata": {},
   "outputs": [
    {
     "ename": "ImportError",
     "evalue": "cannot import name 'SayHello' from 'huzefapackage' (C:\\Users\\huzef\\Class 11\\huzefapackage\\__init__.py)",
     "output_type": "error",
     "traceback": [
      "\u001b[1;31m---------------------------------------------------------------------------\u001b[0m",
      "\u001b[1;31mImportError\u001b[0m                               Traceback (most recent call last)",
      "\u001b[1;32m~\\AppData\\Local\\Temp\\ipykernel_9704\\789966052.py\u001b[0m in \u001b[0;36m<module>\u001b[1;34m\u001b[0m\n\u001b[1;32m----> 1\u001b[1;33m \u001b[1;32mfrom\u001b[0m \u001b[0mhuzefapackage\u001b[0m \u001b[1;32mimport\u001b[0m \u001b[0mSayHello\u001b[0m\u001b[1;33m,\u001b[0m \u001b[0msub\u001b[0m\u001b[1;33m\u001b[0m\u001b[1;33m\u001b[0m\u001b[0m\n\u001b[0m",
      "\u001b[1;31mImportError\u001b[0m: cannot import name 'SayHello' from 'huzefapackage' (C:\\Users\\huzef\\Class 11\\huzefapackage\\__init__.py)"
     ]
    }
   ],
   "source": [
    "from huzefapackage import SayHello, sub"
   ]
  },
  {
   "cell_type": "markdown",
   "id": "2129a8cb",
   "metadata": {},
   "source": [
    "# Now Install package globally in your computer"
   ]
  },
  {
   "cell_type": "code",
   "execution_count": 32,
   "id": "1c3a31cd",
   "metadata": {},
   "outputs": [
    {
     "name": "stdout",
     "output_type": "stream",
     "text": [
      "Defaulting to user installation because normal site-packages is not writeable\n"
     ]
    },
    {
     "name": "stderr",
     "output_type": "stream",
     "text": [
      "WARNING: Retrying (Retry(total=4, connect=None, read=None, redirect=None, status=None)) after connection broken by 'NewConnectionError('<pip._vendor.urllib3.connection.HTTPSConnection object at 0x00000172AB449400>: Failed to establish a new connection: [Errno 11001] getaddrinfo failed')': /simple/huzefapackage/\n",
      "WARNING: Retrying (Retry(total=3, connect=None, read=None, redirect=None, status=None)) after connection broken by 'NewConnectionError('<pip._vendor.urllib3.connection.HTTPSConnection object at 0x00000172AB449730>: Failed to establish a new connection: [Errno 11001] getaddrinfo failed')': /simple/huzefapackage/\n",
      "WARNING: Retrying (Retry(total=2, connect=None, read=None, redirect=None, status=None)) after connection broken by 'NewConnectionError('<pip._vendor.urllib3.connection.HTTPSConnection object at 0x00000172AB4498E0>: Failed to establish a new connection: [Errno 11001] getaddrinfo failed')': /simple/huzefapackage/\n",
      "WARNING: Retrying (Retry(total=1, connect=None, read=None, redirect=None, status=None)) after connection broken by 'NewConnectionError('<pip._vendor.urllib3.connection.HTTPSConnection object at 0x00000172AB449A90>: Failed to establish a new connection: [Errno 11001] getaddrinfo failed')': /simple/huzefapackage/\n",
      "WARNING: Retrying (Retry(total=0, connect=None, read=None, redirect=None, status=None)) after connection broken by 'NewConnectionError('<pip._vendor.urllib3.connection.HTTPSConnection object at 0x00000172AB449C40>: Failed to establish a new connection: [Errno 11001] getaddrinfo failed')': /simple/huzefapackage/\n",
      "ERROR: Could not find a version that satisfies the requirement huzefapackage (from versions: none)\n",
      "ERROR: No matching distribution found for huzefapackage\n",
      "WARNING: There was an error checking the latest version of pip.\n"
     ]
    }
   ],
   "source": [
    "!pip install huzefapackage"
   ]
  },
  {
   "cell_type": "code",
   "execution_count": null,
   "id": "75af1f77",
   "metadata": {},
   "outputs": [],
   "source": [
    "from huzefapackage import SayHello\n"
   ]
  }
 ],
 "metadata": {
  "kernelspec": {
   "display_name": "Python 3 (ipykernel)",
   "language": "python",
   "name": "python3"
  },
  "language_info": {
   "codemirror_mode": {
    "name": "ipython",
    "version": 3
   },
   "file_extension": ".py",
   "mimetype": "text/x-python",
   "name": "python",
   "nbconvert_exporter": "python",
   "pygments_lexer": "ipython3",
   "version": "3.9.13"
  }
 },
 "nbformat": 4,
 "nbformat_minor": 5
}
